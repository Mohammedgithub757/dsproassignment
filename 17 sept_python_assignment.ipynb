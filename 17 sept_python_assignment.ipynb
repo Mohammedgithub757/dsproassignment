{
 "cells": [
  {
   "cell_type": "markdown",
   "id": "ccb0b6d7-3b9f-479c-9d7b-38f067b9de82",
   "metadata": {},
   "source": [
    "For Loop :-"
   ]
  },
  {
   "cell_type": "markdown",
   "id": "5e6e0de8-447c-4bf0-ae67-35984aeeb8ef",
   "metadata": {},
   "source": [
    "1. Write a Python program to print numbers from 1 to 10 using a for loop."
   ]
  },
  {
   "cell_type": "code",
   "execution_count": 1,
   "id": "d99471bd-fc27-47a6-af63-e00545b2c089",
   "metadata": {},
   "outputs": [
    {
     "name": "stdout",
     "output_type": "stream",
     "text": [
      "1\n",
      "2\n",
      "3\n",
      "4\n",
      "5\n",
      "6\n",
      "7\n",
      "8\n",
      "9\n",
      "10\n"
     ]
    }
   ],
   "source": [
    "for i in range(1,11):\n",
    "    print(i)"
   ]
  },
  {
   "cell_type": "markdown",
   "id": "0280cdd9-e4eb-4213-8be0-961afdcbd3d1",
   "metadata": {},
   "source": [
    "2. Explain the difference between a for loop and a while loop in Python."
   ]
  },
  {
   "cell_type": "markdown",
   "id": "6927e5a0-79dd-4d71-9ef1-dccc97d82219",
   "metadata": {},
   "source": [
    "For loop:\n",
    "1. For loop executes the block of statements for a specific number of times.\n",
    "2. For loop can be used to iterate over the objects of iterables/iterators.\n",
    "3. Initialization and control over the loop are built into the loop structure itself.\n",
    "\n",
    "While loop:\n",
    "\n",
    "1. While loop executes the block of statements until the given condition is true.\n",
    "2. While loop cannot be used to iterate over the objects of iterables/iterators.\n",
    "3.  Initialization and control are done outside the loop."
   ]
  },
  {
   "cell_type": "markdown",
   "id": "de41e93d-c8a9-4efb-9d4f-58c8cfc44922",
   "metadata": {},
   "source": [
    "3. Write a Python program to calculate the sum of all numbers from 1 to 100 using a for loop."
   ]
  },
  {
   "cell_type": "code",
   "execution_count": 4,
   "id": "4cf05746-fbc1-4927-8879-8bbd408d9f08",
   "metadata": {},
   "outputs": [
    {
     "name": "stdout",
     "output_type": "stream",
     "text": [
      "The sum of all numbers from 1 to 100 is 5050\n"
     ]
    }
   ],
   "source": [
    "Sum = 0\n",
    "for i in range(1,101):\n",
    "    Sum += i\n",
    "print(f\"The sum of all numbers from 1 to 100 is {Sum}\")"
   ]
  },
  {
   "cell_type": "markdown",
   "id": "285038ac-87ba-4cd3-9f60-c056dec2e768",
   "metadata": {},
   "source": [
    "4. How do you iterate through a list using a for loop in Python?"
   ]
  },
  {
   "cell_type": "markdown",
   "id": "e726c316-da1e-4af5-9efd-d3a1effeb67e",
   "metadata": {},
   "source": [
    "First we initialize a list and then iterate through the elements using for loop as list is a iterable."
   ]
  },
  {
   "cell_type": "code",
   "execution_count": 5,
   "id": "6128783b-2aa8-4520-8abc-81d5bfbe6765",
   "metadata": {},
   "outputs": [
    {
     "name": "stdout",
     "output_type": "stream",
     "text": [
      "1\n",
      "2\n",
      "3\n",
      "4\n",
      "5\n"
     ]
    }
   ],
   "source": [
    "#Example\n",
    "l = [1,2,3,4,5]\n",
    "for i in l:\n",
    "    print(i)"
   ]
  },
  {
   "cell_type": "markdown",
   "id": "c1ebb548-39f2-4317-bc2c-fe928e7805fc",
   "metadata": {},
   "source": [
    "5. Write a Python program to find the product of all elements in a list using a for loop."
   ]
  },
  {
   "cell_type": "code",
   "execution_count": 6,
   "id": "065737af-81d6-43ac-a7a0-84cec4f37c0c",
   "metadata": {},
   "outputs": [
    {
     "name": "stdout",
     "output_type": "stream",
     "text": [
      "Product of all elements in a list: 120\n"
     ]
    }
   ],
   "source": [
    "l = [1,2,3,4,5]\n",
    "product = 1\n",
    "for i in l:\n",
    "    product *= i\n",
    "print(f\"Product of all elements in a list: {product}\")"
   ]
  },
  {
   "cell_type": "markdown",
   "id": "aa05dc75-ad33-4fbe-9246-ace69fdbe559",
   "metadata": {},
   "source": [
    "6. Create a Python program that prints all even numbers from 1 to 20 using a for loop."
   ]
  },
  {
   "cell_type": "code",
   "execution_count": 7,
   "id": "02f8cf94-cab0-400e-add1-7ea950b3f089",
   "metadata": {},
   "outputs": [
    {
     "name": "stdout",
     "output_type": "stream",
     "text": [
      "2\n",
      "4\n",
      "6\n",
      "8\n",
      "10\n",
      "12\n",
      "14\n",
      "16\n",
      "18\n",
      "20\n"
     ]
    }
   ],
   "source": [
    "for i in range(1,21):\n",
    "    if i % 2 == 0:\n",
    "        print(i)"
   ]
  },
  {
   "cell_type": "markdown",
   "id": "cb655da2-86d5-4f95-b0e5-ca9bc7c27425",
   "metadata": {},
   "source": [
    "7. Write a Python program that calculates the factorial of a number using a for loop."
   ]
  },
  {
   "cell_type": "code",
   "execution_count": 10,
   "id": "aa81d31e-b4e5-4139-99a0-a126b1b6b10b",
   "metadata": {},
   "outputs": [
    {
     "name": "stdin",
     "output_type": "stream",
     "text": [
      "Enter a number:  5\n"
     ]
    },
    {
     "name": "stdout",
     "output_type": "stream",
     "text": [
      "Factorial of a given number is: 120\n"
     ]
    }
   ],
   "source": [
    "n = int(input(\"Enter a number: \"))\n",
    "fact = 1\n",
    "for i in range(n+1):\n",
    "    if i == 0:\n",
    "        continue\n",
    "    else:\n",
    "        fact *= i\n",
    "print(f\"Factorial of a given number is: {fact}\")"
   ]
  },
  {
   "cell_type": "markdown",
   "id": "adeb60bb-d7f4-417f-82de-a98fc8829db0",
   "metadata": {},
   "source": [
    "8. How can you iterate through the characters of a string using a for loop in Python?"
   ]
  },
  {
   "cell_type": "markdown",
   "id": "5459412f-b471-4443-922f-6d23b5dc16d0",
   "metadata": {},
   "source": [
    "As strings are iterables, They can be iterated using for loop"
   ]
  },
  {
   "cell_type": "code",
   "execution_count": 11,
   "id": "6acd3a38-39c7-4084-a516-593525ac85b0",
   "metadata": {},
   "outputs": [
    {
     "name": "stdout",
     "output_type": "stream",
     "text": [
      "E\n",
      "x\n",
      "a\n",
      "m\n",
      "p\n",
      "l\n",
      "e\n",
      " \n",
      "s\n",
      "t\n",
      "r\n",
      "i\n",
      "n\n",
      "g\n"
     ]
    }
   ],
   "source": [
    "string = 'Example string'\n",
    "for i in string:\n",
    "    print(i)"
   ]
  },
  {
   "cell_type": "markdown",
   "id": "f6614cb3-eeb2-49b4-b1d0-349b27d5e178",
   "metadata": {},
   "source": [
    "9. Write a Python program to find the largest number in a list using a for loop."
   ]
  },
  {
   "cell_type": "code",
   "execution_count": 14,
   "id": "1aac0147-e688-416b-a301-dd9fe03d857b",
   "metadata": {},
   "outputs": [
    {
     "name": "stdout",
     "output_type": "stream",
     "text": [
      "84\n"
     ]
    }
   ],
   "source": [
    "l = [34,21,65,39,75,84,13]\n",
    "for i in range(len(l)-1):\n",
    "    if l[i]>l[i+1]:\n",
    "        largest = l[i]\n",
    "print(largest)"
   ]
  },
  {
   "cell_type": "markdown",
   "id": "f732e189-5449-4d6e-900a-5757c62c18fb",
   "metadata": {},
   "source": [
    "10. Create a Python program that prints the Fibonacci sequence up to a specified limit using a for loop."
   ]
  },
  {
   "cell_type": "code",
   "execution_count": 17,
   "id": "b399f3a5-7fc2-4571-a88b-4bdce26ac621",
   "metadata": {},
   "outputs": [
    {
     "name": "stdin",
     "output_type": "stream",
     "text": [
      "Enter the limit:  10\n"
     ]
    },
    {
     "name": "stdout",
     "output_type": "stream",
     "text": [
      "0 1 1 2 3 5 8 13 21 34 "
     ]
    }
   ],
   "source": [
    "n = int(input(\"Enter the limit: \"))\n",
    "a,b = 0,1\n",
    "print(a,end = ' ')\n",
    "print(b,end = ' ')\n",
    "for i in range(3,n+1):\n",
    "    c = a + b\n",
    "    print(c,end = ' ')\n",
    "    a = b\n",
    "    b = c"
   ]
  },
  {
   "cell_type": "markdown",
   "id": "68374755-e2b5-4222-b1e3-dac665cb912c",
   "metadata": {},
   "source": [
    "11. Write a Python program to count the number of vowels in a given string using a for loop."
   ]
  },
  {
   "cell_type": "code",
   "execution_count": 18,
   "id": "b2179804-d663-441d-a9c2-a0a16a8527f2",
   "metadata": {},
   "outputs": [
    {
     "name": "stdout",
     "output_type": "stream",
     "text": [
      "The number of vowels in the given string is 7\n"
     ]
    }
   ],
   "source": [
    "string = 'This is an example string'\n",
    "count = 0\n",
    "for i in string:\n",
    "    i = i.lower()\n",
    "    if i in ['a','e','i','o','u']:\n",
    "        count += 1\n",
    "print(f\"The number of vowels in the given string is {count}\")"
   ]
  },
  {
   "cell_type": "markdown",
   "id": "5f8e5fe0-557a-4f2d-97fc-bb77989fa6e5",
   "metadata": {},
   "source": [
    "12. Create a Python program that generates a multiplication table for a given number using a for loop."
   ]
  },
  {
   "cell_type": "code",
   "execution_count": 20,
   "id": "5f8e7c4f-7181-4835-a330-1d807a623120",
   "metadata": {},
   "outputs": [
    {
     "name": "stdin",
     "output_type": "stream",
     "text": [
      "Enter your number:  5\n"
     ]
    },
    {
     "name": "stdout",
     "output_type": "stream",
     "text": [
      "5 * 1 = 5\n",
      "5 * 2 = 10\n",
      "5 * 3 = 15\n",
      "5 * 4 = 20\n",
      "5 * 5 = 25\n",
      "5 * 6 = 30\n",
      "5 * 7 = 35\n",
      "5 * 8 = 40\n",
      "5 * 9 = 45\n",
      "5 * 10 = 50\n"
     ]
    }
   ],
   "source": [
    "n = int(input(\"Enter your number: \"))\n",
    "for i in range(1,11):\n",
    "    print(f\"{n} * {i} = {n*i}\")"
   ]
  },
  {
   "cell_type": "markdown",
   "id": "cd49c5b0-2324-48ee-9e8f-ef2668a701ec",
   "metadata": {},
   "source": [
    "13. Write a Python program to reverse a list using a for loop."
   ]
  },
  {
   "cell_type": "code",
   "execution_count": 1,
   "id": "31ac23d9-d27d-488f-9f77-3af699a22f43",
   "metadata": {},
   "outputs": [
    {
     "name": "stdout",
     "output_type": "stream",
     "text": [
      "[5, 4, 3, 2, 1]\n"
     ]
    }
   ],
   "source": [
    "l = [1,2,3,4,5]\n",
    "reversed_list = []\n",
    "for item in l[::-1]:\n",
    "    reversed_list.append(item)\n",
    "print(reversed_list)"
   ]
  },
  {
   "cell_type": "markdown",
   "id": "8eb54167-719f-44d0-bfc7-243fd1dfc712",
   "metadata": {},
   "source": [
    "14. Write a Python program to find the common elements between two lists using a for loop."
   ]
  },
  {
   "cell_type": "code",
   "execution_count": 2,
   "id": "cefc851b-4141-4d6f-9407-1bf4df5bf280",
   "metadata": {},
   "outputs": [
    {
     "name": "stdout",
     "output_type": "stream",
     "text": [
      "[43, 21, 50]\n"
     ]
    }
   ],
   "source": [
    "l1 = [25,43,21,50,10,35]\n",
    "l2 = [50,45,15,28,43,21]\n",
    "common_elements = []\n",
    "for i in l1:\n",
    "    if i in l2:\n",
    "        common_elements.append(i)\n",
    "print(common_elements)"
   ]
  },
  {
   "cell_type": "markdown",
   "id": "1a1ec3fc-163a-4ed6-bde0-40c0119ddc6c",
   "metadata": {},
   "source": [
    "15. Explain how to use a for loop to iterate through the keys and values of a dictionary in Python."
   ]
  },
  {
   "cell_type": "code",
   "execution_count": 5,
   "id": "7c0811e4-f33d-4dd9-a1bd-a90e241d4f6b",
   "metadata": {},
   "outputs": [
    {
     "name": "stdout",
     "output_type": "stream",
     "text": [
      "Dictionary keys\n",
      "1 2 3 4 \n",
      "Dictionary values\n",
      "a b c d "
     ]
    }
   ],
   "source": [
    "d = {1:'a',2:'b',3:'c',4:'d'}\n",
    "print(\"Dictionary keys\")\n",
    "for i in d.keys():\n",
    "    print(i,end = ' ')\n",
    "print()\n",
    "print(\"Dictionary values\")\n",
    "for i in d.values():\n",
    "    print(i,end = ' ')"
   ]
  },
  {
   "cell_type": "markdown",
   "id": "435eb41b-f549-4ec2-8814-847cbad04795",
   "metadata": {},
   "source": [
    "16. Write a Python program to find the GCD (Greatest Common Divisor) of two numbers using a for loop."
   ]
  },
  {
   "cell_type": "code",
   "execution_count": 15,
   "id": "5260fc50-f586-46d9-b311-f641c84ad636",
   "metadata": {},
   "outputs": [
    {
     "name": "stdin",
     "output_type": "stream",
     "text": [
      "Enter your first number:  10\n",
      "Enter your second number:  5\n"
     ]
    },
    {
     "name": "stdout",
     "output_type": "stream",
     "text": [
      "GCD of 10 and 5 is 5\n"
     ]
    }
   ],
   "source": [
    "def gcd(n1,n2):\n",
    "    result = min(n1,n2)\n",
    "    for i in range(result,0,-1):\n",
    "        if n1%i==0 and n2%i==0:\n",
    "            return i\n",
    "\n",
    "n1 = int(input(\"Enter your first number: \"))\n",
    "n2 = int(input(\"Enter your second number: \"))\n",
    "print(f\"GCD of {n1} and {n2} is {gcd(n1,n2)}\")"
   ]
  },
  {
   "cell_type": "markdown",
   "id": "590078fd-41dd-4455-b364-35ce7f802c67",
   "metadata": {},
   "source": [
    "17. Create a Python program that checks if a string is a palindrome using a for loop."
   ]
  },
  {
   "cell_type": "code",
   "execution_count": 1,
   "id": "daf76c64-b693-4645-bd01-819ba4f3f8b8",
   "metadata": {},
   "outputs": [
    {
     "name": "stdin",
     "output_type": "stream",
     "text": [
      "Enter a string:  world\n"
     ]
    },
    {
     "name": "stdout",
     "output_type": "stream",
     "text": [
      "Given string is a palindrome: False\n"
     ]
    }
   ],
   "source": [
    "def check(string):\n",
    "    global rev \n",
    "    for i in string[::-1]:\n",
    "        rev = rev + i\n",
    "    if rev == string:\n",
    "        return True\n",
    "    else:\n",
    "        return False\n",
    "s = input(\"Enter a string: \")\n",
    "rev = ''\n",
    "print(f\"Given string is a palindrome: {check(s)}\")"
   ]
  },
  {
   "cell_type": "markdown",
   "id": "a274e58f-0007-40b1-aecb-52a08aa87404",
   "metadata": {},
   "source": [
    "18. Write a Python program to remove duplicates from a list using a for loop."
   ]
  },
  {
   "cell_type": "code",
   "execution_count": 2,
   "id": "89f58487-8dc9-463b-bf78-1f2bbc84200a",
   "metadata": {},
   "outputs": [
    {
     "name": "stdout",
     "output_type": "stream",
     "text": [
      "[1, 2, 5, 3, 4]\n"
     ]
    }
   ],
   "source": [
    "l = [1,2,1,5,3,2,4,5]\n",
    "new_list = []\n",
    "for i in l:\n",
    "    if i in new_list:\n",
    "        continue\n",
    "    else:\n",
    "        new_list.append(i)\n",
    "print(new_list)"
   ]
  },
  {
   "cell_type": "markdown",
   "id": "21a47fed-d473-47d1-88d2-efef7cd79007",
   "metadata": {},
   "source": [
    "19. Create a Python program that counts the number of words in a sentence using a for loop."
   ]
  },
  {
   "cell_type": "code",
   "execution_count": 5,
   "id": "7eae3d5d-d208-436a-8372-077344a1965c",
   "metadata": {},
   "outputs": [
    {
     "name": "stdout",
     "output_type": "stream",
     "text": [
      "number of words in a sentence are: 5\n"
     ]
    }
   ],
   "source": [
    "def count(string):\n",
    "    count = 0\n",
    "    for i in string:\n",
    "        count += 1\n",
    "    return count\n",
    "string = 'This is an example string.'\n",
    "words = string.split()\n",
    "print(f\"number of words in a sentence are: {count(words)}\")"
   ]
  },
  {
   "cell_type": "markdown",
   "id": "810e608f-bea8-48bb-8148-f8e4a3048de5",
   "metadata": {},
   "source": [
    "20. Write a Python program to find the sum of all odd numbers from 1 to 50 using a for loop.\n"
   ]
  },
  {
   "cell_type": "code",
   "execution_count": 7,
   "id": "ab85a0ae-fce6-4a10-9cec-1944b9653b1c",
   "metadata": {},
   "outputs": [
    {
     "name": "stdout",
     "output_type": "stream",
     "text": [
      "sum of all odd numbers from 1 to 50 is 625\n"
     ]
    }
   ],
   "source": [
    "def sum_odd(n):\n",
    "    Sum = 0\n",
    "    for i in range(1,n+1):\n",
    "        if i % 2 != 0:\n",
    "            Sum += i\n",
    "    return Sum\n",
    "print(f\"sum of all odd numbers from 1 to 50 is {sum_odd(50)}\")"
   ]
  },
  {
   "cell_type": "markdown",
   "id": "f50c5dd1-43d5-49f9-a3e3-3e7d2ff1e371",
   "metadata": {},
   "source": [
    "21. Write a Python program that checks if a given year is a leap year using a for loop."
   ]
  },
  {
   "cell_type": "code",
   "execution_count": 2,
   "id": "b38897db-e3cc-4114-a568-6d53a15ea246",
   "metadata": {},
   "outputs": [
    {
     "name": "stdin",
     "output_type": "stream",
     "text": [
      "Enter the number of years to check:  5\n",
      "Enter the year to check:  2000\n"
     ]
    },
    {
     "name": "stdout",
     "output_type": "stream",
     "text": [
      "2000 is a leap year.\n"
     ]
    },
    {
     "name": "stdin",
     "output_type": "stream",
     "text": [
      "Enter the year to check:  2001\n"
     ]
    },
    {
     "name": "stdout",
     "output_type": "stream",
     "text": [
      "2001 is not a leap year.\n"
     ]
    },
    {
     "name": "stdin",
     "output_type": "stream",
     "text": [
      "Enter the year to check:  2002\n"
     ]
    },
    {
     "name": "stdout",
     "output_type": "stream",
     "text": [
      "2002 is not a leap year.\n"
     ]
    },
    {
     "name": "stdin",
     "output_type": "stream",
     "text": [
      "Enter the year to check:  2003\n"
     ]
    },
    {
     "name": "stdout",
     "output_type": "stream",
     "text": [
      "2003 is not a leap year.\n"
     ]
    },
    {
     "name": "stdin",
     "output_type": "stream",
     "text": [
      "Enter the year to check:  2004\n"
     ]
    },
    {
     "name": "stdout",
     "output_type": "stream",
     "text": [
      "2004 is a leap year.\n"
     ]
    }
   ],
   "source": [
    "def leap(year):\n",
    "    if (year % 400 == 0) or (year % 4 == 0 and year % 100 != 0):\n",
    "        return True\n",
    "    else:\n",
    "        return False\n",
    "n = int(input(\"Enter the number of years to check: \"))\n",
    "for i in range(n):\n",
    "    year = int(input(\"Enter the year to check: \"))\n",
    "    if leap(year):\n",
    "        print(f\"{year} is a leap year.\")\n",
    "    else:\n",
    "        print(f\"{year} is not a leap year.\")"
   ]
  },
  {
   "cell_type": "markdown",
   "id": "8a9b7543-6443-48f0-a7ff-d9856e6b9c21",
   "metadata": {},
   "source": [
    "22. Create a Python program that calculates the square root of a number using a for loop."
   ]
  },
  {
   "cell_type": "code",
   "execution_count": 4,
   "id": "f5ff4d26-e4b6-43aa-887c-30f0062f6df5",
   "metadata": {},
   "outputs": [
    {
     "name": "stdin",
     "output_type": "stream",
     "text": [
      "Enter the number of square roots to check:  3\n",
      "Enter your number:  49\n"
     ]
    },
    {
     "name": "stdout",
     "output_type": "stream",
     "text": [
      "Square root of 49 is 7.0\n"
     ]
    },
    {
     "name": "stdin",
     "output_type": "stream",
     "text": [
      "Enter your number:  25\n"
     ]
    },
    {
     "name": "stdout",
     "output_type": "stream",
     "text": [
      "Square root of 25 is 5.0\n"
     ]
    },
    {
     "name": "stdin",
     "output_type": "stream",
     "text": [
      "Enter your number:  9\n"
     ]
    },
    {
     "name": "stdout",
     "output_type": "stream",
     "text": [
      "Square root of 9 is 3.0\n"
     ]
    }
   ],
   "source": [
    "def square_root(num):\n",
    "    return num**0.5\n",
    "n = int(input(\"Enter the number of square roots to check: \"))\n",
    "for i in range(n):\n",
    "    num = int(input(\"Enter your number: \"))\n",
    "    print(f\"Square root of {num} is {square_root(num)}\")"
   ]
  },
  {
   "cell_type": "markdown",
   "id": "690dea04-6d79-4405-afdf-affc5490afca",
   "metadata": {},
   "source": [
    "23. Write a Python program to find the LCM (Least Common Multiple) of two numbers using a for loop.\n"
   ]
  },
  {
   "cell_type": "code",
   "execution_count": 6,
   "id": "e2138a67-f42b-4ce5-a20b-e41634487357",
   "metadata": {},
   "outputs": [
    {
     "name": "stdin",
     "output_type": "stream",
     "text": [
      "Enter your first number:  12\n",
      "Enter your second number:  6\n"
     ]
    },
    {
     "name": "stdout",
     "output_type": "stream",
     "text": [
      "LCM of 12 and 6 is 12\n"
     ]
    }
   ],
   "source": [
    "def lcm(n1,n2):\n",
    "    smallest = min(n1,n2)\n",
    "    largest = max(n1,n2)\n",
    "    for i in range(largest,n1*n2+1,largest):\n",
    "        if i % smallest == 0:\n",
    "            return i\n",
    "num1 = int(input(\"Enter your first number: \"))\n",
    "num2 = int(input(\"Enter your second number: \"))\n",
    "print(f\"LCM of {num1} and {num2} is {lcm(num1,num2)}\")"
   ]
  },
  {
   "cell_type": "markdown",
   "id": "f642b558-510d-45b3-944c-b9b8c186a976",
   "metadata": {},
   "source": [
    "If else :"
   ]
  },
  {
   "cell_type": "markdown",
   "id": "a2e35b17-149e-47d2-bc1e-97cf2509b49c",
   "metadata": {},
   "source": [
    "1. Write a Python program to check if a number is positive, negative, or zero using an if-else statement."
   ]
  },
  {
   "cell_type": "code",
   "execution_count": 3,
   "id": "e6151195-0e8a-459d-9c94-9acdbecbb23a",
   "metadata": {},
   "outputs": [
    {
     "name": "stdin",
     "output_type": "stream",
     "text": [
      "Enter a number:  0\n"
     ]
    },
    {
     "name": "stdout",
     "output_type": "stream",
     "text": [
      "Entered number is negative.\n"
     ]
    }
   ],
   "source": [
    "n = int(input(\"Enter a number: \"))\n",
    "if n > 0:\n",
    "    if n == 0:\n",
    "        print(\"Given number is zero.\")\n",
    "    else:\n",
    "        print(\"Given number is positive.\")\n",
    "else:\n",
    "    print(\"Entered number is negative.\")"
   ]
  },
  {
   "cell_type": "markdown",
   "id": "572372d9-e55a-4f9e-93f5-d686b5602af5",
   "metadata": {},
   "source": [
    "2. Create a Python program that checks if a given number is even or odd using an if-else statement."
   ]
  },
  {
   "cell_type": "code",
   "execution_count": 4,
   "id": "22b2a016-6a70-418b-b715-81251fdd1d71",
   "metadata": {},
   "outputs": [
    {
     "name": "stdin",
     "output_type": "stream",
     "text": [
      "Enter a number:  5\n"
     ]
    },
    {
     "name": "stdout",
     "output_type": "stream",
     "text": [
      "5 is an odd number.\n"
     ]
    }
   ],
   "source": [
    "n = int(input(\"Enter a number: \"))\n",
    "if n % 2 == 0:\n",
    "    print(f\"{n} is an even number.\")\n",
    "else:\n",
    "    print(f\"{n} is an odd number.\")"
   ]
  },
  {
   "cell_type": "markdown",
   "id": "cd3dbb2a-9ad4-4a25-a737-abab8b7ca136",
   "metadata": {},
   "source": [
    "3. How can you use nested if-else statements in Python, and provide an example?"
   ]
  },
  {
   "cell_type": "markdown",
   "id": "fc1af365-305f-4476-aff6-e99d9bc7d838",
   "metadata": {},
   "source": [
    "Nested if-else statement can be used by using if-else inside an if-else ststement.\n",
    "eg:"
   ]
  },
  {
   "cell_type": "code",
   "execution_count": 9,
   "id": "04e2926d-a00e-4e26-9125-64a43ae6d0ea",
   "metadata": {},
   "outputs": [
    {
     "name": "stdin",
     "output_type": "stream",
     "text": [
      "Enter your age:  17\n"
     ]
    },
    {
     "name": "stdout",
     "output_type": "stream",
     "text": [
      "You are a teenager.\n"
     ]
    }
   ],
   "source": [
    "age = int(input(\"Enter your age: \"))\n",
    "if age >= 55:\n",
    "    print(\"You are an old person.\")\n",
    "else:\n",
    "    if age >= 18:\n",
    "        print(\"You are an adult person.\")\n",
    "    else:\n",
    "        print(\"You are a teenager.\")"
   ]
  },
  {
   "cell_type": "markdown",
   "id": "38647084-7b2c-4faf-9a89-0d3befb422c1",
   "metadata": {},
   "source": [
    "4. Write a Python program to determine the largest of three numbers using if-else."
   ]
  },
  {
   "cell_type": "code",
   "execution_count": 12,
   "id": "3e636f7a-02f0-4422-8a8a-f0266394987a",
   "metadata": {},
   "outputs": [
    {
     "name": "stdin",
     "output_type": "stream",
     "text": [
      "Enter first number:  10\n",
      "Enter second number:  25\n",
      "Enter third number:  15\n"
     ]
    },
    {
     "name": "stdout",
     "output_type": "stream",
     "text": [
      "25 is the largest number. \n"
     ]
    }
   ],
   "source": [
    "n1 = int(input(\"Enter first number: \"))\n",
    "n2 = int(input(\"Enter second number: \"))\n",
    "n3 = int(input(\"Enter third number: \"))\n",
    "if n1 > n2 and n1 > n3:\n",
    "    print(f\"{n1} is the largest number. \")\n",
    "else:\n",
    "    if n2 > n3:\n",
    "        print(f\"{n2} is the largest number. \")\n",
    "    else:\n",
    "        print(f\"{n3} is the largest number. \")"
   ]
  },
  {
   "cell_type": "markdown",
   "id": "05eb4eff-556f-4813-954d-4377a9d19f41",
   "metadata": {},
   "source": [
    "5. Write a Python program that calculates the absolute value of a number using if-else."
   ]
  },
  {
   "cell_type": "code",
   "execution_count": 15,
   "id": "e618975e-06d4-41db-bc54-503927c15f29",
   "metadata": {},
   "outputs": [
    {
     "name": "stdin",
     "output_type": "stream",
     "text": [
      "Enter a number:  -2\n"
     ]
    },
    {
     "name": "stdout",
     "output_type": "stream",
     "text": [
      "2\n"
     ]
    }
   ],
   "source": [
    "n = int(input(\"Enter a number: \"))\n",
    "if n < 0:\n",
    "    print(-(n))\n",
    "else:\n",
    "    print(n)"
   ]
  },
  {
   "cell_type": "markdown",
   "id": "64a52714-ec8f-4c3f-a0d1-4578b5bab622",
   "metadata": {},
   "source": [
    "6. Create a Python program that checks if a given character is a vowel or consonant using if-else."
   ]
  },
  {
   "cell_type": "code",
   "execution_count": 2,
   "id": "f063f00a-890f-4381-a72c-9c064dde661b",
   "metadata": {},
   "outputs": [
    {
     "name": "stdin",
     "output_type": "stream",
     "text": [
      "Enter a character:  i\n",
      "Enter a character:  d\n"
     ]
    },
    {
     "name": "stdout",
     "output_type": "stream",
     "text": [
      "Entered character is a vowel.\n",
      "Entered character is a consonant.\n"
     ]
    }
   ],
   "source": [
    "def check(char):\n",
    "    if char in ['a','e','i','o','u','A','E','I','O','U']:\n",
    "        print(\"Entered character is a vowel.\")\n",
    "    else:\n",
    "        print(\"Entered character is a consonant.\")\n",
    "char1 = input(\"Enter a character: \")\n",
    "char2 = input(\"Enter a character: \")\n",
    "check(char1)\n",
    "check(char2) "
   ]
  },
  {
   "cell_type": "markdown",
   "id": "8350c204-b343-467d-a69f-d8d3487582ca",
   "metadata": {},
   "source": [
    "7. Write a Python program to determine if a user is eligible to vote based on their age using if-else."
   ]
  },
  {
   "cell_type": "code",
   "execution_count": 3,
   "id": "cd896946-538f-49e3-b8f0-5ba5bf4dd6d0",
   "metadata": {},
   "outputs": [
    {
     "name": "stdin",
     "output_type": "stream",
     "text": [
      "Enter your age:  21\n"
     ]
    },
    {
     "name": "stdout",
     "output_type": "stream",
     "text": [
      "You are eligible to vote.\n"
     ]
    }
   ],
   "source": [
    "def eligibility(age):\n",
    "    if age >= 18:\n",
    "        print(\"You are eligible to vote.\")\n",
    "    else:\n",
    "        print(\"You are not eligible to vote.\")\n",
    "age = int(input(\"Enter your age: \"))\n",
    "eligibility(age)"
   ]
  },
  {
   "cell_type": "markdown",
   "id": "04c4963b-9f03-46af-9f05-476ced431e53",
   "metadata": {},
   "source": [
    "8. Create a Python program that calculates the discount amount based on the purchase amount using if-else."
   ]
  },
  {
   "cell_type": "code",
   "execution_count": 18,
   "id": "50a42b48-5a35-4355-86cc-dd873e3ca599",
   "metadata": {},
   "outputs": [
    {
     "name": "stdin",
     "output_type": "stream",
     "text": [
      "Enter your purchase amount:  4500\n"
     ]
    },
    {
     "name": "stdout",
     "output_type": "stream",
     "text": [
      "You have availed a discount of 20% on your purchase amount 4500 i.e.. 900.0\n"
     ]
    }
   ],
   "source": [
    "def calc(amt):\n",
    "    if amt >= 5000:\n",
    "        print(f\"You have availed a discount of 30% on your purchase amount {amount} i.e..\",(amt*0.3))\n",
    "    elif 3000<= amt <5000:\n",
    "        print(f\"You have availed a discount of 20% on your purchase amount {amount} i.e..\",(amt*0.2))\n",
    "    elif amt < 3000:\n",
    "        print(f\"You have availed a discount of 10% on your purchase amount {amount} i.e..\",(amt*0.1))\n",
    "amount = int(input(\"Enter your purchase amount: \"))\n",
    "calc(amount)"
   ]
  },
  {
   "cell_type": "markdown",
   "id": "2fee01b5-6d03-44a0-a8b5-c454cce43bb6",
   "metadata": {},
   "source": [
    "9. Write a Python program to check if a number is within a specified range using if-else."
   ]
  },
  {
   "cell_type": "code",
   "execution_count": 1,
   "id": "ff555100-71b8-4347-a22f-0de9ab914aec",
   "metadata": {},
   "outputs": [
    {
     "name": "stdin",
     "output_type": "stream",
     "text": [
      "Enter a number:  65\n"
     ]
    },
    {
     "name": "stdout",
     "output_type": "stream",
     "text": [
      "Entered number is within specified range.\n"
     ]
    }
   ],
   "source": [
    "n = int(input(\"Enter a number: \"))\n",
    "if 20 <= n <= 80:\n",
    "    print(\"Entered number is within specified range.\")\n",
    "else:\n",
    "    print(\"Entered number is not within specified range.\") "
   ]
  },
  {
   "cell_type": "markdown",
   "id": "adb615ce-cf3e-4335-8a92-204df4b98e47",
   "metadata": {},
   "source": [
    "10. Create a Python program that determines the grade of a student based on their score using if-else."
   ]
  },
  {
   "cell_type": "code",
   "execution_count": 2,
   "id": "a5bb510c-7203-4ee5-8924-43ef3d3ce37b",
   "metadata": {},
   "outputs": [
    {
     "name": "stdin",
     "output_type": "stream",
     "text": [
      "Enter your score:  74\n"
     ]
    },
    {
     "name": "stdout",
     "output_type": "stream",
     "text": [
      "B Grade\n"
     ]
    }
   ],
   "source": [
    "def grade(score):\n",
    "    if score >= 80:\n",
    "        print(\"A Grade\")\n",
    "    elif score >= 65:\n",
    "        print(\"B Grade\")\n",
    "    elif score >= 35:\n",
    "        print(\"C Grade\")\n",
    "    else:\n",
    "        print(\"Fail\")\n",
    "score = int(input(\"Enter your score: \"))\n",
    "grade(score)"
   ]
  },
  {
   "cell_type": "markdown",
   "id": "39e306ce-30b5-4e12-aed7-3f1d72e5bb90",
   "metadata": {
    "jp-MarkdownHeadingCollapsed": true,
    "tags": []
   },
   "source": [
    "11. Write a Python program to check if a string is empty or not using if-else"
   ]
  },
  {
   "cell_type": "code",
   "execution_count": 3,
   "id": "f4841108-c45d-49cc-a45f-4b4f593f0fed",
   "metadata": {},
   "outputs": [
    {
     "name": "stdout",
     "output_type": "stream",
     "text": [
      "String is empty\n"
     ]
    }
   ],
   "source": [
    "def isempty(string):\n",
    "    if string == '':\n",
    "        print(\"String is empty\")\n",
    "    else:\n",
    "        print(\"String is not empty\")\n",
    "string = ''\n",
    "isempty(string)"
   ]
  },
  {
   "cell_type": "markdown",
   "id": "53f21c81-083a-497d-8a97-305ac98e2a9d",
   "metadata": {},
   "source": [
    "12. Create a Python program that identifies the type of a triangle (e.g., equilateral, isosceles, or scalene) based on input values using if-else."
   ]
  },
  {
   "cell_type": "code",
   "execution_count": 9,
   "id": "93d68572-84b9-4c10-8e0c-cae465bd3296",
   "metadata": {},
   "outputs": [
    {
     "name": "stdin",
     "output_type": "stream",
     "text": [
      "Enter first side of triangle:  13\n",
      "Enter second side of triangle:  56\n",
      "Enter third side of triangle:  13\n"
     ]
    },
    {
     "name": "stdout",
     "output_type": "stream",
     "text": [
      "It's an Isosceles triangle.\n"
     ]
    }
   ],
   "source": [
    "def triangle(s1,s2,s3):\n",
    "    if s1==s2 and s2==s3:\n",
    "        print(\"It's an equilateral triangle.\")\n",
    "    elif s1 == s2 or s2 == s3 or s1 == s3:\n",
    "        print(\"It's an Isosceles triangle.\")\n",
    "    elif s1 != s2 and s2 != s3 and s1 != s3:\n",
    "        print(\"It's a Scalene triangle.\")\n",
    "s1 = int(input(\"Enter first side of triangle: \"))\n",
    "s2 = int(input(\"Enter second side of triangle: \"))\n",
    "s3 = int(input(\"Enter third side of triangle: \"))\n",
    "triangle(s1,s2,s3)"
   ]
  },
  {
   "cell_type": "markdown",
   "id": "822040ed-8428-4cc4-bd2e-99291d985dc4",
   "metadata": {},
   "source": [
    "13. Write a Python program to determine the day of the week based on a user-provided number using if-else."
   ]
  },
  {
   "cell_type": "code",
   "execution_count": 1,
   "id": "4b25e1a0-bc2c-48e5-9887-9d937d5e0800",
   "metadata": {},
   "outputs": [
    {
     "name": "stdin",
     "output_type": "stream",
     "text": [
      "Enter the number of the day of week:  5\n"
     ]
    },
    {
     "name": "stdout",
     "output_type": "stream",
     "text": [
      "Thursday\n"
     ]
    }
   ],
   "source": [
    "def week(day):\n",
    "    if day == 0 or day > 7:\n",
    "        print(\"Enter a valid day of the week\")\n",
    "    else:\n",
    "        if day == 1:\n",
    "            print(\"Sunday\")\n",
    "        elif day == 2:\n",
    "            print(\"Monday\")\n",
    "        elif day == 3:\n",
    "            print(\"Tuesday\")\n",
    "        elif day == 4:\n",
    "            print(\"Wednesday\")\n",
    "        elif day == 5:\n",
    "            print(\"Thursday\")\n",
    "        elif day == 6:\n",
    "            print(\"Friday\")\n",
    "        elif day == 7:\n",
    "            print(\"Saturday\")\n",
    "day = int(input(\"Enter the number of the day of week: \"))\n",
    "week(day)"
   ]
  },
  {
   "cell_type": "markdown",
   "id": "fff26b6b-379f-494b-9d6b-70fd5ff6e689",
   "metadata": {},
   "source": [
    "14. Create a Python program that checks if a given year is a leap year using both if-else and a function."
   ]
  },
  {
   "cell_type": "code",
   "execution_count": 7,
   "id": "2614660a-e277-452b-974e-59b6b7dc1af0",
   "metadata": {},
   "outputs": [
    {
     "name": "stdin",
     "output_type": "stream",
     "text": [
      "Enter a year:  2004\n"
     ]
    },
    {
     "name": "stdout",
     "output_type": "stream",
     "text": [
      "2004 is a leap year\n"
     ]
    }
   ],
   "source": [
    "def leap(year):\n",
    "    if (year%400==0) or (year%4==0 and year%100!=0):\n",
    "        print(f\"{year} is a leap year\")\n",
    "    else:\n",
    "        print(f\"{year} is not a leap year\")\n",
    "year = int(input(\"Enter a year: \"))\n",
    "leap(year)"
   ]
  },
  {
   "cell_type": "markdown",
   "id": "7732553f-bf20-4ef3-b83e-9e09548f86e4",
   "metadata": {},
   "source": [
    "15. How do you use the \"assert\" statement in Python to add debugging checks within if-else blocks?"
   ]
  },
  {
   "cell_type": "markdown",
   "id": "3348a279-d07f-4dfe-9afb-d8fe0f0fe556",
   "metadata": {},
   "source": [
    "Assert keyword is used to check the condition for further execution of statements, to ensure the results are accurate and reliable. It returns True or False based the specified condition that it has to pass to move further for execution otherwise it throws an assertion error."
   ]
  },
  {
   "cell_type": "code",
   "execution_count": 9,
   "id": "82c563e4-556e-4f24-b1c6-1986d181b89d",
   "metadata": {},
   "outputs": [
    {
     "name": "stdout",
     "output_type": "stream",
     "text": [
      "35 OK\n",
      "26 OK\n",
      "28 OK\n",
      "30 OK\n",
      "45 OK\n"
     ]
    },
    {
     "ename": "AssertionError",
     "evalue": "Batch rejected",
     "output_type": "error",
     "traceback": [
      "\u001b[0;31m---------------------------------------------------------------------------\u001b[0m",
      "\u001b[0;31mAssertionError\u001b[0m                            Traceback (most recent call last)",
      "Cell \u001b[0;32mIn[9], line 8\u001b[0m\n\u001b[1;32m      6\u001b[0m batch2 \u001b[38;5;241m=\u001b[39m [\u001b[38;5;241m25\u001b[39m,\u001b[38;5;241m35\u001b[39m,\u001b[38;5;241m30\u001b[39m,\u001b[38;5;241m38\u001b[39m,\u001b[38;5;241m28\u001b[39m]\n\u001b[1;32m      7\u001b[0m temp(batch1)\n\u001b[0;32m----> 8\u001b[0m \u001b[43mtemp\u001b[49m\u001b[43m(\u001b[49m\u001b[43mbatch2\u001b[49m\u001b[43m)\u001b[49m\n",
      "Cell \u001b[0;32mIn[9], line 3\u001b[0m, in \u001b[0;36mtemp\u001b[0;34m(batch)\u001b[0m\n\u001b[1;32m      1\u001b[0m \u001b[38;5;28;01mdef\u001b[39;00m \u001b[38;5;21mtemp\u001b[39m(batch):\n\u001b[1;32m      2\u001b[0m     \u001b[38;5;28;01mfor\u001b[39;00m i \u001b[38;5;129;01min\u001b[39;00m batch:\n\u001b[0;32m----> 3\u001b[0m         \u001b[38;5;28;01massert\u001b[39;00m i \u001b[38;5;241m>\u001b[39m\u001b[38;5;241m=\u001b[39m \u001b[38;5;241m26\u001b[39m, \u001b[38;5;124m'\u001b[39m\u001b[38;5;124mBatch rejected\u001b[39m\u001b[38;5;124m'\u001b[39m\n\u001b[1;32m      4\u001b[0m         \u001b[38;5;28mprint\u001b[39m(i,\u001b[38;5;124m'\u001b[39m\u001b[38;5;124mOK\u001b[39m\u001b[38;5;124m'\u001b[39m)\n",
      "\u001b[0;31mAssertionError\u001b[0m: Batch rejected"
     ]
    }
   ],
   "source": [
    "def temp(batch):\n",
    "    for i in batch:\n",
    "        assert i >= 26, 'Batch rejected'\n",
    "        print(i,'OK')\n",
    "batch1 = [35,26,28,30,45]\n",
    "batch2 = [25,35,30,38,28]\n",
    "temp(batch1)\n",
    "temp(batch2)"
   ]
  },
  {
   "cell_type": "markdown",
   "id": "1f5ba4d6-84d6-42b1-a09b-aed6274199f5",
   "metadata": {},
   "source": [
    "16. Create a Python program that determines the eligibility of a person for a senior citizen discount based on age using if-else.\n"
   ]
  },
  {
   "cell_type": "code",
   "execution_count": 1,
   "id": "b5fa0347-e5ac-46b4-9e81-e545aa50d620",
   "metadata": {},
   "outputs": [
    {
     "name": "stdin",
     "output_type": "stream",
     "text": [
      "Enter your age:  57\n"
     ]
    },
    {
     "name": "stdout",
     "output_type": "stream",
     "text": [
      "You are eligible for senior citizen discount\n"
     ]
    }
   ],
   "source": [
    "def iseligible(age):\n",
    "    if age >= 55:\n",
    "        print(\"You are eligible for senior citizen discount\")\n",
    "    else:\n",
    "        print(\"You are not eligible for senior citizen discount\") \n",
    "age = int(input(\"Enter your age: \"))\n",
    "iseligible(age)"
   ]
  },
  {
   "cell_type": "markdown",
   "id": "395face5-e62b-413a-aaa0-5b956505ef45",
   "metadata": {},
   "source": [
    "17. Write a Python program to categorize a given character as uppercase, lowercase, or neither using if-else."
   ]
  },
  {
   "cell_type": "code",
   "execution_count": 13,
   "id": "856b5248-2f6f-47a9-8e99-0e486adf0ad6",
   "metadata": {},
   "outputs": [
    {
     "name": "stdin",
     "output_type": "stream",
     "text": [
      "Enter a character:  *\n"
     ]
    },
    {
     "name": "stdout",
     "output_type": "stream",
     "text": [
      "* is neither uppercase nor lowercase.\n"
     ]
    }
   ],
   "source": [
    "def case(char):\n",
    "    if char.isupper():\n",
    "        print(f\"{char} is an uppercase character.\")\n",
    "    elif char.islower():\n",
    "        print(f\"{char} is a lowercase character.\")\n",
    "    else:\n",
    "        print(f\"{char} is neither uppercase nor lowercase.\")\n",
    "char = input(\"Enter a character: \")\n",
    "case(char)"
   ]
  },
  {
   "cell_type": "markdown",
   "id": "87b7b9c3-40c8-44ce-a977-dbf3dcbb501d",
   "metadata": {},
   "source": [
    "18. Write a Python program to determine the roots of a quadratic equation using if-else."
   ]
  },
  {
   "cell_type": "code",
   "execution_count": 21,
   "id": "58f6d77f-6636-4888-a384-f5e827f13914",
   "metadata": {},
   "outputs": [
    {
     "name": "stdin",
     "output_type": "stream",
     "text": [
      "Enter the value of a:  1\n",
      "Enter the value of b:  1\n",
      "Enter the value of c:  1\n"
     ]
    },
    {
     "name": "stdout",
     "output_type": "stream",
     "text": [
      "Roots are imaginary\n",
      "-0.5 + i 1.7320508075688772\n",
      "-0.5 - i 1.7320508075688772\n"
     ]
    }
   ],
   "source": [
    "import math\n",
    "def quadequ(a,b,c):\n",
    "    dis = b*b-4*a*c\n",
    "    sqrt_val = math.sqrt(abs(dis))\n",
    "    if dis > 0:\n",
    "        print(\"Roots are real and different\")\n",
    "        print(-b+sqrt_val/(2*a))\n",
    "        print(-b-sqrt_val/(2*a))\n",
    "    elif dis == 0:\n",
    "        print(\"Roots are real and equal \")\n",
    "        print(-b/(2*a))\n",
    "    else:\n",
    "        print(\"Roots are imaginary\")\n",
    "        print(- b / (2 * a), '+ i', sqrt_val)\n",
    "        print(- b / (2 * a), '- i', sqrt_val)\n",
    "a = int(input(\"Enter the value of a: \"))\n",
    "b = int(input(\"Enter the value of b: \"))\n",
    "c = int(input(\"Enter the value of c: \"))\n",
    "if a == 0:\n",
    "    print(\"Not a quadratic equation.\")\n",
    "else:\n",
    "    quadequ(a,b,c)"
   ]
  },
  {
   "cell_type": "markdown",
   "id": "e6cc02cd-5fef-46a7-8e14-fc9092a9b951",
   "metadata": {},
   "source": [
    "19. Create a Python program that checks if a given year is a century year or not using if-else."
   ]
  },
  {
   "cell_type": "code",
   "execution_count": 6,
   "id": "2bcffa90-1fde-4414-ba4c-44cbb84da0ff",
   "metadata": {},
   "outputs": [
    {
     "name": "stdin",
     "output_type": "stream",
     "text": [
      "Enter year:  2000\n"
     ]
    },
    {
     "name": "stdout",
     "output_type": "stream",
     "text": [
      "2000 is not a century year.\n"
     ]
    }
   ],
   "source": [
    "def iscentury_year(year):\n",
    "    if year % 400 != 0:\n",
    "        print(f\"{year} is a century year.\")\n",
    "    else:\n",
    "        print(f\"{year} is not a century year.\")\n",
    "year = int(input(\"Enter year: \"))\n",
    "iscentury_year(year)"
   ]
  },
  {
   "cell_type": "markdown",
   "id": "1944f078-acb4-4b43-a64f-4c143a80f853",
   "metadata": {},
   "source": [
    "20. Write a Python program to determine if a given number is a perfect square using if-else."
   ]
  },
  {
   "cell_type": "code",
   "execution_count": 25,
   "id": "1e857b62-009a-4b37-8d2f-85d6d3e5ada7",
   "metadata": {},
   "outputs": [
    {
     "name": "stdin",
     "output_type": "stream",
     "text": [
      "Enter your number:  4\n"
     ]
    },
    {
     "name": "stdout",
     "output_type": "stream",
     "text": [
      "4 is a perfect square.\n"
     ]
    }
   ],
   "source": [
    "import math\n",
    "def perfect_square(num):\n",
    "    square_root = math.sqrt(num)\n",
    "    if square_root.is_integer():\n",
    "        print(f\"{num} is a perfect square.\")\n",
    "    else:\n",
    "         print(f\"{num} is not a perfect square.\")\n",
    "num = int(input(\"Enter your number: \"))\n",
    "perfect_square(num)"
   ]
  },
  {
   "cell_type": "markdown",
   "id": "238a0080-e5cf-4c68-9a90-07788d7c8fb5",
   "metadata": {},
   "source": [
    "21. Explain the purpose of the \"continue\" and \"break\" statements within if-else loops."
   ]
  },
  {
   "cell_type": "markdown",
   "id": "c03523ff-1eba-4ead-ad7c-72a1eeac087d",
   "metadata": {},
   "source": [
    "First of all, if-else is not a loop. if-else is used for condition checking and execute the following statements/block of code. Purpose of \"continue\" and \"break\" is in looping statements, where \"continue\" is used to skip that particular iteration and continue with next iteration. Whereas \"break\" statement is used to break out of the loop and continue the execution of statements outside the loop."
   ]
  },
  {
   "cell_type": "markdown",
   "id": "048903e1-cdcc-4a8e-9fe1-dac3958c8e27",
   "metadata": {},
   "source": [
    "22. Create a Python program that calculates the BMI (Body Mass Index) of a person based on their weight and height using if-else."
   ]
  },
  {
   "cell_type": "code",
   "execution_count": 26,
   "id": "7cd987ae-5fca-4b57-9282-42588be1e76a",
   "metadata": {},
   "outputs": [
    {
     "name": "stdin",
     "output_type": "stream",
     "text": [
      "Enter your height:  175\n",
      "Enter your weight:  68\n"
     ]
    },
    {
     "name": "stdout",
     "output_type": "stream",
     "text": [
      "BMI of your body is: 22.2\n"
     ]
    }
   ],
   "source": [
    "def calc(weight,height):\n",
    "    if weight == 0 or height == 0:\n",
    "        print(\"Enter Height and weight.\")\n",
    "    else:\n",
    "        bmi = round((weight/height**2)*10000,2)\n",
    "        return bmi\n",
    "height = float(input(\"Enter your height: \"))\n",
    "weight = float(input(\"Enter your weight: \"))\n",
    "print(f\"BMI of your body is: {calc(weight,height)}\")"
   ]
  },
  {
   "cell_type": "markdown",
   "id": "ff7012ab-7fdd-4692-a6b6-9a5c0e714da6",
   "metadata": {},
   "source": [
    "23. How can you use the \"filter()\" function with if-else statements to filter elements from a list?"
   ]
  },
  {
   "cell_type": "code",
   "execution_count": 30,
   "id": "e3a2a9bc-4e39-4e2d-a4ff-b522d3213ea7",
   "metadata": {},
   "outputs": [
    {
     "data": {
      "text/plain": [
       "[1, 3, 5, 7, 9]"
      ]
     },
     "execution_count": 30,
     "metadata": {},
     "output_type": "execute_result"
    }
   ],
   "source": [
    "l = [1,2,3,4,5,6,7,8,9]\n",
    "list(filter(lambda x: x if x%2 != 0 else False ,l))"
   ]
  },
  {
   "cell_type": "markdown",
   "id": "ef942d12-f90e-44ea-8324-3b76f401131e",
   "metadata": {},
   "source": [
    "24. Write a Python program to determine if a given number is prime or not using if-else."
   ]
  },
  {
   "cell_type": "code",
   "execution_count": 1,
   "id": "399f0fbb-6b26-4136-8cf7-d61409d852b5",
   "metadata": {},
   "outputs": [
    {
     "name": "stdin",
     "output_type": "stream",
     "text": [
      "Enter a number:  5\n"
     ]
    },
    {
     "name": "stdout",
     "output_type": "stream",
     "text": [
      "5 is a prime number.\n"
     ]
    }
   ],
   "source": [
    "def isprime(num):\n",
    "    if num <= 1:\n",
    "        print(f\"{num} is not a prime number.\")\n",
    "    else:\n",
    "        for i in range(2,num):\n",
    "            if num % i == 0:\n",
    "                print(f\"{num} is not a prime number.\")\n",
    "                break\n",
    "        else:\n",
    "            print(f\"{num} is a prime number.\")\n",
    "num = int(input(\"Enter a number: \"))\n",
    "isprime(num)"
   ]
  },
  {
   "cell_type": "markdown",
   "id": "0e1ce635-6ccc-4cbe-9b34-123400f19a95",
   "metadata": {},
   "source": [
    "Map :-"
   ]
  },
  {
   "cell_type": "markdown",
   "id": "4acd0a87-a79a-4de4-b1ef-25d1e7a117e4",
   "metadata": {},
   "source": [
    "1. Explain the purpose of the `map()` function in Python and provide an example of how it can be used to apply a function to each element of an iterable."
   ]
  },
  {
   "cell_type": "markdown",
   "id": "e86880e8-7d91-41a5-a1e7-b2597a66aa13",
   "metadata": {},
   "source": [
    "Map function in python is higher-order function which takes function as an arguement to apply the required operation on each element of iterables where this function does by mapping to each and every element of iterables and returns in required iterable. "
   ]
  },
  {
   "cell_type": "code",
   "execution_count": 2,
   "id": "62654e84-7a3b-4593-b0c2-59b416e005fc",
   "metadata": {},
   "outputs": [
    {
     "data": {
      "text/plain": [
       "[2, 4, 6, 8, 10]"
      ]
     },
     "execution_count": 2,
     "metadata": {},
     "output_type": "execute_result"
    }
   ],
   "source": [
    "#example:\n",
    "l = [1,2,3,4,5]\n",
    "list(map(lambda x : x*2,l))"
   ]
  },
  {
   "cell_type": "markdown",
   "id": "584f4127-5341-403f-b813-07fba538ceb2",
   "metadata": {},
   "source": [
    "2. Write a Python program that uses the `map()` function to square each element of a list of numbers.\n"
   ]
  },
  {
   "cell_type": "code",
   "execution_count": 3,
   "id": "9be549d0-a2ab-4d70-b8a3-c236403301e9",
   "metadata": {},
   "outputs": [
    {
     "data": {
      "text/plain": [
       "[100, 400, 900, 1600, 2500]"
      ]
     },
     "execution_count": 3,
     "metadata": {},
     "output_type": "execute_result"
    }
   ],
   "source": [
    "l = [10,20,30,40,50]\n",
    "list(map(lambda x: x**2,l))"
   ]
  },
  {
   "cell_type": "markdown",
   "id": "c6a976c6-9f9d-43c0-96dc-da7c613bc1e9",
   "metadata": {},
   "source": [
    "3. How does the `map()` function differ from a list comprehension in Python, and when would you choose one over the other?\n"
   ]
  },
  {
   "cell_type": "markdown",
   "id": "ce50b6c4-72f2-46ef-977a-1947e6b3604b",
   "metadata": {},
   "source": [
    "* Map function returns an object of iterables. Whereas list comprehension returns a list.\n",
    "* Map function is a higher order function. list comprehension creates a list from the existing list.\n",
    "* Map function takes function as an arguemnt to which each value of iterable is sent as an arguement to that function. List comprehension can take any iterable.\n",
    "\n",
    "Map - we would choose map function when we have a function already defined to apply the functionality on elements of iterables.\n",
    "\n",
    "list comprehension - we would choose this in case of readability, applying conditional statements and much variations in parameters. "
   ]
  },
  {
   "cell_type": "markdown",
   "id": "badf4d2b-f477-4c12-af1e-f7688b36f977",
   "metadata": {},
   "source": [
    "4. Create a Python program that uses the `map()` function to convert a list of names to uppercase."
   ]
  },
  {
   "cell_type": "code",
   "execution_count": 1,
   "id": "a060d978-c9d6-4c2d-9626-3617855dbdd7",
   "metadata": {},
   "outputs": [
    {
     "data": {
      "text/plain": [
       "['PW', 'SKILLS', 'DATA', 'SCIENCE', 'MOHAMMED', 'MOIN']"
      ]
     },
     "execution_count": 1,
     "metadata": {},
     "output_type": "execute_result"
    }
   ],
   "source": [
    "string = ['pw','skills','data','science','mohammed','moin']\n",
    "list(map(lambda x : x.upper(),string))"
   ]
  },
  {
   "cell_type": "markdown",
   "id": "24af8709-36e7-4692-a70a-5d6feaf411d9",
   "metadata": {},
   "source": [
    "5. Write a Python program that uses the `map()` function to calculate the length of each word in a list of strings.\n"
   ]
  },
  {
   "cell_type": "code",
   "execution_count": 3,
   "id": "7fb851f7-bf66-4d83-b903-1654e8c0703e",
   "metadata": {},
   "outputs": [
    {
     "data": {
      "text/plain": [
       "[2, 6, 4, 7, 8, 4]"
      ]
     },
     "execution_count": 3,
     "metadata": {},
     "output_type": "execute_result"
    }
   ],
   "source": [
    "string = ['pw','skills','data','science','mohammed','moin']\n",
    "list(map(len,string))"
   ]
  },
  {
   "cell_type": "markdown",
   "id": "fbbdd8b7-0054-4298-b649-95174b4c5667",
   "metadata": {},
   "source": [
    "6. How can you use the `map()` function to apply a custom function to elements of multiple lists simultaneously in Python?\n"
   ]
  },
  {
   "cell_type": "markdown",
   "id": "46699c3d-9e72-4eb2-a82c-3163fd471d3c",
   "metadata": {},
   "source": [
    "We can apply the functionality to elements of multiple lists simultaneously by passing the custom function and lists as arguments to map function."
   ]
  },
  {
   "cell_type": "code",
   "execution_count": 13,
   "id": "1d9f2055-3cf8-44be-bd48-a2f637082577",
   "metadata": {},
   "outputs": [
    {
     "data": {
      "text/plain": [
       "[10, 40, 90, 160, 250]"
      ]
     },
     "execution_count": 13,
     "metadata": {},
     "output_type": "execute_result"
    }
   ],
   "source": [
    "def my_func(x,y):\n",
    "    return (x*y)\n",
    "\n",
    "l1 = [1,2,3,4,5]\n",
    "l2 = [10,20,30,40,50]\n",
    "list(map(my_func,l2,l1))"
   ]
  },
  {
   "cell_type": "markdown",
   "id": "cddbc75d-849d-4a3d-9afd-0340930c29e0",
   "metadata": {},
   "source": [
    "7. Create a Python program that uses `map()` to convert a list of temperatures from Celsius to Fahrenheit."
   ]
  },
  {
   "cell_type": "code",
   "execution_count": 15,
   "id": "eead85f2-5e26-493e-8375-6714f99807e2",
   "metadata": {},
   "outputs": [
    {
     "data": {
      "text/plain": [
       "[77.0, 82.4, 86.0, 95.0, 89.6, 100.4]"
      ]
     },
     "execution_count": 15,
     "metadata": {},
     "output_type": "execute_result"
    }
   ],
   "source": [
    "def convert(celsius):\n",
    "    return ((celsius*1.8)+32)\n",
    "temp = [25,28,30,35,32,38]\n",
    "list(map(convert,temp))  "
   ]
  },
  {
   "cell_type": "markdown",
   "id": "056c8327-a26b-40bb-bbf1-8d75e6360851",
   "metadata": {},
   "source": [
    "8. Write a Python program that uses the `map()` function to round each element of a list of floating-point numbers to the nearest integer."
   ]
  },
  {
   "cell_type": "code",
   "execution_count": 16,
   "id": "e1c795d0-5ca6-4eaf-add4-98aceffa3814",
   "metadata": {},
   "outputs": [
    {
     "data": {
      "text/plain": [
       "[2, 7, 3, 6, 3, 2]"
      ]
     },
     "execution_count": 16,
     "metadata": {},
     "output_type": "execute_result"
    }
   ],
   "source": [
    "l = [2.45,6.6,3.2,5.54,2.78,1.7]\n",
    "list(map(round,l))"
   ]
  },
  {
   "cell_type": "markdown",
   "id": "6c3b7c00-d74d-439a-8bf4-a4ce36c05c12",
   "metadata": {},
   "source": [
    "Reduce :-"
   ]
  },
  {
   "cell_type": "markdown",
   "id": "69cf4bac-5095-49b1-aec5-99172983aadc",
   "metadata": {},
   "source": [
    "1. What is the `reduce()` function in Python, and what module should you import to use it? Provide an example of its basic usage."
   ]
  },
  {
   "cell_type": "markdown",
   "id": "45a95e98-638f-4b84-8f21-3b188cd72300",
   "metadata": {},
   "source": [
    "Reduce function is one of the higher-order function which is used when we want to reduce values to a single value irrespective of any operation of elements on iterables. To use reduce function we need to import functools module."
   ]
  },
  {
   "cell_type": "code",
   "execution_count": 3,
   "id": "283c2ce2-6b5a-4acf-b662-06f047455033",
   "metadata": {},
   "outputs": [
    {
     "data": {
      "text/plain": [
       "15"
      ]
     },
     "execution_count": 3,
     "metadata": {},
     "output_type": "execute_result"
    }
   ],
   "source": [
    "#example\n",
    "from functools import reduce\n",
    "l = [1,2,3,4,5]\n",
    "reduce(lambda x,y:x+y,l)"
   ]
  },
  {
   "cell_type": "markdown",
   "id": "21adbb9a-2738-4a20-9995-52973bf79551",
   "metadata": {},
   "source": [
    "2. Write a Python program that uses the `reduce()` function to find the product of all elements in a list.\n"
   ]
  },
  {
   "cell_type": "code",
   "execution_count": 4,
   "id": "ee712cc5-b5d1-49ad-9b63-1f4f2207bdf7",
   "metadata": {},
   "outputs": [
    {
     "data": {
      "text/plain": [
       "12000000"
      ]
     },
     "execution_count": 4,
     "metadata": {},
     "output_type": "execute_result"
    }
   ],
   "source": [
    "l = [10,20,30,40,50]\n",
    "reduce(lambda x,y:x*y,l)"
   ]
  },
  {
   "cell_type": "markdown",
   "id": "0564be82-6f17-456f-a334-8a60dc288905",
   "metadata": {},
   "source": [
    "3. Create a Python program that uses `reduce()` to find the maximum element in a list of numbers."
   ]
  },
  {
   "cell_type": "code",
   "execution_count": 5,
   "id": "d913e2a3-1958-403c-9861-035761f0351a",
   "metadata": {},
   "outputs": [
    {
     "data": {
      "text/plain": [
       "73"
      ]
     },
     "execution_count": 5,
     "metadata": {},
     "output_type": "execute_result"
    }
   ],
   "source": [
    "elements = [20,19,45,63,25,73,64,37,15]\n",
    "reduce(lambda x,y:x if x>y else y,elements)"
   ]
  },
  {
   "cell_type": "markdown",
   "id": "1773e42f-15e6-4e49-9f45-732fac82051d",
   "metadata": {},
   "source": [
    "4. How can you use the `reduce()` function to concatenate a list of strings into a single string?\n"
   ]
  },
  {
   "cell_type": "code",
   "execution_count": 6,
   "id": "5721afb4-5ee3-4c0f-a4c5-b73d02e93b82",
   "metadata": {},
   "outputs": [
    {
     "data": {
      "text/plain": [
       "'this is an example string'"
      ]
     },
     "execution_count": 6,
     "metadata": {},
     "output_type": "execute_result"
    }
   ],
   "source": [
    "string = ['this','is','an','example','string']\n",
    "reduce(lambda x,y:x+' '+y,string)"
   ]
  },
  {
   "cell_type": "markdown",
   "id": "548e1dd1-eaea-4e19-acf3-baaa454bf06a",
   "metadata": {},
   "source": [
    "5. Write a Python program that calculates the factorial of a number using the `reduce()` function."
   ]
  },
  {
   "cell_type": "code",
   "execution_count": 7,
   "id": "c7e80c5b-9cd7-4b70-a5eb-4f8307863a49",
   "metadata": {},
   "outputs": [
    {
     "data": {
      "text/plain": [
       "120"
      ]
     },
     "execution_count": 7,
     "metadata": {},
     "output_type": "execute_result"
    }
   ],
   "source": [
    "l = [1,2,3,4,5]\n",
    "reduce(lambda x,y:x*y,l)"
   ]
  },
  {
   "cell_type": "markdown",
   "id": "f0cf8177-c3d1-4264-87c5-f7d144a4d0fe",
   "metadata": {},
   "source": [
    "6. Create a Python program that uses `reduce()` to find the GCD (Greatest Common Divisor) of a list of numbers."
   ]
  },
  {
   "cell_type": "code",
   "execution_count": 20,
   "id": "2ac66fd6-8bff-408f-854d-1f3d65d24b18",
   "metadata": {},
   "outputs": [
    {
     "name": "stdin",
     "output_type": "stream",
     "text": [
      "Enter the list of numbers seperating each number by space 12 6 10 5\n"
     ]
    },
    {
     "name": "stdout",
     "output_type": "stream",
     "text": [
      "GCD of given list of numbers is: 1\n"
     ]
    }
   ],
   "source": [
    "def gcd(a,b):\n",
    "    a,b = int(a),int(b)\n",
    "    while b:\n",
    "        a,b = b,a%b\n",
    "    return a\n",
    "num = input(\"Enter the list of numbers seperating each number by space\").split()\n",
    "print(f\"GCD of given list of numbers is: {reduce(gcd,num)}\")"
   ]
  },
  {
   "cell_type": "markdown",
   "id": "8a976978-15af-4b09-b5c9-279cf6346043",
   "metadata": {},
   "source": [
    "7.Write a Python program that uses the `reduce()` function to find the sum of the digits of a given number."
   ]
  },
  {
   "cell_type": "code",
   "execution_count": 13,
   "id": "94fe7af6-e593-45f5-b1b0-1c2d24c187e1",
   "metadata": {},
   "outputs": [
    {
     "name": "stdin",
     "output_type": "stream",
     "text": [
      "Enter your number:  12345\n"
     ]
    },
    {
     "data": {
      "text/plain": [
       "15"
      ]
     },
     "execution_count": 13,
     "metadata": {},
     "output_type": "execute_result"
    }
   ],
   "source": [
    "from functools import reduce\n",
    "def Sum(num1,num2):\n",
    "    return int(num1) + int(num2)\n",
    "    \n",
    "num = input(\"Enter your number: \")\n",
    "reduce(Sum,num)"
   ]
  },
  {
   "cell_type": "markdown",
   "id": "5955b2d7-c9ca-4ac0-ad74-a7575d8e1409",
   "metadata": {},
   "source": [
    "Filter :-"
   ]
  },
  {
   "cell_type": "markdown",
   "id": "e0626d14-e082-403e-9231-c71c08dbc1af",
   "metadata": {},
   "source": [
    "1. Explain the purpose of the `filter()` function in Python and provide an example of how it can be used to filter elements from an iterable."
   ]
  },
  {
   "cell_type": "markdown",
   "id": "c891aef9-607e-431c-9834-3bfd80a21e63",
   "metadata": {},
   "source": [
    "Filter function is one of the higher-order function used to perform filtering or selecting the elements of iterables without having to write explicit loops and used with some specified condition, lambda functions or custom functions and returns the iterator to which later we can convert to any iterables."
   ]
  },
  {
   "cell_type": "code",
   "execution_count": 2,
   "id": "d455cf5b-8242-41ab-8ca7-e63f97a779e0",
   "metadata": {},
   "outputs": [
    {
     "data": {
      "text/plain": [
       "[20, 50]"
      ]
     },
     "execution_count": 2,
     "metadata": {},
     "output_type": "execute_result"
    }
   ],
   "source": [
    "#example\n",
    "l = [9,20,33,46,50]\n",
    "list(filter(lambda x:x%5==0,l))"
   ]
  },
  {
   "cell_type": "markdown",
   "id": "e4e4fcc7-f1e3-4c8c-9139-4357e9e199b7",
   "metadata": {},
   "source": [
    "2. Write a Python program that uses the `filter()` function to select even numbers from a list of integers.\n"
   ]
  },
  {
   "cell_type": "code",
   "execution_count": 3,
   "id": "dcae9a80-0481-4674-810c-888593d6089b",
   "metadata": {},
   "outputs": [
    {
     "data": {
      "text/plain": [
       "[2, 4, 6, 8]"
      ]
     },
     "execution_count": 3,
     "metadata": {},
     "output_type": "execute_result"
    }
   ],
   "source": [
    "l = [1,2,3,4,5,6,7,8,9]\n",
    "list(filter(lambda x:x%2==0,l))"
   ]
  },
  {
   "cell_type": "markdown",
   "id": "b73acb7d-3375-4144-a083-8d25ffc938e2",
   "metadata": {},
   "source": [
    "3. Create a Python program that uses the `filter()` function to select names that start with a specific letter from a list of strings."
   ]
  },
  {
   "cell_type": "code",
   "execution_count": 5,
   "id": "27a9c948-0260-407e-9482-38fd0ad3c41c",
   "metadata": {},
   "outputs": [
    {
     "data": {
      "text/plain": [
       "['pw', 'python', 'pandas']"
      ]
     },
     "execution_count": 5,
     "metadata": {},
     "output_type": "execute_result"
    }
   ],
   "source": [
    "string_of_names = ['pw','skills','python','java','pandas','numpy']\n",
    "list(filter(lambda x:x.startswith('p'),string_of_names))"
   ]
  },
  {
   "cell_type": "markdown",
   "id": "4278403d-c40e-4ab8-972a-ea23b4df13a5",
   "metadata": {},
   "source": [
    "4. Write a Python program that uses the `filter()` function to select prime numbers from a list of integers.\n"
   ]
  },
  {
   "cell_type": "code",
   "execution_count": 7,
   "id": "a4ba082e-3cc3-4404-a178-55e08f5e9ef9",
   "metadata": {},
   "outputs": [
    {
     "data": {
      "text/plain": [
       "[2, 3, 5, 7]"
      ]
     },
     "execution_count": 7,
     "metadata": {},
     "output_type": "execute_result"
    }
   ],
   "source": [
    "l = [1,2,3,4,5,6,7,8,9]\n",
    "list(filter(lambda x: all(x%i!=0 for i in range(2,x)) and x > 1,l))"
   ]
  },
  {
   "cell_type": "markdown",
   "id": "75aa8c27-29a4-41d6-8245-b0f150a95633",
   "metadata": {},
   "source": [
    "5. How can you use the `filter()` function to remove None values from a list in Python?\n"
   ]
  },
  {
   "cell_type": "code",
   "execution_count": 8,
   "id": "ebc9bdcd-3dea-4396-9f8f-acdfe1e7a20d",
   "metadata": {},
   "outputs": [
    {
     "data": {
      "text/plain": [
       "[10, 30, 9, 45, 75.87]"
      ]
     },
     "execution_count": 8,
     "metadata": {},
     "output_type": "execute_result"
    }
   ],
   "source": [
    "l = [10,30,None,9,45,75.87,None]\n",
    "list(filter(lambda x:x is not None,l))"
   ]
  },
  {
   "cell_type": "markdown",
   "id": "534705c4-03c3-4386-b403-930f473f6adf",
   "metadata": {},
   "source": [
    "6. Create a Python program that uses `filter()` to select words longer than a certain length from a list of strings."
   ]
  },
  {
   "cell_type": "code",
   "execution_count": 13,
   "id": "f0bbcff7-e0a3-481f-a031-4daa78fe71fa",
   "metadata": {},
   "outputs": [
    {
     "data": {
      "text/plain": [
       "['skills', 'python', 'pandas']"
      ]
     },
     "execution_count": 13,
     "metadata": {},
     "output_type": "execute_result"
    }
   ],
   "source": [
    "string = ['pw','skills','python','java','pandas','numpy']\n",
    "list(filter(lambda x:len(x)>5,string))"
   ]
  },
  {
   "cell_type": "markdown",
   "id": "5f2a8f26-7213-4a7f-be45-fe41c0c424bc",
   "metadata": {},
   "source": [
    "7. Write a Python program that uses the `filter()` function to select elements greater than a specified threshold from a list of values.\n"
   ]
  },
  {
   "cell_type": "code",
   "execution_count": 14,
   "id": "180e244e-6cd1-4d71-82b6-59e098172015",
   "metadata": {},
   "outputs": [
    {
     "data": {
      "text/plain": [
       "[45, 34, 78, 54, 32]"
      ]
     },
     "execution_count": 14,
     "metadata": {},
     "output_type": "execute_result"
    }
   ],
   "source": [
    "l = [12,45,34,21,78,54,32,10]\n",
    "list(filter(lambda x:x > 30,l))"
   ]
  },
  {
   "cell_type": "markdown",
   "id": "3b730d4f-29d7-44f4-962e-3027daa96637",
   "metadata": {},
   "source": [
    "Recursion:-\n"
   ]
  },
  {
   "cell_type": "markdown",
   "id": "09cb6854-f7de-47e0-80ee-20cca4f6b512",
   "metadata": {},
   "source": [
    "1. Explain the concept of recursion in Python. How does it differ from iteration?"
   ]
  },
  {
   "cell_type": "markdown",
   "id": "1d2ad108-9072-4ca6-a80f-e2b863dd261a",
   "metadata": {},
   "source": [
    "Recursion is concept of calling the function within the same function again and again until the base condition is satisfied. Recursion uses function call which divides the problem into sub problems until the base condition is satisfied and function calls are resolved in last in first out order. While iteration uses looping constructs to iterate over the iterables and control the flow of execution i.e..to execute the block of code until the condition is satisfied. It follows a linear flow, repeatedly executing the loop until the condition becomes False."
   ]
  },
  {
   "cell_type": "markdown",
   "id": "73313c84-3b10-4e4d-b030-121a6e426c2f",
   "metadata": {},
   "source": [
    "2. Write a Python program to calculate the factorial of a number using recursion.\n"
   ]
  },
  {
   "cell_type": "code",
   "execution_count": 1,
   "id": "d311903b-ec20-4883-9a76-abe2a60394ec",
   "metadata": {},
   "outputs": [
    {
     "data": {
      "text/plain": [
       "720"
      ]
     },
     "execution_count": 1,
     "metadata": {},
     "output_type": "execute_result"
    }
   ],
   "source": [
    "def fact(n):\n",
    "    if n==1:\n",
    "        return 1\n",
    "    else:\n",
    "        return n*fact(n-1)\n",
    "fact(6)"
   ]
  },
  {
   "cell_type": "markdown",
   "id": "f48d0556-21fa-4e16-b802-ba20c585ff65",
   "metadata": {},
   "source": [
    "3. Create a recursive Python function to find the nth Fibonacci number."
   ]
  },
  {
   "cell_type": "code",
   "execution_count": 2,
   "id": "544db9ed-c5ba-44c5-a777-6573e72548c2",
   "metadata": {},
   "outputs": [
    {
     "data": {
      "text/plain": [
       "8"
      ]
     },
     "execution_count": 2,
     "metadata": {},
     "output_type": "execute_result"
    }
   ],
   "source": [
    "def fibo(n):\n",
    "    if n<=1:\n",
    "        return n\n",
    "    else:\n",
    "        return fibo(n-1)+fibo(n-2)\n",
    "fibo(6)"
   ]
  },
  {
   "cell_type": "markdown",
   "id": "b6c7f09f-1471-49a1-9b25-577fe66995a9",
   "metadata": {},
   "source": [
    "4. Write a recursive Python function to calculate the sum of all elements in a list."
   ]
  },
  {
   "cell_type": "code",
   "execution_count": 3,
   "id": "3b4ba464-b862-4c52-a5b2-73b6bb2c81e1",
   "metadata": {},
   "outputs": [
    {
     "data": {
      "text/plain": [
       "15"
      ]
     },
     "execution_count": 3,
     "metadata": {},
     "output_type": "execute_result"
    }
   ],
   "source": [
    "l = [1,2,3,4,5]\n",
    "def total(l):\n",
    "    if len(l)==1:\n",
    "        return l[0]\n",
    "    else:\n",
    "        return l[0] + total(l[1:])\n",
    "total(l)"
   ]
  },
  {
   "cell_type": "markdown",
   "id": "b76ed072-aa87-400e-a533-a16d1a7acc74",
   "metadata": {},
   "source": [
    "5. How can you prevent a recursive function from running indefinitely, causing a stack overflow error?\n"
   ]
  },
  {
   "cell_type": "markdown",
   "id": "0c49c5f1-460b-483a-a685-accd2a308a81",
   "metadata": {},
   "source": [
    "To prevent a recursive function from running indefinitely by defining one or more proper base cases which when conditions are met, indicating the function to return a value with no further function calls. Every time the function call with arguments must move closer to base cases. If applicable, add input value validation or constraints to ensure that the function is only called with valid inputs that won't lead to infinite recursion."
   ]
  },
  {
   "cell_type": "markdown",
   "id": "51f70279-c8ce-4883-993c-360fc86f9f3f",
   "metadata": {},
   "source": [
    "6. Create a recursive Python function to find the greatest common divisor (GCD) of two numbers using the Euclidean algorithm.\n"
   ]
  },
  {
   "cell_type": "code",
   "execution_count": 17,
   "id": "0d11d231-d8ee-4056-b63c-22ceb090e5e4",
   "metadata": {},
   "outputs": [],
   "source": [
    "def gcd(a,b):\n",
    "    if b == 0:\n",
    "        return a\n",
    "    else:\n",
    "        a,b = b,a%b\n",
    "        return gcd(a,b)"
   ]
  },
  {
   "cell_type": "code",
   "execution_count": 19,
   "id": "9a0ca374-5d77-4237-9154-8cc2134e4053",
   "metadata": {},
   "outputs": [
    {
     "data": {
      "text/plain": [
       "6"
      ]
     },
     "execution_count": 19,
     "metadata": {},
     "output_type": "execute_result"
    }
   ],
   "source": [
    "gcd(12,6)"
   ]
  },
  {
   "cell_type": "markdown",
   "id": "71f0c33f-9ded-424a-9854-34e93128b413",
   "metadata": {},
   "source": [
    "7. Write a recursive Python function to reverse a string.\n"
   ]
  },
  {
   "cell_type": "code",
   "execution_count": 27,
   "id": "0e2a9360-68ee-4160-b157-2114575339aa",
   "metadata": {},
   "outputs": [],
   "source": [
    "def reverse(s):\n",
    "    if len(s) == 1:\n",
    "        return s\n",
    "    else:\n",
    "        return reverse(s[1:]) + s[0]"
   ]
  },
  {
   "cell_type": "code",
   "execution_count": 28,
   "id": "2d097d6f-d180-4ed9-8f69-e4b9c1d01355",
   "metadata": {},
   "outputs": [
    {
     "data": {
      "text/plain": [
       "'sllikswp'"
      ]
     },
     "execution_count": 28,
     "metadata": {},
     "output_type": "execute_result"
    }
   ],
   "source": [
    "reverse('pwskills')"
   ]
  },
  {
   "cell_type": "markdown",
   "id": "4ff64e37-15ad-410f-ad45-1a102e70e786",
   "metadata": {},
   "source": [
    "8. Create a recursive Python function to calculate the power of a number (x^n).\n"
   ]
  },
  {
   "cell_type": "code",
   "execution_count": 31,
   "id": "ce0d1bce-4a9a-4343-9264-86a21d76d132",
   "metadata": {},
   "outputs": [],
   "source": [
    "def power(x,y):\n",
    "    if y == 0:\n",
    "        return 1\n",
    "    else:\n",
    "        return x*power(x,y-1)"
   ]
  },
  {
   "cell_type": "code",
   "execution_count": 32,
   "id": "74328bbc-ad21-476f-89b2-fffd6e07d319",
   "metadata": {},
   "outputs": [
    {
     "data": {
      "text/plain": [
       "125"
      ]
     },
     "execution_count": 32,
     "metadata": {},
     "output_type": "execute_result"
    }
   ],
   "source": [
    "power(5,3)"
   ]
  },
  {
   "cell_type": "markdown",
   "id": "1f25b91e-ff32-4fd9-b9df-5344e5b34375",
   "metadata": {},
   "source": [
    "9. Write a recursive Python function to find all permutations of a given string."
   ]
  },
  {
   "cell_type": "code",
   "execution_count": 15,
   "id": "ba09f042-6c8e-4020-859b-b8b5fcbe217c",
   "metadata": {},
   "outputs": [
    {
     "name": "stdin",
     "output_type": "stream",
     "text": [
      "Enter a string:  moin\n"
     ]
    },
    {
     "name": "stdout",
     "output_type": "stream",
     "text": [
      "moin\n",
      "moni\n",
      "mion\n",
      "mino\n",
      "mnoi\n",
      "mnio\n",
      "omin\n",
      "omni\n",
      "oimn\n",
      "oinm\n",
      "onmi\n",
      "onim\n",
      "imon\n",
      "imno\n",
      "iomn\n",
      "ionm\n",
      "inmo\n",
      "inom\n",
      "nmoi\n",
      "nmio\n",
      "nomi\n",
      "noim\n",
      "nimo\n",
      "niom\n"
     ]
    }
   ],
   "source": [
    "def permutation(s):\n",
    "    if len(s)==1:\n",
    "        return [s]\n",
    "    permutations = []\n",
    "    for i , char in enumerate(s):\n",
    "        rest_of_string = s[:i] + s[i+1:]\n",
    "        sub_permutation = permutation(rest_of_string)\n",
    "        for perm in sub_permutation:\n",
    "            permutations.append(char+perm)\n",
    "    return permutations\n",
    "input_string = input(\"Enter a string: \")\n",
    "final_permutations = permutation(input_string)\n",
    "for i in final_permutations:\n",
    "    print(i)"
   ]
  },
  {
   "cell_type": "markdown",
   "id": "ce28b844-231f-4db9-b075-44aef3ebe37a",
   "metadata": {},
   "source": [
    "8. Write a recursive Python function to check if a string is a palindrome."
   ]
  },
  {
   "cell_type": "code",
   "execution_count": 9,
   "id": "818d8a74-14b0-477b-958f-2dad5a3b58dd",
   "metadata": {},
   "outputs": [
    {
     "name": "stdin",
     "output_type": "stream",
     "text": [
      "Enter your string:  adda\n"
     ]
    },
    {
     "data": {
      "text/plain": [
       "True"
      ]
     },
     "execution_count": 9,
     "metadata": {},
     "output_type": "execute_result"
    }
   ],
   "source": [
    "def palindrome(s):\n",
    "    if len(s) <= 1:\n",
    "        return True\n",
    "    elif s[0] != s[-1]:\n",
    "        return False\n",
    "    return palindrome(s[1:-1])\n",
    "input_string = input(\"Enter your string: \")\n",
    "palindrome(input_string)"
   ]
  },
  {
   "cell_type": "markdown",
   "id": "9e0ec3b0-52bc-47b6-8793-8fbbd0335ea8",
   "metadata": {},
   "source": [
    "9. Create a recursive Python function to generate all possible combinations of a list of elements."
   ]
  },
  {
   "cell_type": "code",
   "execution_count": 16,
   "id": "8f1280e4-ed9d-4e9f-8c52-37553ef7e1b5",
   "metadata": {},
   "outputs": [
    {
     "name": "stdin",
     "output_type": "stream",
     "text": [
      "Enter a list of elements separated by spaces:  10 20 30 40\n",
      "Enter the number of elements in each combination:  2\n"
     ]
    },
    {
     "name": "stdout",
     "output_type": "stream",
     "text": [
      "['10', '20']\n",
      "['10', '30']\n",
      "['10', '40']\n",
      "['20', '30']\n",
      "['20', '40']\n",
      "['30', '40']\n"
     ]
    }
   ],
   "source": [
    "def get_combinations(elements, k):\n",
    "    \"\"\"\n",
    "    Generate all possible combinations of 'k' elements from the list 'elements'.\n",
    "    \"\"\"\n",
    "    def generate_combinations(current_combination, start_index):\n",
    "        if len(current_combination) == k:\n",
    "            combinations.append(current_combination[:])\n",
    "            return\n",
    "        for i in range(start_index, len(elements)):\n",
    "            current_combination.append(elements[i])\n",
    "            generate_combinations(current_combination, i + 1)\n",
    "            current_combination.pop()\n",
    "\n",
    "    combinations = []\n",
    "    generate_combinations([], 0)\n",
    "    return combinations\n",
    "\n",
    "input_list = input(\"Enter a list of elements separated by spaces: \").split()\n",
    "\n",
    "k = int(input(\"Enter the number of elements in each combination: \"))\n",
    "\n",
    "combinations = get_combinations(input_list, k)\n",
    "for combo in combinations:\n",
    "    print(combo)"
   ]
  },
  {
   "cell_type": "markdown",
   "id": "cdd4db89-462a-4309-bf04-5c5eeef0e625",
   "metadata": {},
   "source": [
    "Basics of Functions:\n"
   ]
  },
  {
   "cell_type": "markdown",
   "id": "039fdfbf-2928-4b03-a337-08177f293f2d",
   "metadata": {},
   "source": [
    "1. What is a function in Python, and why is it used?"
   ]
  },
  {
   "cell_type": "markdown",
   "id": "19ae239d-4fbd-45ba-abed-46d966a9c0e3",
   "metadata": {},
   "source": [
    "function is a block of reusable code that performs a specific task or a set of tasks so that you don't have to rewrite the code again and again whenever you perform that task. It is used to promote modularity, reusability, and maintainability, making it easier to write and manage complex programs."
   ]
  },
  {
   "cell_type": "markdown",
   "id": "8bb23741-518d-4699-affd-aa9d56e6ddc0",
   "metadata": {},
   "source": [
    "2. How do you define a function in Python? Provide an example."
   ]
  },
  {
   "cell_type": "markdown",
   "id": "d26bd4bf-e54a-4321-b571-b33d99225e4f",
   "metadata": {},
   "source": [
    "In Python, Functions are defined using def keyword followed by block of code which performs a specific task."
   ]
  },
  {
   "cell_type": "code",
   "execution_count": 1,
   "id": "aa7da924-fe95-46fa-b8d3-5943e51201dd",
   "metadata": {},
   "outputs": [],
   "source": [
    "#example\n",
    "def example():\n",
    "    print(\"Hello\")"
   ]
  },
  {
   "cell_type": "markdown",
   "id": "9ec2849a-10fc-4d98-8840-e2603b31ca23",
   "metadata": {},
   "source": [
    "3. Explain the difference between a function definition and a function call.\n"
   ]
  },
  {
   "cell_type": "markdown",
   "id": "2764dd88-6e8e-410d-b94c-c1450f658e21",
   "metadata": {},
   "source": [
    "function definition is used to define a function where we can write the logic / block of code to perform a specific task, providing reusability of code, modularity, organization of functionality and may also return some value.\n",
    "Whereas function call is used to call the required function with arguments if appliable so that the corresponding function can perform some calculations/manupilation."
   ]
  },
  {
   "cell_type": "markdown",
   "id": "dde4f9e2-5323-4b2e-9329-41e8b25992cb",
   "metadata": {},
   "source": [
    "4. Write a Python program that defines a function to calculate the sum of two numbers and then calls the function.\n"
   ]
  },
  {
   "cell_type": "code",
   "execution_count": 1,
   "id": "44397ef0-f393-4a76-9ce4-5e89056ff12b",
   "metadata": {},
   "outputs": [
    {
     "data": {
      "text/plain": [
       "9"
      ]
     },
     "execution_count": 1,
     "metadata": {},
     "output_type": "execute_result"
    }
   ],
   "source": [
    "def calc_sum(a,b):  #function definition\n",
    "    return a + b\n",
    "calc_sum(4,5) #function call"
   ]
  },
  {
   "cell_type": "markdown",
   "id": "eeb3cab6-e416-4e79-b9c0-91cc47c507d9",
   "metadata": {},
   "source": [
    "5. What is a function signature, and what information does it typically include?"
   ]
  },
  {
   "cell_type": "markdown",
   "id": "3be8b1f9-8516-4b40-99ac-edc52a8257db",
   "metadata": {},
   "source": [
    "Function signature refers to declaration and definition of a function specifying various pieces of information about how the function should be used. It typically includes the information of function name, list of parameters, specifying their data types to inform the user of what function is expecting as input, and return type of that particular function. As python is dynamically typed, it is optional to mention the return type and parameter type."
   ]
  },
  {
   "cell_type": "markdown",
   "id": "d6d4b05a-f3d1-4da9-af31-129b176bbfb1",
   "metadata": {},
   "source": [
    "6. Create a Python function that takes two arguments and returns their product.\n"
   ]
  },
  {
   "cell_type": "code",
   "execution_count": 1,
   "id": "8b3ab14e-cd7c-41cd-9a7d-c9a8007fa72b",
   "metadata": {},
   "outputs": [
    {
     "data": {
      "text/plain": [
       "30"
      ]
     },
     "execution_count": 1,
     "metadata": {},
     "output_type": "execute_result"
    }
   ],
   "source": [
    "def product_of(x,y):\n",
    "    return (x*y)\n",
    "product_of(5,6)"
   ]
  },
  {
   "cell_type": "markdown",
   "id": "97211682-5759-4fa2-847d-20cc7ce1702d",
   "metadata": {},
   "source": [
    "Function Parameters and Arguments:"
   ]
  },
  {
   "cell_type": "markdown",
   "id": "07be7840-2116-423f-82a9-066ac31f89c5",
   "metadata": {},
   "source": [
    "1. Explain the concepts of formal parameters and actual arguments in Python functions.\n"
   ]
  },
  {
   "cell_type": "markdown",
   "id": "86d87b96-aabb-43f7-bce5-5b74052d8088",
   "metadata": {},
   "source": [
    "Formal parameters are variables that are given inside paranthesis during function definition i.e..in function signature. They serve as placeholders for actual values that are passed during function call and are local in scope to that particular function and cannot be accessed outside.\n",
    "\n",
    "Actual arguments are values that are passed during function call which are assigned to corresponding formal parameters defined in function signature. They provide actual values on which the function operates."
   ]
  },
  {
   "cell_type": "markdown",
   "id": "201f60ae-753a-46d2-9b57-e31391661b54",
   "metadata": {},
   "source": [
    "2. Write a Python program that defines a function with default argument values."
   ]
  },
  {
   "cell_type": "code",
   "execution_count": 1,
   "id": "b1e77e85-1a71-423e-a8c9-cf4e185c13f5",
   "metadata": {},
   "outputs": [],
   "source": [
    "def defualt_func(a = 10,b = 20):\n",
    "    return (a+b)"
   ]
  },
  {
   "cell_type": "code",
   "execution_count": 2,
   "id": "6e69d502-6d41-4330-b8f6-b132e3b645be",
   "metadata": {},
   "outputs": [
    {
     "data": {
      "text/plain": [
       "30"
      ]
     },
     "execution_count": 2,
     "metadata": {},
     "output_type": "execute_result"
    }
   ],
   "source": [
    "defualt_func()"
   ]
  },
  {
   "cell_type": "code",
   "execution_count": 4,
   "id": "e0b7d921-0125-4751-92e7-99499f51c3e3",
   "metadata": {},
   "outputs": [
    {
     "data": {
      "text/plain": [
       "340"
      ]
     },
     "execution_count": 4,
     "metadata": {},
     "output_type": "execute_result"
    }
   ],
   "source": [
    "defualt_func(120,220)"
   ]
  },
  {
   "cell_type": "markdown",
   "id": "cbe7f86a-a3ca-4464-9c41-2e033ef5bb20",
   "metadata": {},
   "source": [
    "3. How do you use keyword arguments in Python function calls? Provide an example."
   ]
  },
  {
   "cell_type": "markdown",
   "id": "c037d16a-af46-448d-9b30-57b5b07a3c51",
   "metadata": {},
   "source": [
    "During function call, when we pass arguments to function mentioning names of formal parameters irrespective of their positions is called keyword arguments."
   ]
  },
  {
   "cell_type": "code",
   "execution_count": 6,
   "id": "1a7d7ced-cde0-4bae-bf3e-b67f0190ffb3",
   "metadata": {},
   "outputs": [
    {
     "data": {
      "text/plain": [
       "24"
      ]
     },
     "execution_count": 6,
     "metadata": {},
     "output_type": "execute_result"
    }
   ],
   "source": [
    "#example\n",
    "def example(a,b,c):\n",
    "    return (c*a*b)\n",
    "example(c=2,b=3,a=4)"
   ]
  },
  {
   "cell_type": "markdown",
   "id": "61bfe7f1-16f6-4170-b372-b628b8f1b4c3",
   "metadata": {},
   "source": [
    "4. Create a Python function that accepts a variable number of arguments and calculates their sum."
   ]
  },
  {
   "cell_type": "code",
   "execution_count": 7,
   "id": "56a55b9a-0ac7-4224-b2e3-4681b2c47f08",
   "metadata": {},
   "outputs": [],
   "source": [
    "def variable(*args):\n",
    "    result = 0\n",
    "    for i in args:\n",
    "        result +=i\n",
    "    return result"
   ]
  },
  {
   "cell_type": "code",
   "execution_count": 8,
   "id": "1ec62336-ba2b-4d0f-af36-021c5206c66c",
   "metadata": {},
   "outputs": [
    {
     "data": {
      "text/plain": [
       "15"
      ]
     },
     "execution_count": 8,
     "metadata": {},
     "output_type": "execute_result"
    }
   ],
   "source": [
    "variable(1,2,3,4,5)"
   ]
  },
  {
   "cell_type": "markdown",
   "id": "7e2addc0-4c7d-47bf-ab73-1a062624e02a",
   "metadata": {},
   "source": [
    "5. What is the purpose of the `*args` and `**kwargs` syntax in function parameter lists?"
   ]
  },
  {
   "cell_type": "markdown",
   "id": "6ba09b68-4103-479b-80f4-d78620d19a76",
   "metadata": {},
   "source": [
    "*args is used to accept the variable number of arguments inside function. The return type of *args is tuple.\n",
    "**kargs is used to accept the variable number of arguments in the form of key-value pair. The return type of **kargs is dictionary. "
   ]
  },
  {
   "cell_type": "markdown",
   "id": "2944a838-4e01-46ea-8308-dc1b303e7339",
   "metadata": {},
   "source": [
    "Return Values and Scoping:\n"
   ]
  },
  {
   "cell_type": "markdown",
   "id": "71610c27-b06a-4a04-ad83-869b707bfce0",
   "metadata": {},
   "source": [
    "1. Describe the role of the `return` statement in Python functions and provide examples."
   ]
  },
  {
   "cell_type": "markdown",
   "id": "8c14fc18-290e-457c-bb23-0bf10632e1b8",
   "metadata": {},
   "source": [
    "Return statement is used to return a assigned value from a function. The datatype of return statement is same as return value. "
   ]
  },
  {
   "cell_type": "code",
   "execution_count": 10,
   "id": "b772b27c-5928-49c5-87e1-2d554928a4e9",
   "metadata": {},
   "outputs": [
    {
     "data": {
      "text/plain": [
       "5"
      ]
     },
     "execution_count": 10,
     "metadata": {},
     "output_type": "execute_result"
    }
   ],
   "source": [
    "#example\n",
    "def ex(x,y):\n",
    "    return (x+y)\n",
    "ex(2,3)"
   ]
  },
  {
   "cell_type": "code",
   "execution_count": 11,
   "id": "a1b8105b-33aa-4925-bd75-d26c3ef7ee99",
   "metadata": {},
   "outputs": [
    {
     "data": {
      "text/plain": [
       "int"
      ]
     },
     "execution_count": 11,
     "metadata": {},
     "output_type": "execute_result"
    }
   ],
   "source": [
    "type(ex(2,3))"
   ]
  },
  {
   "cell_type": "markdown",
   "id": "d6de1f14-cbe5-4e50-b744-73f07e5e2a83",
   "metadata": {},
   "source": [
    "2. Explain the concept of variable scope in Python, including local and global variables.\n"
   ]
  },
  {
   "cell_type": "markdown",
   "id": "2afa9b16-c5b0-4fe2-86bf-f82034f540b0",
   "metadata": {},
   "source": [
    "Variable scope refers to region or context in which a variable can be accessed or referenced. It includes,\n",
    "\n",
    "local variables - This variables are defined inside the function and can be accessed only within the defined function. Its lifetime is as long as the function is executing, which is created when the function is called and destroyed when function exits.\n",
    "\n",
    "Global variables - This variables are defined outside the function and can be accessed throughout the program. Its lifetime is throughout the lifetime of program. They aren't tied to any specific function."
   ]
  },
  {
   "cell_type": "markdown",
   "id": "ea2d9464-89da-4eb3-9882-4290700b3904",
   "metadata": {},
   "source": [
    "3. Write a Python program that demonstrates the use of global variables within functions."
   ]
  },
  {
   "cell_type": "code",
   "execution_count": 12,
   "id": "5ed3133e-1bb3-45c6-bf2f-1c487e2a5356",
   "metadata": {},
   "outputs": [
    {
     "data": {
      "text/plain": [
       "20"
      ]
     },
     "execution_count": 12,
     "metadata": {},
     "output_type": "execute_result"
    }
   ],
   "source": [
    "x = 10\n",
    "def demo(y):\n",
    "    return x+y\n",
    "demo(10)"
   ]
  },
  {
   "cell_type": "markdown",
   "id": "f8b256f4-b20f-4043-adf5-bd999aeee8df",
   "metadata": {},
   "source": [
    "4. Create a Python function that calculates the factorial of a number and returns it."
   ]
  },
  {
   "cell_type": "code",
   "execution_count": 13,
   "id": "3a884181-0d3b-45fb-8537-e57325855d9d",
   "metadata": {},
   "outputs": [],
   "source": [
    "def fact(n):\n",
    "    fact = 1\n",
    "    for i in range(1,n+1):\n",
    "        fact *= i\n",
    "    return fact"
   ]
  },
  {
   "cell_type": "code",
   "execution_count": 14,
   "id": "e16ac948-0d2f-4f73-acdc-58567ca1e925",
   "metadata": {},
   "outputs": [
    {
     "data": {
      "text/plain": [
       "120"
      ]
     },
     "execution_count": 14,
     "metadata": {},
     "output_type": "execute_result"
    }
   ],
   "source": [
    "fact(5)"
   ]
  },
  {
   "cell_type": "markdown",
   "id": "e196115e-59f2-441d-8e75-d664bf82f61a",
   "metadata": {},
   "source": [
    "5. How can you access variables defined outside a function from within the function?\n"
   ]
  },
  {
   "cell_type": "markdown",
   "id": "0eaec892-d2e5-48b3-b103-f737d32b64be",
   "metadata": {},
   "source": [
    "Variables defined outside the function is referred to as global variable which can be accessed throughout the program. One way is to directly refer to global variables inside function and access its value. But if you try to change its value, it will create a new variable with same name which is local to that function i.e..you can only read variables. Other way is to declare variable as global inside the function where you can both read and modify variable at global level."
   ]
  },
  {
   "cell_type": "markdown",
   "id": "b205c1a3-1def-4285-82ab-8fa4fb880cd4",
   "metadata": {},
   "source": [
    "Lambda Functions and Higher-Order Functions:\n"
   ]
  },
  {
   "cell_type": "markdown",
   "id": "a0a71b1b-bc2f-4601-ab93-efdac89485f5",
   "metadata": {},
   "source": [
    "1. What are lambda functions in Python, and when are they typically used?\n"
   ]
  },
  {
   "cell_type": "markdown",
   "id": "b14c34f1-8eea-47e1-bb67-cb2e3a80ad4c",
   "metadata": {},
   "source": [
    "lambda functions are also known as anonymous function as these functions doesn't have any name and can be defined using lambda keyword. It is used when we have short, simple operations to be done which can be written in line of code.  "
   ]
  },
  {
   "cell_type": "markdown",
   "id": "e7351a53-408c-44a2-aa3a-bad6004ab983",
   "metadata": {},
   "source": [
    "2. Write a Python program that uses lambda functions to sort a list of tuples based on the second element."
   ]
  },
  {
   "cell_type": "code",
   "execution_count": 13,
   "id": "43b212f7-2cb6-4b66-b476-442fb5e27bbd",
   "metadata": {},
   "outputs": [],
   "source": [
    "l = [(7,9),(3,5),(6,1),(4,6),(7,3)]\n",
    "a = sorted(l,key = lambda x : x[1])"
   ]
  },
  {
   "cell_type": "code",
   "execution_count": 14,
   "id": "ead36c58-9d14-4ed4-9786-5e76fae61be3",
   "metadata": {},
   "outputs": [
    {
     "data": {
      "text/plain": [
       "[(6, 1), (7, 3), (3, 5), (4, 6), (7, 9)]"
      ]
     },
     "execution_count": 14,
     "metadata": {},
     "output_type": "execute_result"
    }
   ],
   "source": [
    "a"
   ]
  },
  {
   "cell_type": "markdown",
   "id": "ddb51720-efc3-417a-940c-45c8e20f1de1",
   "metadata": {},
   "source": [
    "3. Explain the concept of higher-order functions in Python, and provide an example."
   ]
  },
  {
   "cell_type": "markdown",
   "id": "acd171a0-3901-4d52-af9d-f1c6d000d530",
   "metadata": {},
   "source": [
    "Higher-order functions in python is one which takes functions as arguments to perform required operation / manipulation and output the result. Eg: map,filter,reduce."
   ]
  },
  {
   "cell_type": "code",
   "execution_count": 11,
   "id": "132ab699-6b27-49e7-8973-a7d00b27b2e9",
   "metadata": {},
   "outputs": [
    {
     "data": {
      "text/plain": [
       "[1, 4, 9, 16, 25]"
      ]
     },
     "execution_count": 11,
     "metadata": {},
     "output_type": "execute_result"
    }
   ],
   "source": [
    "#example\n",
    "l = [1,2,3,4,5]\n",
    "list(map(lambda x:x**2,l))"
   ]
  },
  {
   "cell_type": "markdown",
   "id": "0839fb8c-7f0a-4532-8e3a-f96f86f2fda9",
   "metadata": {},
   "source": [
    "4. Create a Python function that takes a list of numbers and a function as arguments, applying the function to each element in the list.\n"
   ]
  },
  {
   "cell_type": "code",
   "execution_count": 12,
   "id": "4e075c99-4234-4891-abfe-d7df6ad3e1e5",
   "metadata": {},
   "outputs": [
    {
     "data": {
      "text/plain": [
       "[2, 4, 6, 8]"
      ]
     },
     "execution_count": 12,
     "metadata": {},
     "output_type": "execute_result"
    }
   ],
   "source": [
    "l = [1,2,3,4,5,6,7,8,9]\n",
    "list(filter(lambda x:x%2==0,l))"
   ]
  },
  {
   "cell_type": "markdown",
   "id": "dc2e7340-a532-42b5-b9d7-554bf6d187a4",
   "metadata": {},
   "source": [
    "Built-in Functions:\n"
   ]
  },
  {
   "cell_type": "markdown",
   "id": "89440327-c1fb-4cad-89d0-777223550a70",
   "metadata": {},
   "source": [
    "1. Describe the role of built-in functions like `len()`, `max()`, and `min()` in Python."
   ]
  },
  {
   "cell_type": "markdown",
   "id": "6ed5cadb-3c1b-49e7-adc7-80c8251050fc",
   "metadata": {},
   "source": [
    "len() function is used to find the length or number of elements in an iterable or sequence.\n",
    "\n",
    "max() function is used to find the maximum/largest value in an iterable or set of values.\n",
    "\n",
    "min() function is used to find the minimum/smallest value in an iterable or set of values."
   ]
  },
  {
   "cell_type": "markdown",
   "id": "cfb365b6-6484-4177-bab1-5e28b768bb20",
   "metadata": {},
   "source": [
    "2. Write a Python program that uses the `map()` function to apply a function to each element of a list."
   ]
  },
  {
   "cell_type": "code",
   "execution_count": 4,
   "id": "58c2bfd6-5b13-44a2-a4e9-cab06f936087",
   "metadata": {},
   "outputs": [
    {
     "data": {
      "text/plain": [
       "[1, False, 3, False, 5, False, 7, False, 9]"
      ]
     },
     "execution_count": 4,
     "metadata": {},
     "output_type": "execute_result"
    }
   ],
   "source": [
    "l = [1,2,3,4,5,6,7,8,9]\n",
    "list(map(lambda x:x if x%2 != 0 else False,l))"
   ]
  },
  {
   "cell_type": "markdown",
   "id": "f13ea358-6cd7-49ef-8583-4ca9f431affd",
   "metadata": {},
   "source": [
    "3. How does the `filter()` function work in Python, and when would you use it?"
   ]
  },
  {
   "cell_type": "markdown",
   "id": "8ca47c36-4e42-4733-afc7-c38bcd978d6d",
   "metadata": {},
   "source": [
    "Filter() function is one of the higher-order function where each element of iterable is applied with function mentioned as filtering condition. If condition returns true for an element, that element is included into the output, otherwise it is excluded. It is used to filter elements from an iterable or when you have to extract elements eliminating the need of manual iteration and condition statement."
   ]
  },
  {
   "cell_type": "markdown",
   "id": "c2358156-632c-4408-a837-17ba07a86d92",
   "metadata": {},
   "source": [
    "4. Create a Python program that uses the `reduce()` function to find the product of all elements in a list.\n"
   ]
  },
  {
   "cell_type": "code",
   "execution_count": 5,
   "id": "811031f8-df15-4d0b-b62e-2f8001fe53b8",
   "metadata": {},
   "outputs": [
    {
     "data": {
      "text/plain": [
       "630000000"
      ]
     },
     "execution_count": 5,
     "metadata": {},
     "output_type": "execute_result"
    }
   ],
   "source": [
    "from functools import reduce\n",
    "l = [10,4,35,20,15,12,5,25]\n",
    "reduce(lambda x,y:x*y,l)"
   ]
  },
  {
   "cell_type": "markdown",
   "id": "111dfd68-380b-477c-aafc-da95fd5072a8",
   "metadata": {},
   "source": [
    "Function Documentation and Best Practices:\n"
   ]
  },
  {
   "cell_type": "markdown",
   "id": "ddf0ca67-033d-4eab-a9dd-075fc32a0508",
   "metadata": {},
   "source": [
    "1. Explain the purpose of docstrings in Python functions and how to write them.\n"
   ]
  },
  {
   "cell_type": "markdown",
   "id": "7743bd40-4752-4f39-abd6-59c558d808c6",
   "metadata": {},
   "source": [
    "The primary purpose of docstrings in python is to provide human readable documentation to functions, methods, classes, modules or any python object that explains what does a particular piece of code does, how to use it, and any relevant information about its behavior and parameters. Docstrings can be written right after the function declaration / can be given as first statement inside the function within the triple single quotes for single-line docstring and triple double quotes for multi-line docstring."
   ]
  },
  {
   "cell_type": "markdown",
   "id": "05b62c5b-3fc4-476b-9a4e-734c91ecdddd",
   "metadata": {},
   "source": [
    "2. Describe some best practices for naming functions and variables in Python, including naming conventions and guidelines.\n"
   ]
  },
  {
   "cell_type": "markdown",
   "id": "5c7b4286-a313-4a1a-9e3b-5929fa7549ff",
   "metadata": {},
   "source": [
    "Best practices for naming functions includes avoiding shorter names by using descriptive names and lowecase letters for functions with underscore for spaces to better indicate its purpose or action. Use verb-noun pairing to indicate the action the function performs followed by noun or object. Function names cannot start with numbers and special characters except underscore. As python is case sensitive, be carefull while naming functions keywords cannot be used as function names and if you are following a convention, be consistent throughout the program to enhance readability and understanability."
   ]
  },
  {
   "cell_type": "markdown",
   "id": "db746f5b-7574-4bd2-ae5c-c84336ca30d3",
   "metadata": {},
   "source": [
    "Best practices for naming variables includes using desciptive yet concise names for variables. As python is case sensitive, uppercase and lowercase names are treated differently. Avoid using single character as names and be specific while using names that specify the type of data or the role of the variable. Use lowercase letters with underscore for spaces (snake_case) for names with proper use of singular or plural form to indicate whether it contains an item or collection of items. Follow convention for constants by using uppercase letters with underscore. Keywords cannot be used as variable names and names cannot start with numbers and special characters except underscore."
   ]
  },
  {
   "cell_type": "markdown",
   "id": "b166fb2a-ee82-4ddd-8a1d-64bbd2c5d267",
   "metadata": {},
   "source": [
    "PEP 8 is Python's style guide, which provides detailed recommendations on naming conventions and coding style. Following PEP 8 can help maintain consistency in your code."
   ]
  }
 ],
 "metadata": {
  "kernelspec": {
   "display_name": "Python 3 (ipykernel)",
   "language": "python",
   "name": "python3"
  },
  "language_info": {
   "codemirror_mode": {
    "name": "ipython",
    "version": 3
   },
   "file_extension": ".py",
   "mimetype": "text/x-python",
   "name": "python",
   "nbconvert_exporter": "python",
   "pygments_lexer": "ipython3",
   "version": "3.10.8"
  }
 },
 "nbformat": 4,
 "nbformat_minor": 5
}
