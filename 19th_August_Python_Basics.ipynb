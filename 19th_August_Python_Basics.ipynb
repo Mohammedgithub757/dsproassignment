{
 "cells": [
  {
   "cell_type": "markdown",
   "id": "bf45d9ec-8cd0-4dd9-9720-5206f44f1b35",
   "metadata": {},
   "source": [
    "TOPIC: Python Basics Variable"
   ]
  },
  {
   "cell_type": "markdown",
   "id": "eb1b3b57-17eb-46b6-8337-962ebef68b9e",
   "metadata": {},
   "source": [
    "1. Declare two variables, `x` and `y`, and assign them integer values. Swap the\n",
    "values of these variables without using any temporary variable."
   ]
  },
  {
   "cell_type": "code",
   "execution_count": 1,
   "id": "6831ea69-3486-4443-972c-c9c5cd349d79",
   "metadata": {},
   "outputs": [],
   "source": [
    "x = 10\n",
    "y = 20\n",
    "x = x + y\n",
    "y = x - y\n",
    "x = x - y"
   ]
  },
  {
   "cell_type": "code",
   "execution_count": 2,
   "id": "7249c690-fc47-48f4-8387-175d0995b62c",
   "metadata": {},
   "outputs": [
    {
     "name": "stdout",
     "output_type": "stream",
     "text": [
      "values after swapping x:  20  y:  10\n"
     ]
    }
   ],
   "source": [
    "print(\"values after swapping\",'x: ',x,' y: ',y)"
   ]
  },
  {
   "cell_type": "markdown",
   "id": "b61ff906-e491-4b4b-a2be-e28aca9f98f1",
   "metadata": {},
   "source": [
    "2. Create a program that calculates the area of a rectangle. Take the length and\n",
    "width as inputs from the user and store them in variables. Calculate and\n",
    "display the area."
   ]
  },
  {
   "cell_type": "code",
   "execution_count": 3,
   "id": "710e80eb-7af4-4fbd-b580-be862efaaa87",
   "metadata": {},
   "outputs": [
    {
     "name": "stdin",
     "output_type": "stream",
     "text": [
      "Enter the value of length:  33.20\n",
      "Enter the value of width:  40.80\n"
     ]
    },
    {
     "name": "stdout",
     "output_type": "stream",
     "text": [
      "Area of rectangle is:  1354.56\n"
     ]
    }
   ],
   "source": [
    "l = float(input(\"Enter the value of length: \"))\n",
    "w = float(input(\"Enter the value of width: \"))\n",
    "print(\"Area of rectangle is: \",(l*w))"
   ]
  },
  {
   "cell_type": "markdown",
   "id": "d2e1b46f-7bc0-46b1-bc6f-5d0b33fad8ab",
   "metadata": {},
   "source": [
    "3. Write a Python program that converts temperatures from Celsius to\n",
    "Fahrenheit. Take the temperature in Celsius as input, store it in a variable,\n",
    "convert it to Fahrenheit, and display the result."
   ]
  },
  {
   "cell_type": "code",
   "execution_count": 4,
   "id": "052f99d6-e8f5-4c3c-9988-bb6b59504968",
   "metadata": {},
   "outputs": [
    {
     "name": "stdin",
     "output_type": "stream",
     "text": [
      "Enter the temperature in celsius:  38.5\n"
     ]
    },
    {
     "name": "stdout",
     "output_type": "stream",
     "text": [
      "Temperature in fahrenheit is:  101.3\n"
     ]
    }
   ],
   "source": [
    "t = float(input(\"Enter the temperature in celsius: \"))\n",
    "print(\"Temperature in fahrenheit is: \",((t*1.8)+32))"
   ]
  },
  {
   "cell_type": "markdown",
   "id": "2b3152e0-cb98-420f-ad44-7b39d255839d",
   "metadata": {},
   "source": [
    "TOPIC: String Based Questions"
   ]
  },
  {
   "cell_type": "markdown",
   "id": "18d1e2d6-c143-4923-90bb-2f9dd0cf2379",
   "metadata": {},
   "source": [
    "1. Write a Python program that takes a string as input and prints the length of\n",
    "the string."
   ]
  },
  {
   "cell_type": "code",
   "execution_count": 1,
   "id": "27698568-c09a-4e1c-8976-9d5d24bbf70c",
   "metadata": {},
   "outputs": [
    {
     "name": "stdin",
     "output_type": "stream",
     "text": [
      "Enter a string:  Mohammed Moin\n"
     ]
    },
    {
     "name": "stdout",
     "output_type": "stream",
     "text": [
      "Length of the given string is:  13\n"
     ]
    }
   ],
   "source": [
    "l = input(\"Enter a string: \")\n",
    "print(\"Length of the given string is: \",(len(l)))"
   ]
  },
  {
   "cell_type": "markdown",
   "id": "7fdeede5-5c9e-4af8-bc3e-17c93ec13f08",
   "metadata": {},
   "source": [
    "2. Create a program that takes a sentence from the user and counts the number\n",
    "of vowels (a, e, i, o, u) in the string."
   ]
  },
  {
   "cell_type": "code",
   "execution_count": 2,
   "id": "7d4fddad-9b0e-4b6f-96e7-fa05d64db709",
   "metadata": {},
   "outputs": [
    {
     "name": "stdin",
     "output_type": "stream",
     "text": [
      "Enter a string:  PWSKILLS\n"
     ]
    },
    {
     "name": "stdout",
     "output_type": "stream",
     "text": [
      "0\n"
     ]
    }
   ],
   "source": [
    "string = input(\"Enter a string: \")\n",
    "count = 0\n",
    "for i in string:\n",
    "    if i in ['a','e','i','o','u']:\n",
    "        count = count + 1\n",
    "print(count)"
   ]
  },
  {
   "cell_type": "markdown",
   "id": "bca170d0-5c21-4e94-a0db-ef5cb60b7f6d",
   "metadata": {},
   "source": [
    "3. Given a string, reverse the order of characters using string slicing and print\n",
    "the reversed string."
   ]
  },
  {
   "cell_type": "code",
   "execution_count": 3,
   "id": "057a8828-9526-494b-8369-27c161e00f87",
   "metadata": {},
   "outputs": [
    {
     "name": "stdin",
     "output_type": "stream",
     "text": [
      "Enter a string:  PWSKILLS\n"
     ]
    },
    {
     "name": "stdout",
     "output_type": "stream",
     "text": [
      "Resversed order of the string is:  SLLIKSWP\n"
     ]
    }
   ],
   "source": [
    "S = input(\"Enter a string: \")\n",
    "print(\"Resversed order of the string is: \",S[::-1])"
   ]
  },
  {
   "cell_type": "markdown",
   "id": "b57b3566-fefb-4d44-b813-e073a35fbaa4",
   "metadata": {},
   "source": [
    "4. Write a program that takes a string as input and checks if it is a palindrome\n",
    "(reads the same forwards and backwards)."
   ]
  },
  {
   "cell_type": "code",
   "execution_count": 4,
   "id": "a03b9d1e-a687-4353-80e3-d36712db75c2",
   "metadata": {},
   "outputs": [
    {
     "name": "stdin",
     "output_type": "stream",
     "text": [
      "Enter a string:  data science\n"
     ]
    },
    {
     "name": "stdout",
     "output_type": "stream",
     "text": [
      "String is not a palindrome\n"
     ]
    }
   ],
   "source": [
    "s = input(\"Enter a string: \")\n",
    "r = s[::-1]\n",
    "if (s==r):\n",
    "    print(\"String is a palindrome\")\n",
    "else:\n",
    "    print(\"String is not a palindrome\")"
   ]
  },
  {
   "cell_type": "markdown",
   "id": "13871200-1108-4207-b542-788f4c3cfacd",
   "metadata": {},
   "source": [
    "5. Create a program that takes a string as input and removes all the spaces from\n",
    "it. Print the modified string without spaces."
   ]
  },
  {
   "cell_type": "code",
   "execution_count": 5,
   "id": "7d1bdde3-da2f-412d-8998-d6b65007f3f8",
   "metadata": {},
   "outputs": [
    {
     "name": "stdin",
     "output_type": "stream",
     "text": [
      "Enter a string with whitespaces  P W S K I L L S\n"
     ]
    },
    {
     "data": {
      "text/plain": [
       "'PWSKILLS'"
      ]
     },
     "execution_count": 5,
     "metadata": {},
     "output_type": "execute_result"
    }
   ],
   "source": [
    "R = input(\"Enter a string with whitespaces\")\n",
    "R.replace(\" \",\"\")"
   ]
  }
 ],
 "metadata": {
  "kernelspec": {
   "display_name": "Python 3 (ipykernel)",
   "language": "python",
   "name": "python3"
  },
  "language_info": {
   "codemirror_mode": {
    "name": "ipython",
    "version": 3
   },
   "file_extension": ".py",
   "mimetype": "text/x-python",
   "name": "python",
   "nbconvert_exporter": "python",
   "pygments_lexer": "ipython3",
   "version": "3.10.8"
  }
 },
 "nbformat": 4,
 "nbformat_minor": 5
}
