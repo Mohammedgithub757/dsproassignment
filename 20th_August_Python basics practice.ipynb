{
 "cells": [
  {
   "cell_type": "markdown",
   "id": "afdb46f8-9d42-4ed4-9acb-436344cda111",
   "metadata": {},
   "source": [
    "TOPIC: String Based Assignment Problem"
   ]
  },
  {
   "cell_type": "markdown",
   "id": "b21f0bcf-235e-4b16-9075-1a88404410d6",
   "metadata": {},
   "source": [
    "1. Write a program to reverse a string."
   ]
  },
  {
   "cell_type": "code",
   "execution_count": 1,
   "id": "f0383534-5cef-4e6e-a2d9-2671b6227896",
   "metadata": {},
   "outputs": [
    {
     "name": "stdin",
     "output_type": "stream",
     "text": [
      "Enter a string:  pwskills\n"
     ]
    },
    {
     "data": {
      "text/plain": [
       "'sllikswp'"
      ]
     },
     "execution_count": 1,
     "metadata": {},
     "output_type": "execute_result"
    }
   ],
   "source": [
    "String = input(\"Enter a string: \")\n",
    "String[::-1]"
   ]
  },
  {
   "cell_type": "markdown",
   "id": "cb6a2ffa-6de1-486c-a987-1e71a0592628",
   "metadata": {},
   "source": [
    "2. Check if a string is a palindrome."
   ]
  },
  {
   "cell_type": "code",
   "execution_count": 2,
   "id": "263c5c62-365e-4d86-b695-fc1ea25fd529",
   "metadata": {},
   "outputs": [
    {
     "name": "stdin",
     "output_type": "stream",
     "text": [
      "Enter a string:  data\n"
     ]
    },
    {
     "name": "stdout",
     "output_type": "stream",
     "text": [
      "it's not a palindrome\n"
     ]
    }
   ],
   "source": [
    "S = input(\"Enter a string: \")\n",
    "check = S[::-1]\n",
    "if (S == check):\n",
    "    print(\"it's a palindrome\")\n",
    "else:\n",
    "    print(\"it's not a palindrome\")"
   ]
  },
  {
   "cell_type": "markdown",
   "id": "5fd58b82-1123-47f2-af8a-5b36f805964e",
   "metadata": {},
   "source": [
    "3. Convert a string to uppercase."
   ]
  },
  {
   "cell_type": "code",
   "execution_count": 3,
   "id": "cef9de32-7c5c-46d9-b8ef-dbe5443fcb82",
   "metadata": {},
   "outputs": [
    {
     "name": "stdin",
     "output_type": "stream",
     "text": [
      "Enter a string:  data science\n"
     ]
    },
    {
     "name": "stdout",
     "output_type": "stream",
     "text": [
      "String in uppercase:  DATA SCIENCE\n"
     ]
    }
   ],
   "source": [
    "u = input(\"Enter a string: \")\n",
    "print(\"String in uppercase: \",u.upper())"
   ]
  },
  {
   "cell_type": "markdown",
   "id": "063e8a1e-8900-4877-9856-a6fcfdafc49a",
   "metadata": {},
   "source": [
    "4. Convert a string to lowercase."
   ]
  },
  {
   "cell_type": "code",
   "execution_count": 4,
   "id": "bbf3729c-2cc2-4f1c-b753-e8ae8b7c1554",
   "metadata": {},
   "outputs": [
    {
     "name": "stdin",
     "output_type": "stream",
     "text": [
      "Enter a string:  DAta SCienCE\n"
     ]
    },
    {
     "name": "stdout",
     "output_type": "stream",
     "text": [
      "String in lowercase:  data science\n"
     ]
    }
   ],
   "source": [
    "l = input(\"Enter a string: \")\n",
    "print(\"String in lowercase: \",l.lower())"
   ]
  },
  {
   "cell_type": "markdown",
   "id": "f4407823-844c-4e8b-948b-4930dc1b58eb",
   "metadata": {},
   "source": [
    "5. Count the number of vowels in a string."
   ]
  },
  {
   "cell_type": "code",
   "execution_count": 5,
   "id": "e64f63c1-e843-4db0-8ca9-d1299ca85362",
   "metadata": {},
   "outputs": [
    {
     "name": "stdin",
     "output_type": "stream",
     "text": [
      "Enter a string:  data science is booming\n"
     ]
    },
    {
     "name": "stdout",
     "output_type": "stream",
     "text": [
      "9\n"
     ]
    }
   ],
   "source": [
    "string = input(\"Enter a string: \")\n",
    "count = 0\n",
    "for i in string:\n",
    "    if i in ['a','e','i','o','u']:\n",
    "        count = count + 1\n",
    "print(count)"
   ]
  },
  {
   "cell_type": "markdown",
   "id": "7d59dbe5-7f56-4cfb-956f-305fd3980c33",
   "metadata": {},
   "source": [
    "6. Count the number of consonants in a string."
   ]
  },
  {
   "cell_type": "code",
   "execution_count": 7,
   "id": "4255434b-1cc0-40fc-9c52-2782d1f4df2d",
   "metadata": {},
   "outputs": [
    {
     "name": "stdin",
     "output_type": "stream",
     "text": [
      "Enter a string:  data science\n"
     ]
    },
    {
     "name": "stdout",
     "output_type": "stream",
     "text": [
      "6\n"
     ]
    }
   ],
   "source": [
    "c = input(\"Enter a string: \")\n",
    "count = 0\n",
    "for i in c:\n",
    "    if i not in ['a','e','i','o','u',' ']:\n",
    "        count = count + 1\n",
    "print(count)"
   ]
  },
  {
   "cell_type": "markdown",
   "id": "288b8a9d-9605-4d3e-84da-b7d82a23720c",
   "metadata": {},
   "source": [
    "7. Remove all whitespaces from a string."
   ]
  },
  {
   "cell_type": "code",
   "execution_count": 8,
   "id": "cb0054a7-8915-40f6-97f4-9c9f03a642bd",
   "metadata": {},
   "outputs": [
    {
     "name": "stdin",
     "output_type": "stream",
     "text": [
      "Enter a string with whitespaces    example   string\n"
     ]
    },
    {
     "data": {
      "text/plain": [
       "'examplestring'"
      ]
     },
     "execution_count": 8,
     "metadata": {},
     "output_type": "execute_result"
    }
   ],
   "source": [
    "R = input(\"Enter a string with whitespaces\")\n",
    "R.replace(\" \",\"\")"
   ]
  },
  {
   "cell_type": "markdown",
   "id": "74f7856e-fae6-4151-9ce8-4fe0378f433b",
   "metadata": {},
   "source": [
    "8. Find the length of a string without using the `len()` function."
   ]
  },
  {
   "cell_type": "code",
   "execution_count": 9,
   "id": "33ca4837-5bca-4925-9c3b-949d4b772044",
   "metadata": {},
   "outputs": [
    {
     "name": "stdin",
     "output_type": "stream",
     "text": [
      "Enter a string:  this is an example string\n"
     ]
    },
    {
     "name": "stdout",
     "output_type": "stream",
     "text": [
      "length of a string:  25\n"
     ]
    }
   ],
   "source": [
    "s = input(\"Enter a string: \")\n",
    "length = 0\n",
    "for i in s:\n",
    "    length = length + 1\n",
    "print(\"length of a string: \",length)"
   ]
  },
  {
   "cell_type": "markdown",
   "id": "332e71f7-c307-41b5-84c3-458cdc80bcdf",
   "metadata": {},
   "source": [
    "9. Check if a string contains a specific word."
   ]
  },
  {
   "cell_type": "code",
   "execution_count": 10,
   "id": "a280c174-70f6-4a8d-950f-280b784ef583",
   "metadata": {},
   "outputs": [
    {
     "name": "stdin",
     "output_type": "stream",
     "text": [
      "Enter a string:  this is an example string\n",
      "Word to be searched:  an\n"
     ]
    },
    {
     "name": "stdout",
     "output_type": "stream",
     "text": [
      "an  is present in given string\n"
     ]
    }
   ],
   "source": [
    "def check(sub,word):\n",
    "    for i in sub:\n",
    "        if (i == word):\n",
    "            return True\n",
    "    return False\n",
    "\n",
    "string = input(\"Enter a string: \")\n",
    "word = input(\"Word to be searched: \")\n",
    "sub = string.split(sep = \" \")\n",
    "\n",
    "if (check):\n",
    "    print(word,\" is present in given string\")\n",
    "else:\n",
    "    print(word,\" is not present in given string\")"
   ]
  },
  {
   "cell_type": "markdown",
   "id": "f728238b-42e4-4350-a4ec-5d8c1ed280dd",
   "metadata": {},
   "source": [
    "10. Replace a word in a string with another word."
   ]
  },
  {
   "cell_type": "code",
   "execution_count": 11,
   "id": "9de3138e-b4ae-4086-9346-7e6252eb07b2",
   "metadata": {},
   "outputs": [
    {
     "name": "stdin",
     "output_type": "stream",
     "text": [
      "Enter a string:  data science is a growing industry\n",
      "Enter a word to be replaced:  growing\n",
      "Enter a new word:  booming\n"
     ]
    },
    {
     "data": {
      "text/plain": [
       "'data science is a booming industry'"
      ]
     },
     "execution_count": 11,
     "metadata": {},
     "output_type": "execute_result"
    }
   ],
   "source": [
    "s = input(\"Enter a string: \")\n",
    "old = input(\"Enter a word to be replaced: \")\n",
    "new = input(\"Enter a new word: \")\n",
    "s.replace(old,new)"
   ]
  },
  {
   "cell_type": "markdown",
   "id": "dbb5f177-196d-4057-84ff-8c3cee6731c0",
   "metadata": {},
   "source": [
    "11. Count the occurrences of a word in a string."
   ]
  },
  {
   "cell_type": "code",
   "execution_count": 12,
   "id": "f18e0e00-2d20-4f6e-b7f7-612fc3c3836f",
   "metadata": {},
   "outputs": [
    {
     "name": "stdin",
     "output_type": "stream",
     "text": [
      "Enter a string:  Pwskills is an edTech company. Pwskills offers may courses.\n",
      "Enter a word:  Pwskills\n"
     ]
    },
    {
     "data": {
      "text/plain": [
       "2"
      ]
     },
     "execution_count": 12,
     "metadata": {},
     "output_type": "execute_result"
    }
   ],
   "source": [
    "s = input(\"Enter a string: \")\n",
    "w = input(\"Enter a word: \")\n",
    "s.count(w)"
   ]
  },
  {
   "cell_type": "markdown",
   "id": "a9de0627-1090-4359-ad75-ad417700361a",
   "metadata": {},
   "source": [
    "12. Find the first occurrence of a word in a string."
   ]
  },
  {
   "cell_type": "code",
   "execution_count": 13,
   "id": "57b014ed-6de8-47d0-9c15-5a179bfa882c",
   "metadata": {},
   "outputs": [
    {
     "name": "stdin",
     "output_type": "stream",
     "text": [
      "Enter a string:  Pwskills is an edTech company. Pwskills offers may courses.\n",
      "Enter a word:  Pwskills\n"
     ]
    },
    {
     "data": {
      "text/plain": [
       "0"
      ]
     },
     "execution_count": 13,
     "metadata": {},
     "output_type": "execute_result"
    }
   ],
   "source": [
    "s = input(\"Enter a string: \")\n",
    "w = input(\"Enter a word: \")\n",
    "s.find(w)"
   ]
  },
  {
   "cell_type": "markdown",
   "id": "19d5cc87-c8f3-4d50-a438-ceffc4ecdc9e",
   "metadata": {},
   "source": [
    "13. Find the last occurrence of a word in a string."
   ]
  },
  {
   "cell_type": "code",
   "execution_count": 14,
   "id": "0a662c9d-22a9-429f-a76e-ad3568b8c691",
   "metadata": {},
   "outputs": [
    {
     "name": "stdin",
     "output_type": "stream",
     "text": [
      "Enter a string:  Pwskills is an edTech company. Pwskills offers may courses.\n",
      "Enter a word:  Pwskills\n"
     ]
    },
    {
     "data": {
      "text/plain": [
       "31"
      ]
     },
     "execution_count": 14,
     "metadata": {},
     "output_type": "execute_result"
    }
   ],
   "source": [
    "s = input(\"Enter a string: \")\n",
    "w = input(\"Enter a word: \")\n",
    "s.rfind(w)"
   ]
  },
  {
   "cell_type": "markdown",
   "id": "21f20691-dff3-4871-9404-c9851e597bef",
   "metadata": {},
   "source": [
    "14. Split a string into a list of words."
   ]
  },
  {
   "cell_type": "code",
   "execution_count": 16,
   "id": "174e20bb-9369-4dc9-8dfc-ab8649b48f62",
   "metadata": {},
   "outputs": [
    {
     "name": "stdin",
     "output_type": "stream",
     "text": [
      "Enter a string:  now, This is a list.\n"
     ]
    },
    {
     "name": "stdout",
     "output_type": "stream",
     "text": [
      "['now,', 'This', 'is', 'a', 'list.']\n"
     ]
    }
   ],
   "source": [
    "string = input(\"Enter a string: \")\n",
    "list1 = string.split(sep = \" \")\n",
    "print(list1)"
   ]
  },
  {
   "cell_type": "markdown",
   "id": "29802197-a467-4000-a003-d02d26359242",
   "metadata": {},
   "source": [
    "15. Join a list of words into a string."
   ]
  },
  {
   "cell_type": "code",
   "execution_count": 17,
   "id": "feb3e8a5-2977-48b2-8a2a-719c72caf0ad",
   "metadata": {},
   "outputs": [
    {
     "data": {
      "text/plain": [
       "'My name is mohammed moin'"
      ]
     },
     "execution_count": 17,
     "metadata": {},
     "output_type": "execute_result"
    }
   ],
   "source": [
    "l = ['My','name','is','mohammed','moin']\n",
    "str1 = \" \"\n",
    "str1.join(l)"
   ]
  },
  {
   "cell_type": "markdown",
   "id": "ab76086a-30fb-4845-b014-fa096a0dfa86",
   "metadata": {},
   "source": [
    "16. Convert a string where words are separated by spaces to one where words\n",
    "are separated by underscores."
   ]
  },
  {
   "cell_type": "code",
   "execution_count": 18,
   "id": "2e5daaac-8f85-42fb-99e4-1d7fb0e819c1",
   "metadata": {},
   "outputs": [
    {
     "name": "stdin",
     "output_type": "stream",
     "text": [
      "Enter the string:  data science is booming\n"
     ]
    },
    {
     "data": {
      "text/plain": [
       "'data_science_is_booming'"
      ]
     },
     "execution_count": 18,
     "metadata": {},
     "output_type": "execute_result"
    }
   ],
   "source": [
    "s = input(\"Enter the string: \")\n",
    "s.replace(\" \",\"_\")"
   ]
  },
  {
   "cell_type": "markdown",
   "id": "288cc669-6617-487c-82c0-94550abb2d35",
   "metadata": {},
   "source": [
    "17. Check if a string starts with a specific word or phrase."
   ]
  },
  {
   "cell_type": "code",
   "execution_count": 19,
   "id": "0b6a0282-1437-40d7-887d-a32c70da41e8",
   "metadata": {},
   "outputs": [
    {
     "name": "stdin",
     "output_type": "stream",
     "text": [
      "Enter a string:  Pwskills is an edTech company. Pwskills offers may courses.\n",
      "Enter the word:  Pwskills\n"
     ]
    },
    {
     "name": "stdout",
     "output_type": "stream",
     "text": [
      "Yes, the string starts with  Pwskills\n"
     ]
    }
   ],
   "source": [
    "s = input(\"Enter a string: \")\n",
    "s1 = s.split(sep = \" \")\n",
    "w = input(\"Enter the word: \")\n",
    "if(w == s1[0]):\n",
    "    print(\"Yes, the string starts with \",w)\n",
    "else:\n",
    "    print(\"No, the string does not starts with \",w)"
   ]
  },
  {
   "cell_type": "markdown",
   "id": "1061dbfc-e505-4b96-9771-4e228017f3cb",
   "metadata": {},
   "source": [
    "18. Check if a string ends with a specific word or phrase."
   ]
  },
  {
   "cell_type": "code",
   "execution_count": 20,
   "id": "1b42d055-4630-4fbb-9634-53d980e5ecf1",
   "metadata": {},
   "outputs": [
    {
     "name": "stdin",
     "output_type": "stream",
     "text": [
      "Enter a string:  Pwskills is an edTech company. Pwskills offers may courses.\n",
      "Enter the word:  Pwskills\n"
     ]
    },
    {
     "data": {
      "text/plain": [
       "False"
      ]
     },
     "execution_count": 20,
     "metadata": {},
     "output_type": "execute_result"
    }
   ],
   "source": [
    "s = input(\"Enter a string: \")\n",
    "w = input(\"Enter the word: \")\n",
    "s.endswith(w)"
   ]
  },
  {
   "cell_type": "markdown",
   "id": "55da5c86-65e7-4e1c-b51c-9687717c39a6",
   "metadata": {},
   "source": [
    "19. Convert a string to title case (e.g., \"hello world\" to \"Hello World\")."
   ]
  },
  {
   "cell_type": "code",
   "execution_count": 21,
   "id": "8541097c-82f7-438e-a46a-f437505d4567",
   "metadata": {},
   "outputs": [
    {
     "data": {
      "text/plain": [
       "'Pwskills Is A Edtech Company'"
      ]
     },
     "execution_count": 21,
     "metadata": {},
     "output_type": "execute_result"
    }
   ],
   "source": [
    "s =  'Pwskills is a edTech company'\n",
    "s.title()"
   ]
  },
  {
   "cell_type": "markdown",
   "id": "e3eb636b-93a4-4e6d-8004-a342a9f841f9",
   "metadata": {},
   "source": [
    "20. Find the longest word in a string."
   ]
  },
  {
   "cell_type": "code",
   "execution_count": 22,
   "id": "ccade5fa-9146-4d73-a6a4-7e77480f20bc",
   "metadata": {},
   "outputs": [
    {
     "name": "stdin",
     "output_type": "stream",
     "text": [
      "Enter a sentence:  this is an example string\n"
     ]
    },
    {
     "name": "stdout",
     "output_type": "stream",
     "text": [
      "longest word in the given sentence is:  example\n"
     ]
    }
   ],
   "source": [
    "s = input(\"Enter a sentence: \")\n",
    "longest = max(s.split(sep = \" \"),key = len)\n",
    "print(\"longest word in the given sentence is: \",longest)"
   ]
  },
  {
   "cell_type": "markdown",
   "id": "c983c51e-d06e-415a-a478-0cd1407bd9b8",
   "metadata": {},
   "source": [
    "21. Find the shortest word in a string."
   ]
  },
  {
   "cell_type": "code",
   "execution_count": 23,
   "id": "b18d94a3-429c-46be-98e8-656f9d47349f",
   "metadata": {},
   "outputs": [
    {
     "name": "stdin",
     "output_type": "stream",
     "text": [
      "Enter a sentence:  this is a string.\n"
     ]
    },
    {
     "name": "stdout",
     "output_type": "stream",
     "text": [
      "Shortest word in the given sentence is:  a\n"
     ]
    }
   ],
   "source": [
    "s = input(\"Enter a sentence: \")\n",
    "shortest = min(s.split(sep = \" \"),key = len)\n",
    "print(\"Shortest word in the given sentence is: \",shortest)"
   ]
  },
  {
   "cell_type": "markdown",
   "id": "d25f2775-c26c-4f05-a3d4-20be8f3df844",
   "metadata": {},
   "source": [
    "22. Reverse the order of words in a string."
   ]
  },
  {
   "cell_type": "code",
   "execution_count": 24,
   "id": "e57dd00e-12a6-4254-a6cc-da34caf0bd84",
   "metadata": {},
   "outputs": [
    {
     "name": "stdin",
     "output_type": "stream",
     "text": [
      "Enter a string:  this is a reversed string.\n"
     ]
    },
    {
     "name": "stdout",
     "output_type": "stream",
     "text": [
      "string. reversed a is this\n"
     ]
    }
   ],
   "source": [
    "s = input(\"Enter a string: \")\n",
    "l = s.split()\n",
    "reverse_str = \" \".join(reversed(l))\n",
    "print(reverse_str)"
   ]
  },
  {
   "cell_type": "markdown",
   "id": "f0dd2973-bef0-4939-b21a-497602e18337",
   "metadata": {},
   "source": [
    "23. Check if a string is alphanumeric."
   ]
  },
  {
   "cell_type": "code",
   "execution_count": 25,
   "id": "0532fd8c-1020-4c2f-9e74-eefb79c57843",
   "metadata": {},
   "outputs": [
    {
     "name": "stdin",
     "output_type": "stream",
     "text": [
      "Enter a string:  data123\n"
     ]
    },
    {
     "data": {
      "text/plain": [
       "True"
      ]
     },
     "execution_count": 25,
     "metadata": {},
     "output_type": "execute_result"
    }
   ],
   "source": [
    "s = input(\"Enter a string: \")\n",
    "s.isalnum()"
   ]
  },
  {
   "cell_type": "markdown",
   "id": "ef8b3697-6c5c-4878-9938-9517b27efa08",
   "metadata": {},
   "source": [
    "24. Extract all digits from a string."
   ]
  },
  {
   "cell_type": "code",
   "execution_count": 26,
   "id": "e311d2c1-72e4-4d4b-8aa9-35882bd16abf",
   "metadata": {},
   "outputs": [
    {
     "name": "stdin",
     "output_type": "stream",
     "text": [
      "Enter a string:  abc123def\n"
     ]
    },
    {
     "name": "stdout",
     "output_type": "stream",
     "text": [
      "digits present in string is  ['1', '2', '3']\n"
     ]
    }
   ],
   "source": [
    "s = input(\"Enter a string: \")\n",
    "num = []\n",
    "for i in s:\n",
    "    if(i.isdigit()):\n",
    "        num.append(i)\n",
    "print(\"digits present in string is \",num)"
   ]
  },
  {
   "cell_type": "markdown",
   "id": "9613a1d2-372a-403b-ad48-828f5c1e050f",
   "metadata": {},
   "source": [
    "25. Extract all alphabets from a string."
   ]
  },
  {
   "cell_type": "code",
   "execution_count": 27,
   "id": "46e6d48f-f48f-46b9-b0d9-d35252ba3b5e",
   "metadata": {},
   "outputs": [
    {
     "name": "stdin",
     "output_type": "stream",
     "text": [
      "Enter a string:  123abc456\n"
     ]
    },
    {
     "name": "stdout",
     "output_type": "stream",
     "text": [
      "Alphabets present in string is  abc\n"
     ]
    }
   ],
   "source": [
    "s = input(\"Enter a string: \")\n",
    "alp = \"\"\n",
    "for i in s:\n",
    "    if(i.isalpha()):\n",
    "        alp = alp + i\n",
    "print(\"Alphabets present in string is \",alp)"
   ]
  },
  {
   "cell_type": "markdown",
   "id": "051982d2-16d2-42a0-99e4-61d5b8e4d9f2",
   "metadata": {},
   "source": [
    "26. Count the number of uppercase letters in a string."
   ]
  },
  {
   "cell_type": "code",
   "execution_count": 28,
   "id": "04a7adaf-a20a-40a2-9a08-1e19740e6313",
   "metadata": {},
   "outputs": [
    {
     "name": "stdin",
     "output_type": "stream",
     "text": [
      "Enter a string:  DaTa ScIEnce\n"
     ]
    },
    {
     "name": "stdout",
     "output_type": "stream",
     "text": [
      " number of uppercase letters in a string:  5\n"
     ]
    }
   ],
   "source": [
    "s = input(\"Enter a string: \")\n",
    "count = 0\n",
    "for i in s:\n",
    "    if(i.isupper()):\n",
    "        count = count + 1\n",
    "print(\" number of uppercase letters in a string: \",count)"
   ]
  },
  {
   "cell_type": "markdown",
   "id": "7ca1b4a1-2ab2-4b38-9175-17c51baaf7f7",
   "metadata": {},
   "source": [
    "27. Count the number of lowercase letters in a string."
   ]
  },
  {
   "cell_type": "code",
   "execution_count": 29,
   "id": "6b9824c2-0538-4ee4-a060-72e0c46572c9",
   "metadata": {},
   "outputs": [
    {
     "name": "stdin",
     "output_type": "stream",
     "text": [
      "Enter a string:  DaTa ScIEnce\n"
     ]
    },
    {
     "name": "stdout",
     "output_type": "stream",
     "text": [
      " number of lowercase letters in a string:  6\n"
     ]
    }
   ],
   "source": [
    "s = input(\"Enter a string: \")\n",
    "count = 0\n",
    "for i in s:\n",
    "    if(i.islower()):\n",
    "        count = count + 1\n",
    "print(\" number of lowercase letters in a string: \",count)"
   ]
  },
  {
   "cell_type": "markdown",
   "id": "0a2c6c65-3f4a-4818-8aac-6c50a66f89d7",
   "metadata": {},
   "source": [
    "28. Swap the case of each character in a string."
   ]
  },
  {
   "cell_type": "code",
   "execution_count": 30,
   "id": "56658276-0302-44bb-ab67-1a108488f2f3",
   "metadata": {},
   "outputs": [
    {
     "name": "stdin",
     "output_type": "stream",
     "text": [
      "Enter the string:  DATA SCIENCE\n"
     ]
    },
    {
     "data": {
      "text/plain": [
       "'data science'"
      ]
     },
     "execution_count": 30,
     "metadata": {},
     "output_type": "execute_result"
    }
   ],
   "source": [
    "S = input(\"Enter the string: \")\n",
    "S.swapcase()"
   ]
  },
  {
   "cell_type": "markdown",
   "id": "8a175dd4-23f5-47b2-8362-b857f108286d",
   "metadata": {},
   "source": [
    "29. Remove a specific word from a string."
   ]
  },
  {
   "cell_type": "code",
   "execution_count": 32,
   "id": "c23bf288-875c-454e-a204-48ed2ae10096",
   "metadata": {},
   "outputs": [
    {
     "name": "stdin",
     "output_type": "stream",
     "text": [
      "Enter the string:  Python is a interpreted programming language\n",
      "Enter the word:  interpreted\n"
     ]
    },
    {
     "data": {
      "text/plain": [
       "'Python is a  programming language'"
      ]
     },
     "execution_count": 32,
     "metadata": {},
     "output_type": "execute_result"
    }
   ],
   "source": [
    "s = input(\"Enter the string: \")\n",
    "w = input('Enter the word: ')\n",
    "s.replace(w,'')"
   ]
  },
  {
   "cell_type": "markdown",
   "id": "92b19191-60b7-4a0b-adf3-b0332f01543b",
   "metadata": {},
   "source": [
    "30. Check if a string is a valid email address."
   ]
  },
  {
   "cell_type": "code",
   "execution_count": 33,
   "id": "7f5f36bf-498c-435f-af67-c65a17297a44",
   "metadata": {},
   "outputs": [
    {
     "name": "stdin",
     "output_type": "stream",
     "text": [
      "Enter a string:  pwkills121@gmail.com\n"
     ]
    },
    {
     "name": "stdout",
     "output_type": "stream",
     "text": [
      "valid Email\n"
     ]
    }
   ],
   "source": [
    "import re\n",
    "pattern = r'^[\\w\\.-]+@[\\w\\.-]+\\.\\w+$'\n",
    "string = input(\"Enter a string: \")\n",
    "if re.match(pattern,string):\n",
    "     print(\"valid Email\")\n",
    "else:\n",
    "    print(\"Invalid Email\")"
   ]
  },
  {
   "cell_type": "markdown",
   "id": "c90d3792-534a-4a93-8e75-f0c161bda381",
   "metadata": {},
   "source": [
    "31. Extract the username from an email address string."
   ]
  },
  {
   "cell_type": "code",
   "execution_count": 34,
   "id": "6e1a9175-dcda-40b7-9188-fc9835a85fda",
   "metadata": {},
   "outputs": [
    {
     "name": "stdin",
     "output_type": "stream",
     "text": [
      "Enter a email ID:  pwkills121@gmail.com\n"
     ]
    },
    {
     "name": "stdout",
     "output_type": "stream",
     "text": [
      "Username:  pwkills121\n"
     ]
    }
   ],
   "source": [
    "mail = input(\"Enter a email ID: \")\n",
    "username = mail.split('@')[0]\n",
    "print(\"Username: \",username)"
   ]
  },
  {
   "cell_type": "markdown",
   "id": "0ae3c05f-b1a9-4af9-95fa-613e8c0ec68f",
   "metadata": {},
   "source": [
    "32. Extract the domain name from an email address string."
   ]
  },
  {
   "cell_type": "code",
   "execution_count": 35,
   "id": "01f9dca1-2e9a-4a92-9867-448bd937cb43",
   "metadata": {},
   "outputs": [
    {
     "name": "stdin",
     "output_type": "stream",
     "text": [
      "Enter a email ID:  pwkills121@gmail.com\n"
     ]
    },
    {
     "name": "stdout",
     "output_type": "stream",
     "text": [
      "Domain name:  gmail.com\n"
     ]
    }
   ],
   "source": [
    "mail = input(\"Enter a email ID: \")\n",
    "domain = mail.split('@')[1]\n",
    "print(\"Domain name: \",domain)"
   ]
  },
  {
   "cell_type": "markdown",
   "id": "4e443b20-b12d-4974-bacf-52f9e0f48bd7",
   "metadata": {},
   "source": [
    "33. Replace multiple spaces in a string with a single space."
   ]
  },
  {
   "cell_type": "code",
   "execution_count": 36,
   "id": "ceac0aac-40e1-41db-a943-bcd775a0c27b",
   "metadata": {},
   "outputs": [
    {
     "name": "stdin",
     "output_type": "stream",
     "text": [
      "Enter the string:  This    is   a   string    \n"
     ]
    },
    {
     "name": "stdout",
     "output_type": "stream",
     "text": [
      "This is a string\n"
     ]
    }
   ],
   "source": [
    "s = input(\"Enter the string: \")\n",
    "cleaned_string = ' '.join(s.split())\n",
    "print(cleaned_string)"
   ]
  },
  {
   "cell_type": "markdown",
   "id": "d981918e-c6c8-4fb7-87be-f1f0343b0f54",
   "metadata": {},
   "source": [
    "34. Check if a string is a valid URL."
   ]
  },
  {
   "cell_type": "code",
   "execution_count": 37,
   "id": "0f9388e7-fa40-4921-94ff-d99dab9d6bcf",
   "metadata": {},
   "outputs": [
    {
     "name": "stdin",
     "output_type": "stream",
     "text": [
      "Enter the string:  https://www.example.com\n"
     ]
    },
    {
     "data": {
      "text/plain": [
       "True"
      ]
     },
     "execution_count": 37,
     "metadata": {},
     "output_type": "execute_result"
    }
   ],
   "source": [
    "from urllib.parse import urlparse\n",
    "s = input(\"Enter the string: \")\n",
    "result = urlparse(s)\n",
    "all([result.scheme, result.netloc])"
   ]
  },
  {
   "cell_type": "markdown",
   "id": "3dbf15b5-f2cb-4c7f-b046-6040e73dbbbf",
   "metadata": {},
   "source": [
    "35. Extract the protocol (http or https) from a URL string."
   ]
  },
  {
   "cell_type": "code",
   "execution_count": 38,
   "id": "c05c6e1f-72dc-4e45-a076-2d6da5da705d",
   "metadata": {},
   "outputs": [
    {
     "name": "stdin",
     "output_type": "stream",
     "text": [
      "Enter a URL:  https://www.example.com\n"
     ]
    },
    {
     "name": "stdout",
     "output_type": "stream",
     "text": [
      "Protocol for the given URL is:  https\n"
     ]
    }
   ],
   "source": [
    "url = input(\"Enter a URL: \")\n",
    "protocol = url.split(\"://\")[0]\n",
    "print(\"Protocol for the given URL is: \",protocol)"
   ]
  },
  {
   "cell_type": "markdown",
   "id": "35becabe-27c4-46a0-9ec7-3eafa2af0d9b",
   "metadata": {},
   "source": [
    "36. Find the frequency of each character in a string."
   ]
  },
  {
   "cell_type": "code",
   "execution_count": 39,
   "id": "9b5b9491-dec1-4363-a9bd-e41cb76937f1",
   "metadata": {},
   "outputs": [
    {
     "name": "stdin",
     "output_type": "stream",
     "text": [
      "Enter a string:  this is a string\n"
     ]
    },
    {
     "name": "stdout",
     "output_type": "stream",
     "text": [
      "t  =  2\n",
      "n  =  1\n",
      "i  =  3\n",
      "s  =  3\n",
      "a  =  1\n",
      "r  =  1\n",
      "   =  3\n",
      "h  =  1\n",
      "g  =  1\n"
     ]
    }
   ],
   "source": [
    "s = input(\"Enter a string: \")\n",
    "t = set(s)\n",
    "for i in t:\n",
    "    print(i,' = ',s.count(i))"
   ]
  },
  {
   "cell_type": "markdown",
   "id": "57f04820-42fb-47a4-9ebf-f3fe611d1b4a",
   "metadata": {},
   "source": [
    "37. Remove all punctuation from a string."
   ]
  },
  {
   "cell_type": "code",
   "execution_count": 40,
   "id": "34d88a4b-6dff-4029-98a2-b56ca4d63bf6",
   "metadata": {},
   "outputs": [
    {
     "name": "stdin",
     "output_type": "stream",
     "text": [
      "Enter a string:  hello, world! how are you doing?\n"
     ]
    },
    {
     "name": "stdout",
     "output_type": "stream",
     "text": [
      "hello world how are you doing\n"
     ]
    }
   ],
   "source": [
    "import string\n",
    "s = input(\"Enter a string: \")\n",
    "for punctuation in string.punctuation :\n",
    "     s = s.replace(punctuation,'')\n",
    "print(s)"
   ]
  },
  {
   "cell_type": "markdown",
   "id": "f8909891-fc44-4df5-b725-f4df0f25263a",
   "metadata": {},
   "source": [
    "38. Check if a string contains only digits."
   ]
  },
  {
   "cell_type": "code",
   "execution_count": 41,
   "id": "92636477-bb76-4613-b528-ffb96b026e1b",
   "metadata": {},
   "outputs": [
    {
     "name": "stdin",
     "output_type": "stream",
     "text": [
      "Enter a string:  123\n"
     ]
    },
    {
     "data": {
      "text/plain": [
       "True"
      ]
     },
     "execution_count": 41,
     "metadata": {},
     "output_type": "execute_result"
    }
   ],
   "source": [
    "s = input(\"Enter a string: \")\n",
    "s.isdigit()"
   ]
  },
  {
   "cell_type": "markdown",
   "id": "ad17c731-1c34-465b-8f12-bb60c3bbb90c",
   "metadata": {},
   "source": [
    "39. Check if a string contains only alphabets."
   ]
  },
  {
   "cell_type": "code",
   "execution_count": 42,
   "id": "1ed59092-a668-41ee-9a93-ccc2cafc5376",
   "metadata": {},
   "outputs": [
    {
     "name": "stdin",
     "output_type": "stream",
     "text": [
      "Enter a string:  string\n"
     ]
    },
    {
     "data": {
      "text/plain": [
       "True"
      ]
     },
     "execution_count": 42,
     "metadata": {},
     "output_type": "execute_result"
    }
   ],
   "source": [
    "s = input(\"Enter a string: \")\n",
    "s.isalpha()"
   ]
  },
  {
   "cell_type": "markdown",
   "id": "95819103-c5bc-4b0c-9592-10f51f0d7e9d",
   "metadata": {},
   "source": [
    "40. Convert a string to a list of characters."
   ]
  },
  {
   "cell_type": "code",
   "execution_count": 43,
   "id": "b5e0074d-44b1-4e3d-988f-3a00e2ee11c1",
   "metadata": {},
   "outputs": [
    {
     "name": "stdin",
     "output_type": "stream",
     "text": [
      "Enter a string:  this is an example string\n"
     ]
    },
    {
     "name": "stdout",
     "output_type": "stream",
     "text": [
      "['t', 'h', 'i', 's', ' ', 'i', 's', ' ', 'a', 'n', ' ', 'e', 'x', 'a', 'm', 'p', 'l', 'e', ' ', 's', 't', 'r', 'i', 'n', 'g']\n"
     ]
    }
   ],
   "source": [
    "s = input(\"Enter a string: \")\n",
    "b = []\n",
    "for i in s:\n",
    "    b.append(i)\n",
    "print(b)"
   ]
  },
  {
   "cell_type": "markdown",
   "id": "df8b3b1e-7087-4460-ab6c-2a57e0dc341d",
   "metadata": {},
   "source": [
    "41. Check if two strings are anagrams."
   ]
  },
  {
   "cell_type": "code",
   "execution_count": 1,
   "id": "f4c1efa9-6786-48e0-afec-c589a44d18f7",
   "metadata": {},
   "outputs": [
    {
     "name": "stdin",
     "output_type": "stream",
     "text": [
      "Enter first string:  spar\n",
      "Enter second string:  rasp\n"
     ]
    },
    {
     "name": "stdout",
     "output_type": "stream",
     "text": [
      "spar  and rasp  are anagrams\n"
     ]
    }
   ],
   "source": [
    "s1 = input(\"Enter first string: \")\n",
    "s2 = input(\"Enter second string: \")\n",
    "str1 = s1.replace(\" \",\"\").lower()\n",
    "str2 = s2.replace(\" \",\"\").lower()\n",
    "if sorted(str1) == sorted(str2):\n",
    "    print(s1,\" and\",s2,\" are anagrams\")\n",
    "else:\n",
    "    print(s1,\" and\",s2,\" are not anagrams\")"
   ]
  },
  {
   "cell_type": "markdown",
   "id": "06fd29ab-5392-43ed-8382-5c8c143813ef",
   "metadata": {},
   "source": [
    "42. Encode a string using a Caesar cipher."
   ]
  },
  {
   "cell_type": "code",
   "execution_count": 2,
   "id": "42920c95-c98e-47a3-84e4-03cb8543d23b",
   "metadata": {},
   "outputs": [
    {
     "name": "stdin",
     "output_type": "stream",
     "text": [
      "Enter a string:  hello, world!\n",
      "Enter the number of shifts:  4\n"
     ]
    },
    {
     "name": "stdout",
     "output_type": "stream",
     "text": [
      "Encoded string using a Caesar cipher is:  lipps, asvph!\n"
     ]
    }
   ],
   "source": [
    "s = input(\"Enter a string: \")\n",
    "shift = int(input(\"Enter the number of shifts: \"))\n",
    "result = \"\"\n",
    "for i in s:\n",
    "    if (i.isalpha()): \n",
    "        if(i.isupper()):\n",
    "            result += chr((ord(i) + shift - 65) % 26 + 65)\n",
    "        else:\n",
    "            result += chr((ord(i) + shift - 97) % 26 + 97)\n",
    "    else:\n",
    "        result += i\n",
    "print(\"Encoded string using a Caesar cipher is: \",result)"
   ]
  },
  {
   "cell_type": "markdown",
   "id": "90a8cd3a-3ab5-4bf0-aa3a-ae905a09dbba",
   "metadata": {},
   "source": [
    "43. Decode a Caesar cipher encoded string."
   ]
  },
  {
   "cell_type": "code",
   "execution_count": 3,
   "id": "beda66cd-a8ed-41b7-8227-da75658aa2d9",
   "metadata": {},
   "outputs": [
    {
     "name": "stdin",
     "output_type": "stream",
     "text": [
      "Enter a Caesar encoded string:  lipps, asvph!\n",
      "Enter the number of shifts:  4\n"
     ]
    },
    {
     "name": "stdout",
     "output_type": "stream",
     "text": [
      "Decoded string of Caesar cipher is:  hello, world!\n"
     ]
    }
   ],
   "source": [
    "s = input(\"Enter a Caesar encoded string: \")\n",
    "shift = int(input(\"Enter the number of shifts: \"))\n",
    "result = \"\"\n",
    "for i in s:\n",
    "    if (i.isalpha()): \n",
    "        if(i.isupper()):\n",
    "            result += chr((ord(i) - shift - 65) % 26 + 65)\n",
    "        else:\n",
    "            result += chr((ord(i) - shift - 97) % 26 + 97)\n",
    "    else:\n",
    "        result += i\n",
    "print(\"Decoded string of Caesar cipher is: \",result)"
   ]
  },
  {
   "cell_type": "markdown",
   "id": "5bc7564f-8f16-452b-ae0c-785c69d05b90",
   "metadata": {},
   "source": [
    "44. Find the most frequent word in a string."
   ]
  },
  {
   "cell_type": "code",
   "execution_count": 4,
   "id": "3e135e9c-cbd5-448b-9b7c-02a29d89c59f",
   "metadata": {},
   "outputs": [
    {
     "name": "stdin",
     "output_type": "stream",
     "text": [
      "Enter a string:  I am Mohammed Moin. I stay in Bengaluru. I am a recent graduate.\n"
     ]
    },
    {
     "data": {
      "text/plain": [
       "[('I', 3)]"
      ]
     },
     "execution_count": 4,
     "metadata": {},
     "output_type": "execute_result"
    }
   ],
   "source": [
    "from collections import Counter\n",
    "import string\n",
    "s = input(\"Enter a string: \")\n",
    "for punctuation in string.punctuation:\n",
    "    s = s.replace(punctuation,\"\")\n",
    "l = s.split()\n",
    "freq = Counter(l)\n",
    "freq.most_common(1)"
   ]
  },
  {
   "cell_type": "markdown",
   "id": "0c64eecf-b73d-48b9-bb29-047af5446235",
   "metadata": {},
   "source": [
    "45. Find all unique words in a string."
   ]
  },
  {
   "cell_type": "code",
   "execution_count": 5,
   "id": "0557c45b-5df2-4936-b80f-3793e821b167",
   "metadata": {},
   "outputs": [
    {
     "name": "stdin",
     "output_type": "stream",
     "text": [
      "Enter a string:  I am Mohammed Moin. I stay in Bengaluru. I am a recent graduate.\n"
     ]
    },
    {
     "name": "stdout",
     "output_type": "stream",
     "text": [
      "All unique words are:  {'a', 'am', 'i', 'moin', 'bengaluru', 'recent', 'stay', 'in', 'graduate', 'mohammed'}\n"
     ]
    }
   ],
   "source": [
    "s = input(\"Enter a string: \")\n",
    "for punctuation in string.punctuation:\n",
    "    s = s.replace(punctuation,\"\").lower()\n",
    "unique_words = set(s.split())\n",
    "print(\"All unique words are: \",unique_words)"
   ]
  },
  {
   "cell_type": "markdown",
   "id": "ae7f69c4-b1d3-4dd4-8727-e4862db203bf",
   "metadata": {},
   "source": [
    "46. Count the number of syllables in a string."
   ]
  },
  {
   "cell_type": "code",
   "execution_count": 6,
   "id": "e8663e99-a6f2-4e17-9671-1fe71964d518",
   "metadata": {},
   "outputs": [
    {
     "name": "stdin",
     "output_type": "stream",
     "text": [
      "Enter a string:  category\n"
     ]
    },
    {
     "name": "stdout",
     "output_type": "stream",
     "text": [
      "Total number of syllables in the given string is:  4\n"
     ]
    }
   ],
   "source": [
    "s = input(\"Enter a string: \")\n",
    "s = s.lower()\n",
    "count = 0\n",
    "for i in s:\n",
    "    if i in ['a','e','i','o','u','y']:\n",
    "        count += 1\n",
    "print(\"Total number of syllables in the given string is: \",count)"
   ]
  },
  {
   "cell_type": "markdown",
   "id": "0beea2ae-bd59-4a70-b6ab-0a1c2f627276",
   "metadata": {},
   "source": [
    "47. Check if a string contains any special characters."
   ]
  },
  {
   "cell_type": "code",
   "execution_count": 7,
   "id": "85d53dfc-3c55-45fc-b6bd-6e3fa82dde07",
   "metadata": {},
   "outputs": [
    {
     "name": "stdin",
     "output_type": "stream",
     "text": [
      "Enter a string:  pwskills@gmail.com\n"
     ]
    },
    {
     "data": {
      "text/plain": [
       "True"
      ]
     },
     "execution_count": 7,
     "metadata": {},
     "output_type": "execute_result"
    }
   ],
   "source": [
    "import re\n",
    "s = input(\"Enter a string: \")\n",
    "pattern  = re.compile(r'[!@#$%^&*()_+{}\\[\\]:;<>,.?~\\\\/]')\n",
    "bool(pattern.search(s))"
   ]
  },
  {
   "cell_type": "markdown",
   "id": "8900b99b-05bc-4007-93ce-d1424a2faff0",
   "metadata": {},
   "source": [
    "48. Remove the nth word from a string."
   ]
  },
  {
   "cell_type": "code",
   "execution_count": 9,
   "id": "7e2bcb68-ca93-4236-8c4c-c6aec3d29595",
   "metadata": {},
   "outputs": [
    {
     "name": "stdin",
     "output_type": "stream",
     "text": [
      "Enter a string:  data science is a booming industry\n",
      "Enter the value of N:  3\n"
     ]
    },
    {
     "name": "stdout",
     "output_type": "stream",
     "text": [
      "new string is:  data science is booming industry\n",
      "Removed word is:  a\n"
     ]
    }
   ],
   "source": [
    "string = input(\"Enter a string: \")\n",
    "n = int(input(\"Enter the value of N: \"))\n",
    "lst = string.split()\n",
    "removed_word = lst.pop(n)\n",
    "string = ' '.join(lst)\n",
    "print(\"new string is: \",string)\n",
    "print(\"Removed word is: \",removed_word)"
   ]
  },
  {
   "cell_type": "markdown",
   "id": "e90e9522-717e-4cc3-bc68-f7392ea3d23a",
   "metadata": {},
   "source": [
    "49. Insert a word at the nth position in a string."
   ]
  },
  {
   "cell_type": "code",
   "execution_count": 10,
   "id": "0a0efa81-e36f-4b09-9b3c-337764d41e04",
   "metadata": {},
   "outputs": [
    {
     "name": "stdin",
     "output_type": "stream",
     "text": [
      "Enter a string:  data science is booming industry\n",
      "Enter a word:  a\n",
      "Enter the value of N:  3\n"
     ]
    },
    {
     "name": "stdout",
     "output_type": "stream",
     "text": [
      "new string is:  data science is a booming industry\n"
     ]
    }
   ],
   "source": [
    "string = input(\"Enter a string: \")\n",
    "word = input(\"Enter a word: \")\n",
    "n = int(input(\"Enter the value of N: \"))\n",
    "lst = string.split()\n",
    "lst.insert(n,word)\n",
    "string = ' '.join(lst)\n",
    "print(\"new string is: \",string)"
   ]
  },
  {
   "cell_type": "markdown",
   "id": "4bd66fea-1b60-44eb-bc95-4e2a63f49e05",
   "metadata": {},
   "source": [
    "50. Convert a CSV string to a list of lists."
   ]
  },
  {
   "cell_type": "code",
   "execution_count": 11,
   "id": "20579ff5-746f-48e1-87d9-cd401dcf75ae",
   "metadata": {},
   "outputs": [
    {
     "name": "stdin",
     "output_type": "stream",
     "text": [
      "Enter a string:  Name, Age, Country\\nJohn, 25, USA\\nAlice, 30, Canada\\nBob, 22, UK\n"
     ]
    },
    {
     "name": "stdout",
     "output_type": "stream",
     "text": [
      "['Name', ' Age', ' Country']\n",
      "['John', ' 25', ' USA']\n",
      "['Alice', ' 30', ' Canada']\n",
      "['Bob', ' 22', ' UK']\n"
     ]
    }
   ],
   "source": [
    "string = input(\"Enter a string: \")\n",
    "lst = string.split('\\\\n')\n",
    "result = []\n",
    "for each_line in lst:\n",
    "    new_list = each_line.split(',')\n",
    "    result.append(new_list)\n",
    "for each_list in result:\n",
    "    print(each_list)"
   ]
  },
  {
   "cell_type": "markdown",
   "id": "30c8ec13-b881-4aaa-81dd-3b81608212e6",
   "metadata": {},
   "source": [
    "List Based Practice Problem :"
   ]
  },
  {
   "cell_type": "markdown",
   "id": "9f94193e-e917-4903-af3c-578e03175098",
   "metadata": {},
   "source": [
    "1. Create a list with integers from 1 to 10."
   ]
  },
  {
   "cell_type": "code",
   "execution_count": 12,
   "id": "714ce615-e812-461e-be14-5bec74c164d2",
   "metadata": {},
   "outputs": [
    {
     "name": "stdout",
     "output_type": "stream",
     "text": [
      "[1, 2, 3, 4, 5, 6, 7, 8, 9, 10]\n"
     ]
    }
   ],
   "source": [
    "integer = []\n",
    "i = 1\n",
    "while(i<=10):\n",
    "    integer.append(i)\n",
    "    i = i + 1\n",
    "print(integer)"
   ]
  },
  {
   "cell_type": "markdown",
   "id": "eadefdfb-84ff-4649-a88e-3a13dd13bbae",
   "metadata": {},
   "source": [
    "2. Find the length of a list without using the `len()` function."
   ]
  },
  {
   "cell_type": "code",
   "execution_count": 13,
   "id": "027d74dc-1b7c-4650-a832-7f6904206720",
   "metadata": {},
   "outputs": [
    {
     "name": "stdout",
     "output_type": "stream",
     "text": [
      "Length of given list is:  7\n"
     ]
    }
   ],
   "source": [
    "l = [10,20,30,'pwskills',True,False,76.44]\n",
    "length = 0\n",
    "for i in l:\n",
    "    length += 1\n",
    "print(\"Length of given list is: \",length)"
   ]
  },
  {
   "cell_type": "markdown",
   "id": "d2597889-8e96-4550-ad9f-3ba7467435e6",
   "metadata": {},
   "source": [
    "3. Append an element to the end of a list."
   ]
  },
  {
   "cell_type": "code",
   "execution_count": 14,
   "id": "b5a9df7a-464b-4e45-86d4-4b799398b3bf",
   "metadata": {},
   "outputs": [
    {
     "data": {
      "text/plain": [
       "[10, 20, 30, 40, 50]"
      ]
     },
     "execution_count": 14,
     "metadata": {},
     "output_type": "execute_result"
    }
   ],
   "source": [
    "l = [10,20,30,40]\n",
    "l.append(50)\n",
    "l"
   ]
  },
  {
   "cell_type": "markdown",
   "id": "6f56e612-f5db-40e4-9bfb-6636bbbd5df8",
   "metadata": {},
   "source": [
    "4. Insert an element at a specific index in a list."
   ]
  },
  {
   "cell_type": "code",
   "execution_count": 15,
   "id": "7e80a066-f7e2-489c-a1c2-da13125a3fb7",
   "metadata": {},
   "outputs": [
    {
     "data": {
      "text/plain": [
       "[10, 20, 30, 40, 50, 60]"
      ]
     },
     "execution_count": 15,
     "metadata": {},
     "output_type": "execute_result"
    }
   ],
   "source": [
    "l = [10,20,40,50,60]\n",
    "l.insert(2,30)\n",
    "l"
   ]
  },
  {
   "cell_type": "markdown",
   "id": "d15521e3-9a1f-473a-adc7-aa00bef6eb51",
   "metadata": {},
   "source": [
    "5. Remove an element from a list by its value."
   ]
  },
  {
   "cell_type": "code",
   "execution_count": 16,
   "id": "5971a50c-6041-4fcd-a55f-f6777cca03f6",
   "metadata": {},
   "outputs": [
    {
     "data": {
      "text/plain": [
       "[10, 20, 30, 50, 60]"
      ]
     },
     "execution_count": 16,
     "metadata": {},
     "output_type": "execute_result"
    }
   ],
   "source": [
    "l = [10,20,30,40,50,60]\n",
    "l.remove(40)\n",
    "l"
   ]
  },
  {
   "cell_type": "markdown",
   "id": "86ddbaf5-4e8a-4dbd-acaa-9d82a58f5252",
   "metadata": {},
   "source": [
    "6. Remove an element from a list by its index."
   ]
  },
  {
   "cell_type": "code",
   "execution_count": 17,
   "id": "c059db5f-ac5d-4750-84eb-482b5d20de04",
   "metadata": {},
   "outputs": [
    {
     "data": {
      "text/plain": [
       "[10, 20, 30, 40, 60]"
      ]
     },
     "execution_count": 17,
     "metadata": {},
     "output_type": "execute_result"
    }
   ],
   "source": [
    "l = [10,20,30,40,50,60]\n",
    "l.pop(4)\n",
    "l"
   ]
  },
  {
   "cell_type": "markdown",
   "id": "d150eed5-c586-4e64-bbd5-fbfef288051a",
   "metadata": {},
   "source": [
    "7. Check if an element exists in a list."
   ]
  },
  {
   "cell_type": "code",
   "execution_count": 18,
   "id": "c38cc006-ddbe-45c0-9f8c-536de553ebf2",
   "metadata": {},
   "outputs": [
    {
     "name": "stdout",
     "output_type": "stream",
     "text": [
      "Yes, It exists.\n"
     ]
    }
   ],
   "source": [
    "l = [10,20,30,40,50,60]\n",
    "check = 50\n",
    "if check in l:\n",
    "    print(\"Yes, It exists.\")\n",
    "else:\n",
    "    print(\"No, It doesn't exists.\")"
   ]
  },
  {
   "cell_type": "markdown",
   "id": "7e190525-310e-4470-8b2f-514c8df0cf94",
   "metadata": {},
   "source": [
    "8. Find the index of the first occurrence of an element in a list."
   ]
  },
  {
   "cell_type": "code",
   "execution_count": 19,
   "id": "c2714473-f05c-42fe-adf2-1db9ffb8268d",
   "metadata": {},
   "outputs": [
    {
     "name": "stdin",
     "output_type": "stream",
     "text": [
      "Enter an element:  10\n"
     ]
    },
    {
     "data": {
      "text/plain": [
       "0"
      ]
     },
     "execution_count": 19,
     "metadata": {},
     "output_type": "execute_result"
    }
   ],
   "source": [
    "l = [10,20,30,30,20,10,40]\n",
    "check = int(input(\"Enter an element: \"))\n",
    "l.index(check)"
   ]
  },
  {
   "cell_type": "markdown",
   "id": "55c3b930-f96e-4dbb-b58f-cfa4639d9b14",
   "metadata": {},
   "source": [
    "9. Count the occurrences of an element in a list."
   ]
  },
  {
   "cell_type": "code",
   "execution_count": 20,
   "id": "825fc59e-2e2e-4ec1-b608-cae6720694eb",
   "metadata": {},
   "outputs": [
    {
     "name": "stdin",
     "output_type": "stream",
     "text": [
      "Enter an element:  10\n"
     ]
    },
    {
     "data": {
      "text/plain": [
       "2"
      ]
     },
     "execution_count": 20,
     "metadata": {},
     "output_type": "execute_result"
    }
   ],
   "source": [
    "l = [10,20,30,30,20,10,40]\n",
    "check = int(input(\"Enter an element: \"))\n",
    "l.count(check)"
   ]
  },
  {
   "cell_type": "markdown",
   "id": "a313feea-958c-43e9-a886-6b7b2418d794",
   "metadata": {},
   "source": [
    "10. Reverse the order of elements in a list."
   ]
  },
  {
   "cell_type": "code",
   "execution_count": 21,
   "id": "7a6e1ba4-ea85-47b3-8590-01b1d1a94c66",
   "metadata": {},
   "outputs": [
    {
     "data": {
      "text/plain": [
       "[60, 50, 40, 30, 20, 10]"
      ]
     },
     "execution_count": 21,
     "metadata": {},
     "output_type": "execute_result"
    }
   ],
   "source": [
    "l = [10,20,30,40,50,60]\n",
    "l.reverse()\n",
    "l"
   ]
  },
  {
   "cell_type": "markdown",
   "id": "276a1714-fa3f-4b6d-bbbe-c246f76aa119",
   "metadata": {},
   "source": [
    "11. Sort a list in ascending order."
   ]
  },
  {
   "cell_type": "code",
   "execution_count": 22,
   "id": "7eb27a71-1c14-457f-9810-a5406e7e7ac8",
   "metadata": {},
   "outputs": [
    {
     "data": {
      "text/plain": [
       "[1, 2, 5, 7, 7, 10, 31, 45, 67, 90]"
      ]
     },
     "execution_count": 22,
     "metadata": {},
     "output_type": "execute_result"
    }
   ],
   "source": [
    "l = [10,7,2,90,45,1,5,7,31,67]\n",
    "l.sort()\n",
    "l"
   ]
  },
  {
   "cell_type": "markdown",
   "id": "2b218a8a-b4c0-48a3-8d50-4b105a298be5",
   "metadata": {},
   "source": [
    "12. Sort a list in descending order."
   ]
  },
  {
   "cell_type": "code",
   "execution_count": 23,
   "id": "235b8770-f706-4cdb-be55-e10e73025fcc",
   "metadata": {},
   "outputs": [
    {
     "data": {
      "text/plain": [
       "[90, 67, 45, 31, 10, 7, 7, 5, 2, 1]"
      ]
     },
     "execution_count": 23,
     "metadata": {},
     "output_type": "execute_result"
    }
   ],
   "source": [
    "l = [10,7,2,90,45,1,5,7,31,67]\n",
    "l.sort(reverse = True)\n",
    "l"
   ]
  },
  {
   "cell_type": "markdown",
   "id": "75791d58-e43e-4b72-b479-dddc2621e0ea",
   "metadata": {},
   "source": [
    "13. Create a list of even numbers from 1 to 20."
   ]
  },
  {
   "cell_type": "code",
   "execution_count": 24,
   "id": "ea681a93-1c04-41f9-aa75-10e03c36c4fd",
   "metadata": {},
   "outputs": [
    {
     "data": {
      "text/plain": [
       "[2, 4, 6, 8, 10, 12, 14, 16, 18, 20]"
      ]
     },
     "execution_count": 24,
     "metadata": {},
     "output_type": "execute_result"
    }
   ],
   "source": [
    "l = []\n",
    "i = 1\n",
    "while (i <= 20):\n",
    "    if(i % 2 == 0):\n",
    "        l.append(i)\n",
    "        i = i + 1\n",
    "    else:\n",
    "        i = i + 1 \n",
    "l"
   ]
  },
  {
   "cell_type": "markdown",
   "id": "6f174ee1-3310-4279-88ac-bef4496d1dd3",
   "metadata": {},
   "source": [
    "14. Create a list of odd numbers from 1 to 20."
   ]
  },
  {
   "cell_type": "code",
   "execution_count": 25,
   "id": "d4248c47-3336-4661-8755-c5b3590e7293",
   "metadata": {},
   "outputs": [
    {
     "data": {
      "text/plain": [
       "[1, 3, 5, 7, 9, 11, 13, 15, 17, 19]"
      ]
     },
     "execution_count": 25,
     "metadata": {},
     "output_type": "execute_result"
    }
   ],
   "source": [
    "l = []\n",
    "i = 1\n",
    "while (i <= 20):\n",
    "    if(i % 2 != 0):\n",
    "        l.append(i)\n",
    "        i = i + 1\n",
    "    else:\n",
    "        i = i + 1 \n",
    "l"
   ]
  },
  {
   "cell_type": "markdown",
   "id": "4cd6a587-85a2-42a2-b235-605f5a92d5e0",
   "metadata": {},
   "source": [
    "15. Find the sum of all elements in a list."
   ]
  },
  {
   "cell_type": "code",
   "execution_count": 26,
   "id": "efa22d3d-401d-4148-b7f6-5a3d7fa497c6",
   "metadata": {},
   "outputs": [
    {
     "data": {
      "text/plain": [
       "210"
      ]
     },
     "execution_count": 26,
     "metadata": {},
     "output_type": "execute_result"
    }
   ],
   "source": [
    "l = [10,20,30,40,50,60]\n",
    "sum(l)"
   ]
  },
  {
   "cell_type": "markdown",
   "id": "51bc0f34-95dd-4cfa-a54e-bedcb15adefa",
   "metadata": {},
   "source": [
    "16. Find the maximum value in a list."
   ]
  },
  {
   "cell_type": "code",
   "execution_count": 27,
   "id": "2a869eac-5873-47e4-970e-2de0b07461e8",
   "metadata": {},
   "outputs": [
    {
     "data": {
      "text/plain": [
       "60"
      ]
     },
     "execution_count": 27,
     "metadata": {},
     "output_type": "execute_result"
    }
   ],
   "source": [
    "l = [10,20,30,40,50,60]\n",
    "max(l)"
   ]
  },
  {
   "cell_type": "markdown",
   "id": "917627b4-547b-458a-86ca-0fedf9292c11",
   "metadata": {},
   "source": [
    "17. Find the minimum value in a list."
   ]
  },
  {
   "cell_type": "code",
   "execution_count": 28,
   "id": "477c6fd5-f071-4406-97d2-6b3214ddd121",
   "metadata": {},
   "outputs": [
    {
     "data": {
      "text/plain": [
       "10"
      ]
     },
     "execution_count": 28,
     "metadata": {},
     "output_type": "execute_result"
    }
   ],
   "source": [
    "l = [10,20,30,40,50,60]\n",
    "min(l)"
   ]
  },
  {
   "cell_type": "markdown",
   "id": "129e548e-590e-4a5a-981a-3d379bdaef80",
   "metadata": {},
   "source": [
    "18. Create a list of squares of numbers from 1 to 10."
   ]
  },
  {
   "cell_type": "code",
   "execution_count": 29,
   "id": "69030718-17c5-4673-a239-5e7f8c6039c2",
   "metadata": {},
   "outputs": [
    {
     "data": {
      "text/plain": [
       "[1, 4, 9, 16, 25, 36, 49, 64, 81, 100]"
      ]
     },
     "execution_count": 29,
     "metadata": {},
     "output_type": "execute_result"
    }
   ],
   "source": [
    "l = []\n",
    "i = 1\n",
    "while(i <= 10):\n",
    "    s = i*i\n",
    "    l.append(s)\n",
    "    i += 1\n",
    "l"
   ]
  },
  {
   "cell_type": "markdown",
   "id": "2ab0d165-9643-49dd-a876-f87d404386e8",
   "metadata": {},
   "source": [
    "19. Create a list of random numbers."
   ]
  },
  {
   "cell_type": "code",
   "execution_count": 30,
   "id": "4e8bbad8-263d-4e66-ab4c-4ec97406b647",
   "metadata": {},
   "outputs": [
    {
     "data": {
      "text/plain": [
       "[78, 90, 75, 67, 40, 35, 88, 49, 8, 75]"
      ]
     },
     "execution_count": 30,
     "metadata": {},
     "output_type": "execute_result"
    }
   ],
   "source": [
    "import random\n",
    "l = [random.randint(1,100) for x in range(10)]\n",
    "l"
   ]
  },
  {
   "cell_type": "markdown",
   "id": "f60ec573-eca3-4db6-823b-09132aa2fc3f",
   "metadata": {},
   "source": [
    "20. Remove duplicates from a list."
   ]
  },
  {
   "cell_type": "code",
   "execution_count": 31,
   "id": "0ef73db2-48af-4a99-8f57-3d53c99e4cf8",
   "metadata": {},
   "outputs": [
    {
     "name": "stdout",
     "output_type": "stream",
     "text": [
      "List with unique elements:  [34, 100, 40, 10, 50, 20, 90]\n"
     ]
    }
   ],
   "source": [
    "l = [10,50,34,40,20,10,50,100,90,40,20]\n",
    "unqlist = list(set(l))\n",
    "print(\"List with unique elements: \",unqlist)"
   ]
  },
  {
   "cell_type": "markdown",
   "id": "aea33980-fa61-4e7d-b215-5f7086cfdd22",
   "metadata": {},
   "source": [
    "21. Find the common elements between two lists."
   ]
  },
  {
   "cell_type": "code",
   "execution_count": 32,
   "id": "ec1499df-c66c-4219-80a7-65133f4a4ac7",
   "metadata": {},
   "outputs": [
    {
     "name": "stdout",
     "output_type": "stream",
     "text": [
      "Common elements from both lists are:  [10, 55, 20]\n"
     ]
    }
   ],
   "source": [
    "l1 = [10,25,15,55,45,20]\n",
    "l2 = [90,10,75,55,20,65]\n",
    "common_ele = []\n",
    "for i in l1:\n",
    "    if i in l2:\n",
    "        common_ele.append(i)\n",
    "    else:\n",
    "        continue\n",
    "print(\"Common elements from both lists are: \",common_ele)"
   ]
  },
  {
   "cell_type": "markdown",
   "id": "f705dba7-49d9-4a0b-94cc-d5bab0a545b9",
   "metadata": {},
   "source": [
    "22. Find the difference between two lists."
   ]
  },
  {
   "cell_type": "code",
   "execution_count": 33,
   "id": "2d4d08a2-6ec3-43be-8f4b-96f0761f3559",
   "metadata": {},
   "outputs": [
    {
     "name": "stdout",
     "output_type": "stream",
     "text": [
      "[25, 15, 45]\n",
      "[90, 75, 65]\n"
     ]
    }
   ],
   "source": [
    "l1 = [10,25,15,55,45,20]\n",
    "l2 = [90,10,75,55,20,65]\n",
    "diff_elem1 = [x for x in l1 if x not in l2]\n",
    "diff_elem2 = [x for x in l2 if x not in l1]\n",
    "print(diff_elem1)\n",
    "print(diff_elem2)"
   ]
  },
  {
   "cell_type": "markdown",
   "id": "16dc08b1-95f3-48d8-81e1-f74bbdcdf491",
   "metadata": {},
   "source": [
    "23. Merge two lists."
   ]
  },
  {
   "cell_type": "code",
   "execution_count": 34,
   "id": "b8abb93c-5446-40ed-a73b-47feb6a6b3a2",
   "metadata": {},
   "outputs": [
    {
     "name": "stdout",
     "output_type": "stream",
     "text": [
      "[10, 25, 15, 55, 45, 20, 90, 10, 75, 55, 20, 65]\n"
     ]
    }
   ],
   "source": [
    "l1 = [10,25,15,55,45,20]\n",
    "l2 = [90,10,75,55,20,65]\n",
    "l1.extend(l2)\n",
    "print(l1)"
   ]
  },
  {
   "cell_type": "markdown",
   "id": "01503306-f5a9-46d2-a976-14e8e0856bb8",
   "metadata": {},
   "source": [
    "24. Multiply all elements in a list by 2."
   ]
  },
  {
   "cell_type": "code",
   "execution_count": 35,
   "id": "99bae154-87fa-459e-96de-db65e3dffe24",
   "metadata": {},
   "outputs": [
    {
     "data": {
      "text/plain": [
       "[20, 40, 60, 80, 100]"
      ]
     },
     "execution_count": 35,
     "metadata": {},
     "output_type": "execute_result"
    }
   ],
   "source": [
    "l = [10,20,30,40,50]\n",
    "new_list = [x*2 for x in l ]\n",
    "new_list"
   ]
  },
  {
   "cell_type": "markdown",
   "id": "887ef595-abcc-4f98-8fc7-406ee60dffb6",
   "metadata": {},
   "source": [
    "25. Filter out all even numbers from a list."
   ]
  },
  {
   "cell_type": "code",
   "execution_count": 36,
   "id": "ae219ac9-d734-49f2-84f9-da684acfd9e5",
   "metadata": {},
   "outputs": [
    {
     "data": {
      "text/plain": [
       "[35, 65, 47, 23, 85]"
      ]
     },
     "execution_count": 36,
     "metadata": {},
     "output_type": "execute_result"
    }
   ],
   "source": [
    "l = [10,35,20,65,80,100,47,23,85]\n",
    "odd_list = [x for x in l if x % 2 != 0]\n",
    "l = odd_list\n",
    "l"
   ]
  },
  {
   "cell_type": "markdown",
   "id": "903a82ce-884e-4184-9a83-13acae53cdac",
   "metadata": {},
   "source": [
    "26. Convert a list of strings to a list of integers."
   ]
  },
  {
   "cell_type": "code",
   "execution_count": 37,
   "id": "7a9f1bc8-a6fa-4eb8-93f5-a286070c0862",
   "metadata": {},
   "outputs": [
    {
     "data": {
      "text/plain": [
       "[10, 20, 30, 40, 50]"
      ]
     },
     "execution_count": 37,
     "metadata": {},
     "output_type": "execute_result"
    }
   ],
   "source": [
    "l = ['10','20','30','40','50']\n",
    "final_list = [int(x) for x in l]\n",
    "final_list"
   ]
  },
  {
   "cell_type": "markdown",
   "id": "0c60b886-306f-4956-8ec4-e71cb5753394",
   "metadata": {},
   "source": [
    "27. Convert a list of integers to a list of strings."
   ]
  },
  {
   "cell_type": "code",
   "execution_count": 38,
   "id": "4af63604-fd48-487e-be99-9e855570f2aa",
   "metadata": {},
   "outputs": [
    {
     "data": {
      "text/plain": [
       "['10', '20', '30', '40', '50']"
      ]
     },
     "execution_count": 38,
     "metadata": {},
     "output_type": "execute_result"
    }
   ],
   "source": [
    "l = [10,20,30,40,50]\n",
    "final_list = [str(x) for x in l]\n",
    "final_list"
   ]
  },
  {
   "cell_type": "markdown",
   "id": "b76ab0ed-a03a-4654-a181-2bb49e2092f1",
   "metadata": {},
   "source": [
    "28. Flatten a nested list."
   ]
  },
  {
   "cell_type": "code",
   "execution_count": 39,
   "id": "0ff82abc-b44a-4934-9176-78538fb92b54",
   "metadata": {},
   "outputs": [
    {
     "data": {
      "text/plain": [
       "[1, 2, 3, 4, 5, 6, 7, 8, 9]"
      ]
     },
     "execution_count": 39,
     "metadata": {},
     "output_type": "execute_result"
    }
   ],
   "source": [
    "l = [[1,2,3],4,5,[6,7,8],9]\n",
    "flattened = []\n",
    "for i in l:\n",
    "    if isinstance(i,list):\n",
    "        flattened.extend(i)\n",
    "    else:\n",
    "        flattened.append(i)\n",
    "flattened"
   ]
  },
  {
   "cell_type": "markdown",
   "id": "032d9b62-5895-45e2-997d-59ab4b0964b6",
   "metadata": {},
   "source": [
    "29. Create a list of the first 10 Fibonacci numbers."
   ]
  },
  {
   "cell_type": "code",
   "execution_count": 40,
   "id": "194a0f25-d8ff-410e-a597-9010a96ab230",
   "metadata": {},
   "outputs": [
    {
     "data": {
      "text/plain": [
       "[0, 1, 1, 2, 3, 5, 8, 13, 21, 34]"
      ]
     },
     "execution_count": 40,
     "metadata": {},
     "output_type": "execute_result"
    }
   ],
   "source": [
    "l = [0,1]\n",
    "n = 10\n",
    "for i in range(2,n):\n",
    "    total = l[i-1]+l[i-2]\n",
    "    l.append(total)\n",
    "l"
   ]
  },
  {
   "cell_type": "markdown",
   "id": "1403fb55-7837-4748-a975-71a51470b0a8",
   "metadata": {},
   "source": [
    "30. Check if a list is sorted."
   ]
  },
  {
   "cell_type": "code",
   "execution_count": 41,
   "id": "058c392a-9337-422a-8dfc-fdbf50f0f495",
   "metadata": {},
   "outputs": [
    {
     "name": "stdout",
     "output_type": "stream",
     "text": [
      "List is sorted\n"
     ]
    }
   ],
   "source": [
    "l = [10,20,30,40,50]\n",
    "flag = 0\n",
    "i = 1\n",
    "while(i<len(l)):\n",
    "    if(l[i]<l[i-1]):\n",
    "        flag = 1\n",
    "    i += 1\n",
    "if(flag == 0):\n",
    "    print(\"List is sorted\")\n",
    "else:\n",
    "    print(\"list is not sorted\")"
   ]
  },
  {
   "cell_type": "markdown",
   "id": "e32fdad7-62df-48fd-8bb0-40955014f2ce",
   "metadata": {},
   "source": [
    "31. Rotate a list to the left by `n` positions."
   ]
  },
  {
   "cell_type": "code",
   "execution_count": 42,
   "id": "12bdec99-df2a-431e-bad7-00c4b6304b45",
   "metadata": {},
   "outputs": [
    {
     "name": "stdin",
     "output_type": "stream",
     "text": [
      "Enter the number of positions:  2\n"
     ]
    },
    {
     "data": {
      "text/plain": [
       "[3, 4, 5, 6, 1, 2]"
      ]
     },
     "execution_count": 42,
     "metadata": {},
     "output_type": "execute_result"
    }
   ],
   "source": [
    "l = [1,2,3,4,5,6]\n",
    "n = int(input(\"Enter the number of positions: \"))\n",
    "left_rotated = l[n:] + l[:n]\n",
    "left_rotated"
   ]
  },
  {
   "cell_type": "markdown",
   "id": "8a67c510-2655-497b-b2f5-55314ad2e045",
   "metadata": {},
   "source": [
    "32. Rotate a list to the right by `n` positions."
   ]
  },
  {
   "cell_type": "code",
   "execution_count": 43,
   "id": "7c54633d-3227-4ea3-9d5c-f99599df7928",
   "metadata": {},
   "outputs": [
    {
     "name": "stdin",
     "output_type": "stream",
     "text": [
      "Enter the number of positions:  2\n"
     ]
    },
    {
     "data": {
      "text/plain": [
       "[5, 6, 1, 2, 3, 4]"
      ]
     },
     "execution_count": 43,
     "metadata": {},
     "output_type": "execute_result"
    }
   ],
   "source": [
    "l = [1,2,3,4,5,6]\n",
    "n = int(input(\"Enter the number of positions: \"))\n",
    "right_rotated = l[-n:] + l[:-n] \n",
    "right_rotated"
   ]
  },
  {
   "cell_type": "markdown",
   "id": "e632e089-b4b4-4bc6-8d06-69cbfcdf02bf",
   "metadata": {},
   "source": [
    "33. Create a list of prime numbers up to 50."
   ]
  },
  {
   "cell_type": "code",
   "execution_count": 44,
   "id": "7be7caf1-bf2f-4197-8f40-b460b758882c",
   "metadata": {},
   "outputs": [
    {
     "name": "stdout",
     "output_type": "stream",
     "text": [
      "[2, 3, 5, 7, 11, 13, 17, 19, 23, 29, 31, 37, 41, 43, 47]\n"
     ]
    }
   ],
   "source": [
    "l = []\n",
    "n = 50\n",
    "for num in range(2,n+1):\n",
    "    if num > 1:\n",
    "        for i in range(2,num):\n",
    "            if(num % i == 0):\n",
    "                break\n",
    "        else:\n",
    "            l.append(num)\n",
    "print(l)"
   ]
  },
  {
   "cell_type": "markdown",
   "id": "d62f2be5-8340-4af1-a251-98aa99d32c91",
   "metadata": {},
   "source": [
    "34. Split a list into chunks of size `n`."
   ]
  },
  {
   "cell_type": "code",
   "execution_count": 45,
   "id": "434b154d-a63d-4a0e-b83e-eff132eef831",
   "metadata": {},
   "outputs": [
    {
     "name": "stdin",
     "output_type": "stream",
     "text": [
      "Enter the size of N:  3\n"
     ]
    },
    {
     "name": "stdout",
     "output_type": "stream",
     "text": [
      "[1, 2, 3]\n",
      "[4, 5, 6]\n",
      "[7, 8, 9]\n"
     ]
    }
   ],
   "source": [
    "l = [1,2,3,4,5,6,7,8,9]\n",
    "n = int(input(\"Enter the size of N: \"))\n",
    "for i in range(0,len(l),n):\n",
    "    print(l[i:i+n])"
   ]
  },
  {
   "cell_type": "markdown",
   "id": "0dc929dc-315c-4e34-a855-eb8f11a7ce41",
   "metadata": {},
   "source": [
    "35. Find the second largest number in a list."
   ]
  },
  {
   "cell_type": "code",
   "execution_count": 46,
   "id": "3fd7fdcc-0f8b-4259-a777-70c990c0544d",
   "metadata": {},
   "outputs": [
    {
     "name": "stdout",
     "output_type": "stream",
     "text": [
      "[3, 6, 10, 15, 20, 28, 40, 45, 52]\n",
      "45\n"
     ]
    }
   ],
   "source": [
    "l = [15,3,20,45,28,15,40,10,28,52,6]\n",
    "Sorted = sorted(set(l))\n",
    "print(Sorted)\n",
    "print(Sorted[-2])"
   ]
  },
  {
   "cell_type": "markdown",
   "id": "cfdf0c38-ccae-4f93-99fa-7310762f6afb",
   "metadata": {},
   "source": [
    "36. Replace every element in a list with its square."
   ]
  },
  {
   "cell_type": "code",
   "execution_count": 47,
   "id": "8917f217-2231-462d-bbbf-27ace4fb82a5",
   "metadata": {},
   "outputs": [
    {
     "data": {
      "text/plain": [
       "[1, 4, 9, 16, 25, 36]"
      ]
     },
     "execution_count": 47,
     "metadata": {},
     "output_type": "execute_result"
    }
   ],
   "source": [
    "l = [1,2,3,4,5,6]\n",
    "l = [x**2 for x in l]\n",
    "l"
   ]
  },
  {
   "cell_type": "markdown",
   "id": "3c5bcb8f-a953-44fa-8ddc-f17ba344d3b2",
   "metadata": {},
   "source": [
    "37. Convert a list to a dictionary where list elements become keys and their\n",
    "indices become values."
   ]
  },
  {
   "cell_type": "code",
   "execution_count": 48,
   "id": "e76ed928-461e-4d25-8abb-5f79c284e019",
   "metadata": {},
   "outputs": [
    {
     "data": {
      "text/plain": [
       "{'apple': 0, 'banana': 1, 'cherry': 2, 'date': 3, 'elderberry': 4, 'mango': 5}"
      ]
     },
     "execution_count": 48,
     "metadata": {},
     "output_type": "execute_result"
    }
   ],
   "source": [
    "l = ['apple', 'banana', 'cherry', 'date', 'elderberry','apple','mango','date']\n",
    "final_list = sorted(set(l))\n",
    "my_dict = {element : index for index,element in enumerate(final_list)}\n",
    "my_dict"
   ]
  },
  {
   "cell_type": "markdown",
   "id": "cef09445-d7fa-4732-b367-f2fe2390bc39",
   "metadata": {},
   "source": [
    "38. Shuffle the elements of a list randomly."
   ]
  },
  {
   "cell_type": "code",
   "execution_count": 49,
   "id": "70422936-4d92-40e3-9ecf-ac390477fe9f",
   "metadata": {},
   "outputs": [
    {
     "data": {
      "text/plain": [
       "[3, 9, 8, 6, 1, 2, 10, 4, 5, 7]"
      ]
     },
     "execution_count": 49,
     "metadata": {},
     "output_type": "execute_result"
    }
   ],
   "source": [
    "import random\n",
    "l = [1,2,3,4,5,6,7,8,9,10]\n",
    "random.shuffle(l)\n",
    "l"
   ]
  },
  {
   "cell_type": "markdown",
   "id": "a21a819c-dfac-431d-a895-2ca1ef074c04",
   "metadata": {},
   "source": [
    "39. Create a list of the first 10 factorial numbers."
   ]
  },
  {
   "cell_type": "code",
   "execution_count": 50,
   "id": "99724568-273e-40bb-b12b-32ddd30bcc45",
   "metadata": {},
   "outputs": [
    {
     "data": {
      "text/plain": [
       "[1, 2, 6, 24, 120, 720, 5040, 40320, 362880, 3628800]"
      ]
     },
     "execution_count": 50,
     "metadata": {},
     "output_type": "execute_result"
    }
   ],
   "source": [
    "n = 10\n",
    "l = []\n",
    "i = 1\n",
    "fact = 1\n",
    "while(i<=n):\n",
    "    fact *= i\n",
    "    l.append(fact)\n",
    "    i += 1\n",
    "l"
   ]
  },
  {
   "cell_type": "markdown",
   "id": "832e96a5-0ccc-4c43-8327-15f6dcfbd191",
   "metadata": {},
   "source": [
    "40. Check if two lists have at least one element in common."
   ]
  },
  {
   "cell_type": "code",
   "execution_count": 51,
   "id": "90fa4709-5cfe-4ebc-a5fe-a723980a6115",
   "metadata": {},
   "outputs": [
    {
     "data": {
      "text/plain": [
       "True"
      ]
     },
     "execution_count": 51,
     "metadata": {},
     "output_type": "execute_result"
    }
   ],
   "source": [
    "list1 = [1,2,3,4,5]\n",
    "list2 = [6,7,8,9,2]\n",
    "any(i in list2 for i in list1)"
   ]
  },
  {
   "cell_type": "markdown",
   "id": "6f91b474-11eb-4d99-af29-f3fca98d52d1",
   "metadata": {},
   "source": [
    "41. Remove all elements from a list."
   ]
  },
  {
   "cell_type": "code",
   "execution_count": 52,
   "id": "a4d949f4-6012-46b4-982d-168976059754",
   "metadata": {},
   "outputs": [
    {
     "data": {
      "text/plain": [
       "[]"
      ]
     },
     "execution_count": 52,
     "metadata": {},
     "output_type": "execute_result"
    }
   ],
   "source": [
    "l = [10,20,30,40,50]\n",
    "l.clear()\n",
    "l"
   ]
  },
  {
   "cell_type": "markdown",
   "id": "3f9bed8d-b77a-488a-883c-d0f8d166e2c5",
   "metadata": {},
   "source": [
    "42. Replace negative numbers in a list with 0."
   ]
  },
  {
   "cell_type": "code",
   "execution_count": 53,
   "id": "02fa4f3f-b3c7-41dd-9bdf-15c002642295",
   "metadata": {},
   "outputs": [
    {
     "data": {
      "text/plain": [
       "[1, 2, 0, 4, 0]"
      ]
     },
     "execution_count": 53,
     "metadata": {},
     "output_type": "execute_result"
    }
   ],
   "source": [
    "l = [1,2,-3,4,-5]\n",
    "for i in range(0,len(l)):\n",
    "    if l[i] < 0:\n",
    "        l[i] = 0\n",
    "    else:\n",
    "        continue\n",
    "l"
   ]
  },
  {
   "cell_type": "markdown",
   "id": "5a86c888-2703-44f8-afcb-654bb78e425f",
   "metadata": {},
   "source": [
    "43. Convert a string into a list of words."
   ]
  },
  {
   "cell_type": "code",
   "execution_count": 54,
   "id": "4a73bbfe-6848-4780-9c05-5885d5967a77",
   "metadata": {},
   "outputs": [
    {
     "data": {
      "text/plain": [
       "['Hello,', 'World!', 'How', 'are', 'you?']"
      ]
     },
     "execution_count": 54,
     "metadata": {},
     "output_type": "execute_result"
    }
   ],
   "source": [
    "string = \"Hello, World! How are you?\"\n",
    "l = string.split()\n",
    "l"
   ]
  },
  {
   "cell_type": "markdown",
   "id": "50faafc2-07b5-469a-81df-3a263df5de77",
   "metadata": {},
   "source": [
    "44. Convert a list of words into a string."
   ]
  },
  {
   "cell_type": "code",
   "execution_count": 55,
   "id": "29acd8e6-283a-4026-ab9a-cb35f3128643",
   "metadata": {},
   "outputs": [
    {
     "data": {
      "text/plain": [
       "'This is a sample sentence'"
      ]
     },
     "execution_count": 55,
     "metadata": {},
     "output_type": "execute_result"
    }
   ],
   "source": [
    "l = ['This','is','a','sample','sentence']\n",
    "string = ' '.join(l)\n",
    "string"
   ]
  },
  {
   "cell_type": "markdown",
   "id": "7796665c-9a02-4b7b-8cd4-adc98196a712",
   "metadata": {},
   "source": [
    "45. Create a list of the first `n` powers of 2."
   ]
  },
  {
   "cell_type": "code",
   "execution_count": 56,
   "id": "e50a0e58-822a-4bec-bfd6-782ab918ffe1",
   "metadata": {},
   "outputs": [
    {
     "name": "stdin",
     "output_type": "stream",
     "text": [
      "Enter the value of n:  5\n"
     ]
    },
    {
     "data": {
      "text/plain": [
       "[1, 2, 4, 8, 16, 32]"
      ]
     },
     "execution_count": 56,
     "metadata": {},
     "output_type": "execute_result"
    }
   ],
   "source": [
    "n = int(input(\"Enter the value of n: \"))\n",
    "l = [2**i for i in range(n+1)]\n",
    "l"
   ]
  },
  {
   "cell_type": "markdown",
   "id": "5a8f3d23-af98-4712-969e-2a9cb8d3357c",
   "metadata": {},
   "source": [
    "46. Find the longest string in a list of strings."
   ]
  },
  {
   "cell_type": "code",
   "execution_count": 57,
   "id": "70587e7f-c6ec-474a-91f9-12fe2552c803",
   "metadata": {},
   "outputs": [
    {
     "data": {
      "text/plain": [
       "'example'"
      ]
     },
     "execution_count": 57,
     "metadata": {},
     "output_type": "execute_result"
    }
   ],
   "source": [
    "l = ['This','is','an','example','of','list','of','strings']\n",
    "longest = max(l,key = len)\n",
    "longest"
   ]
  },
  {
   "cell_type": "markdown",
   "id": "69ef320b-7bed-4a65-ae52-d94c1acf1e46",
   "metadata": {},
   "source": [
    "47. Find the shortest string in a list of strings."
   ]
  },
  {
   "cell_type": "code",
   "execution_count": 58,
   "id": "0cf8c29a-0252-4103-85db-b2843f2bcf36",
   "metadata": {},
   "outputs": [
    {
     "data": {
      "text/plain": [
       "'a'"
      ]
     },
     "execution_count": 58,
     "metadata": {},
     "output_type": "execute_result"
    }
   ],
   "source": [
    "l = ['This','is','a','list','of','strings']\n",
    "shortest = min(l,key = len)\n",
    "shortest"
   ]
  },
  {
   "cell_type": "markdown",
   "id": "e7febd09-695b-498e-b56f-1ee1cf5b9b92",
   "metadata": {},
   "source": [
    "48. Create a list of the first `n` triangular numbers."
   ]
  },
  {
   "cell_type": "code",
   "execution_count": 59,
   "id": "9cf20df9-9070-404c-8583-37da0b2e9a5b",
   "metadata": {},
   "outputs": [
    {
     "name": "stdin",
     "output_type": "stream",
     "text": [
      "Enter the value of N:  5\n"
     ]
    },
    {
     "data": {
      "text/plain": [
       "[1, 3, 6, 10, 15]"
      ]
     },
     "execution_count": 59,
     "metadata": {},
     "output_type": "execute_result"
    }
   ],
   "source": [
    "n = int(input(\"Enter the value of N: \"))\n",
    "l = [i*(i+1)//2 for i in range(1,n+1)]\n",
    "l"
   ]
  },
  {
   "cell_type": "markdown",
   "id": "25dbd389-fb2b-4df3-bbec-554b409c16b0",
   "metadata": {},
   "source": [
    "49. Check if a list contains another list as a subsequence."
   ]
  },
  {
   "cell_type": "code",
   "execution_count": 62,
   "id": "ac0b10f3-97da-468a-8f68-dfaae7833924",
   "metadata": {},
   "outputs": [
    {
     "name": "stdout",
     "output_type": "stream",
     "text": [
      "main list contains sub list as subsequence\n"
     ]
    }
   ],
   "source": [
    "def is_subsequence(sub_list,main_list):\n",
    "    for i in range(len(main_list)-len(sub_list)+1):\n",
    "        if main_list[i:i+len(sub_list)] == sub_list:\n",
    "            return True\n",
    "    return False\n",
    "main_list = [1,2,3,4,5,6,7,8,9]\n",
    "sub_list =[2,3,4]\n",
    "if is_subsequence(sub_list,main_list):\n",
    "    print(\"main list contains sub list as subsequence\")\n",
    "else:\n",
    "    print(\"main list doesn't contain sub list as subsequence\")"
   ]
  },
  {
   "cell_type": "markdown",
   "id": "dc935ec2-a37f-4879-a7a8-208ede6a2360",
   "metadata": {},
   "source": [
    "50. Swap two elements in a list by their indices."
   ]
  },
  {
   "cell_type": "code",
   "execution_count": 63,
   "id": "4aa5c180-0160-49e0-b74b-5c64dfe63c3d",
   "metadata": {},
   "outputs": [
    {
     "name": "stdin",
     "output_type": "stream",
     "text": [
      "Enter the value of first index:  2\n",
      "Enter the value of second index:  5\n"
     ]
    },
    {
     "name": "stdout",
     "output_type": "stream",
     "text": [
      "[10, 20, 30, 40, 50, 60]\n"
     ]
    },
    {
     "data": {
      "text/plain": [
       "[10, 20, 60, 40, 50, 30]"
      ]
     },
     "execution_count": 63,
     "metadata": {},
     "output_type": "execute_result"
    }
   ],
   "source": [
    "i = int(input(\"Enter the value of first index: \"))\n",
    "j = int(input(\"Enter the value of second index: \"))\n",
    "l = [10,20,30,40,50,60]\n",
    "print(l)\n",
    "k = l[i]\n",
    "l[i] = l[j]\n",
    "l[j] = k\n",
    "l"
   ]
  },
  {
   "cell_type": "markdown",
   "id": "04a131a8-ae49-45fd-9c26-c55a202196cf",
   "metadata": {},
   "source": [
    "Tuple Based Practice Problem "
   ]
  },
  {
   "cell_type": "markdown",
   "id": "e9cdf645-2096-4098-92c4-eafc7e15378d",
   "metadata": {},
   "source": [
    "1. Create a tuple with integers from 1 to 5."
   ]
  },
  {
   "cell_type": "code",
   "execution_count": 64,
   "id": "bfec74e1-38bc-481e-b9d0-0f007ed561c5",
   "metadata": {},
   "outputs": [
    {
     "data": {
      "text/plain": [
       "(1, 2, 3, 4, 5)"
      ]
     },
     "execution_count": 64,
     "metadata": {},
     "output_type": "execute_result"
    }
   ],
   "source": [
    "t1 = (1,2,3,4,5)\n",
    "t1"
   ]
  },
  {
   "cell_type": "markdown",
   "id": "2fc243cf-dd62-4fd7-8fba-9df13ccd3918",
   "metadata": {},
   "source": [
    "2. Access the third element of a tuple."
   ]
  },
  {
   "cell_type": "code",
   "execution_count": 65,
   "id": "df691dae-64e5-4575-b288-beda03f6c754",
   "metadata": {},
   "outputs": [
    {
     "data": {
      "text/plain": [
       "30"
      ]
     },
     "execution_count": 65,
     "metadata": {},
     "output_type": "execute_result"
    }
   ],
   "source": [
    "t = (10,20,30,40,50)\n",
    "t[2]"
   ]
  },
  {
   "cell_type": "markdown",
   "id": "2affaa8a-3013-45d4-ac7e-48374c6b2575",
   "metadata": {},
   "source": [
    "3. Find the length of a tuple without using the `len()` function."
   ]
  },
  {
   "cell_type": "code",
   "execution_count": 66,
   "id": "2e42bfa3-d91a-4920-b435-497aabe90a1a",
   "metadata": {},
   "outputs": [
    {
     "name": "stdout",
     "output_type": "stream",
     "text": [
      "5\n"
     ]
    }
   ],
   "source": [
    "t = (10,20,30,40,50)\n",
    "count = 0\n",
    "for i in t:\n",
    "    count += 1\n",
    "print(count)"
   ]
  },
  {
   "cell_type": "markdown",
   "id": "bb2543c2-cc2b-43c1-a3f6-dc94d8b81c55",
   "metadata": {},
   "source": [
    "4. Count the occurrences of an element in a tuple."
   ]
  },
  {
   "cell_type": "code",
   "execution_count": 67,
   "id": "b55ef8d5-13ff-4521-b326-f5692cfbdb04",
   "metadata": {},
   "outputs": [
    {
     "data": {
      "text/plain": [
       "3"
      ]
     },
     "execution_count": 67,
     "metadata": {},
     "output_type": "execute_result"
    }
   ],
   "source": [
    "t = (10,40,20,40,90,50,40)\n",
    "t.count(40)"
   ]
  },
  {
   "cell_type": "markdown",
   "id": "f3129ce0-09c6-41ea-a3de-1aaed9f5bd0e",
   "metadata": {},
   "source": [
    "5. Find the index of the first occurrence of an element in a tuple."
   ]
  },
  {
   "cell_type": "code",
   "execution_count": 68,
   "id": "2fb92139-543f-41fd-9013-fe411a5b6e08",
   "metadata": {},
   "outputs": [
    {
     "data": {
      "text/plain": [
       "1"
      ]
     },
     "execution_count": 68,
     "metadata": {},
     "output_type": "execute_result"
    }
   ],
   "source": [
    "t = (10,40,20,40,90,50,40)\n",
    "t.index(40)"
   ]
  },
  {
   "cell_type": "markdown",
   "id": "14cba7ce-3302-4d3d-94f7-5b1dab3b7f35",
   "metadata": {},
   "source": [
    "6. Check if an element exists in a tuple."
   ]
  },
  {
   "cell_type": "code",
   "execution_count": 69,
   "id": "29802eb5-d6ba-43e6-812a-8b43c5f75344",
   "metadata": {},
   "outputs": [
    {
     "name": "stdin",
     "output_type": "stream",
     "text": [
      "Enter the element:  20\n"
     ]
    },
    {
     "name": "stdout",
     "output_type": "stream",
     "text": [
      "The given element 20 exists\n"
     ]
    }
   ],
   "source": [
    "t = (10,40,20,40,90,50,40)\n",
    "x = int(input(\"Enter the element: \"))\n",
    "if x in t:\n",
    "    print(f\"The given element {x} exists\")\n",
    "else:\n",
    "    print(f\"The given element {x} doesn't exists\")"
   ]
  },
  {
   "cell_type": "markdown",
   "id": "eacec49e-cb33-4798-88bf-f354fa2b5346",
   "metadata": {},
   "source": [
    "7. Convert a tuple to a list."
   ]
  },
  {
   "cell_type": "code",
   "execution_count": 70,
   "id": "c268d9ee-9d58-475a-86c6-ba44191e49b1",
   "metadata": {},
   "outputs": [
    {
     "data": {
      "text/plain": [
       "[10, 40, 20, 40, 90, 50, 40]"
      ]
     },
     "execution_count": 70,
     "metadata": {},
     "output_type": "execute_result"
    }
   ],
   "source": [
    "t = (10,40,20,40,90,50,40)\n",
    "l = list(t)\n",
    "l"
   ]
  },
  {
   "cell_type": "markdown",
   "id": "13710a87-323a-45ca-8735-b028785d82e8",
   "metadata": {},
   "source": [
    "8. Convert a list to a tuple."
   ]
  },
  {
   "cell_type": "code",
   "execution_count": 71,
   "id": "d14d190a-4e27-43e1-b7cc-4de66a1b51c1",
   "metadata": {},
   "outputs": [
    {
     "data": {
      "text/plain": [
       "(10, 20, 30, 40, 50)"
      ]
     },
     "execution_count": 71,
     "metadata": {},
     "output_type": "execute_result"
    }
   ],
   "source": [
    "l = [10,20,30,40,50]\n",
    "t = tuple(l)\n",
    "t"
   ]
  },
  {
   "cell_type": "markdown",
   "id": "bc28da46-5b6b-483a-ba5c-a873ea99bdef",
   "metadata": {},
   "source": [
    "9. Unpack the elements of a tuple into variables."
   ]
  },
  {
   "cell_type": "code",
   "execution_count": 72,
   "id": "aa2d4864-01db-44ee-8c10-621d7e0650b6",
   "metadata": {},
   "outputs": [
    {
     "name": "stdout",
     "output_type": "stream",
     "text": [
      "var1:  10\n",
      "var2:  20\n",
      "var3:  30\n"
     ]
    }
   ],
   "source": [
    "my_tuple = (10,20,30)\n",
    "v1,v2,v3 = my_tuple\n",
    "print('var1: ',v1)\n",
    "print('var2: ',v2)\n",
    "print('var3: ',v3)"
   ]
  },
  {
   "cell_type": "markdown",
   "id": "83e6e4e8-c95f-45b0-ad7a-14bffe8ce7ce",
   "metadata": {},
   "source": [
    "10. Create a tuple of even numbers from 1 to 10."
   ]
  },
  {
   "cell_type": "code",
   "execution_count": 73,
   "id": "49df89b8-80d0-4efd-8bb3-4181886e2e3e",
   "metadata": {},
   "outputs": [
    {
     "data": {
      "text/plain": [
       "(2, 4, 6, 8, 10)"
      ]
     },
     "execution_count": 73,
     "metadata": {},
     "output_type": "execute_result"
    }
   ],
   "source": [
    "l1 = [n for n in range(2,11,2)]\n",
    "t1= tuple(l1)\n",
    "t1"
   ]
  },
  {
   "cell_type": "markdown",
   "id": "832eadf7-6e62-4028-9f98-889a58bf4b43",
   "metadata": {},
   "source": [
    "11. Create a tuple of odd numbers from 1 to 10."
   ]
  },
  {
   "cell_type": "code",
   "execution_count": 74,
   "id": "86ba94d8-82f6-47a2-8f7c-49dcc79133d2",
   "metadata": {},
   "outputs": [
    {
     "data": {
      "text/plain": [
       "(1, 3, 5, 7, 9)"
      ]
     },
     "execution_count": 74,
     "metadata": {},
     "output_type": "execute_result"
    }
   ],
   "source": [
    "l1 = [n for n in range(1,11,2)]\n",
    "t1= tuple(l1)\n",
    "t1"
   ]
  },
  {
   "cell_type": "markdown",
   "id": "0ef045d1-db88-4991-bb7f-e8acf92fd012",
   "metadata": {},
   "source": [
    "12. Concatenate two tuples."
   ]
  },
  {
   "cell_type": "code",
   "execution_count": 75,
   "id": "e59d5a02-6f28-4380-9da4-0b0d396f1d20",
   "metadata": {},
   "outputs": [
    {
     "data": {
      "text/plain": [
       "(1, 2, 3, 4, 5, 6, 7, 8, 9, 0)"
      ]
     },
     "execution_count": 75,
     "metadata": {},
     "output_type": "execute_result"
    }
   ],
   "source": [
    "t1 = (1,2,3,4,5)\n",
    "t2 = (6,7,8,9,0)\n",
    "t3 = t1 + t2\n",
    "t3"
   ]
  },
  {
   "cell_type": "markdown",
   "id": "a1497c00-966c-42e6-89d8-78632fafbfe8",
   "metadata": {},
   "source": [
    "13. Repeat a tuple three times."
   ]
  },
  {
   "cell_type": "code",
   "execution_count": 76,
   "id": "725c13c5-d58c-4971-ac16-6315cd95dc5b",
   "metadata": {},
   "outputs": [
    {
     "data": {
      "text/plain": [
       "(1, 2, 3, 4, 1, 2, 3, 4, 1, 2, 3, 4)"
      ]
     },
     "execution_count": 76,
     "metadata": {},
     "output_type": "execute_result"
    }
   ],
   "source": [
    "t = (1,2,3,4)*3\n",
    "t"
   ]
  },
  {
   "cell_type": "markdown",
   "id": "f1424510-c122-459e-8293-d5467e44781e",
   "metadata": {},
   "source": [
    "14. Check if a tuple is empty."
   ]
  },
  {
   "cell_type": "code",
   "execution_count": 77,
   "id": "f42edcc0-0124-4e5c-b788-090dff4994bf",
   "metadata": {},
   "outputs": [
    {
     "name": "stdout",
     "output_type": "stream",
     "text": [
      "tuple is not empty\n",
      "tuple is empty\n"
     ]
    }
   ],
   "source": [
    "t1 = (1,2,3)\n",
    "t2 = ()\n",
    "if len(t1) == 0:\n",
    "    print(\"tuple is empty\")\n",
    "else:\n",
    "    print(\"tuple is not empty\")\n",
    "if len(t2) == 0:\n",
    "    print(\"tuple is empty\")\n",
    "else:\n",
    "    print(\"tuple is not empty\")"
   ]
  },
  {
   "cell_type": "markdown",
   "id": "b0d4aa8d-533a-4d99-a07b-59536b877883",
   "metadata": {},
   "source": [
    "15. Create a nested tuple."
   ]
  },
  {
   "cell_type": "code",
   "execution_count": 78,
   "id": "633845ec-cf7a-498f-9e1b-37de5773303f",
   "metadata": {},
   "outputs": [
    {
     "data": {
      "text/plain": [
       "((1, 2, 3), ('pw', 'skills'), (True, False))"
      ]
     },
     "execution_count": 78,
     "metadata": {},
     "output_type": "execute_result"
    }
   ],
   "source": [
    "t = ((1,2,3),('pw','skills'),(True,False))\n",
    "t"
   ]
  },
  {
   "cell_type": "markdown",
   "id": "7d75678f-fba6-4242-bc8d-fe6c6dd2882c",
   "metadata": {},
   "source": [
    "16. Access the first element of a nested tuple."
   ]
  },
  {
   "cell_type": "code",
   "execution_count": 79,
   "id": "a908a24b-19cb-48e7-9a1d-1399e6d40c21",
   "metadata": {},
   "outputs": [
    {
     "data": {
      "text/plain": [
       "1"
      ]
     },
     "execution_count": 79,
     "metadata": {},
     "output_type": "execute_result"
    }
   ],
   "source": [
    "t = ((1,2,3),('pw','skills'),(True,False))\n",
    "t[0][0]"
   ]
  },
  {
   "cell_type": "markdown",
   "id": "f68489d0-f236-4449-996d-1e7f1cbd494f",
   "metadata": {},
   "source": [
    "17. Create a tuple with a single element."
   ]
  },
  {
   "cell_type": "code",
   "execution_count": 80,
   "id": "195c6d0d-9988-4de2-8b34-02f559a2d97c",
   "metadata": {},
   "outputs": [
    {
     "name": "stdout",
     "output_type": "stream",
     "text": [
      "<class 'tuple'> (10,)\n"
     ]
    }
   ],
   "source": [
    "t = (10,)\n",
    "print(type(t),t)"
   ]
  },
  {
   "cell_type": "markdown",
   "id": "4cf055b4-4f2d-4711-b0eb-6eca84695bd7",
   "metadata": {},
   "source": [
    "18. Compare two tuples."
   ]
  },
  {
   "cell_type": "code",
   "execution_count": 81,
   "id": "ca3e9c09-61ca-428b-855f-d620c6f16009",
   "metadata": {},
   "outputs": [
    {
     "name": "stdout",
     "output_type": "stream",
     "text": [
      "tuple1 == tuple2: False\n",
      "tuple1 != tuple2: True\n",
      "tuple1 < tuple2: False\n",
      "tuple1 <= tuple2: False\n",
      "tuple1 > tuple2: True\n",
      "tuple1 >= tuple2: True\n"
     ]
    }
   ],
   "source": [
    "tuple1 = (2,3,4)\n",
    "tuple2 = (2,3,1)\n",
    "print(\"tuple1 == tuple2:\", tuple1 == tuple2) \n",
    "print(\"tuple1 != tuple2:\", tuple1 != tuple2)  \n",
    "print(\"tuple1 < tuple2:\", tuple1 < tuple2)   \n",
    "print(\"tuple1 <= tuple2:\", tuple1 <= tuple2)  \n",
    "print(\"tuple1 > tuple2:\", tuple1 > tuple2)    \n",
    "print(\"tuple1 >= tuple2:\", tuple1 >= tuple2)"
   ]
  },
  {
   "cell_type": "markdown",
   "id": "01d230bb-a21b-43c2-b2a0-3736511cde40",
   "metadata": {},
   "source": [
    "19. Delete a tuple."
   ]
  },
  {
   "cell_type": "code",
   "execution_count": 82,
   "id": "e4daab65-4f6b-4566-a299-97b58e9152d4",
   "metadata": {},
   "outputs": [
    {
     "name": "stdout",
     "output_type": "stream",
     "text": [
      "(1, 2, 3, 4, 5)\n"
     ]
    },
    {
     "ename": "NameError",
     "evalue": "name 't1' is not defined",
     "output_type": "error",
     "traceback": [
      "\u001b[0;31m---------------------------------------------------------------------------\u001b[0m",
      "\u001b[0;31mNameError\u001b[0m                                 Traceback (most recent call last)",
      "Cell \u001b[0;32mIn[82], line 4\u001b[0m\n\u001b[1;32m      2\u001b[0m \u001b[38;5;28mprint\u001b[39m(t1)\n\u001b[1;32m      3\u001b[0m \u001b[38;5;28;01mdel\u001b[39;00m t1\n\u001b[0;32m----> 4\u001b[0m \u001b[43mt1\u001b[49m\n",
      "\u001b[0;31mNameError\u001b[0m: name 't1' is not defined"
     ]
    }
   ],
   "source": [
    "t1 = (1,2,3,4,5)\n",
    "print(t1)\n",
    "del t1\n",
    "t1"
   ]
  },
  {
   "cell_type": "markdown",
   "id": "17f2950a-57a6-48f1-b56d-af5e0440055a",
   "metadata": {},
   "source": [
    "20. Slice a tuple."
   ]
  },
  {
   "cell_type": "code",
   "execution_count": 83,
   "id": "a1691bff-faeb-4558-b383-079175964187",
   "metadata": {},
   "outputs": [
    {
     "data": {
      "text/plain": [
       "(20, 30, 40)"
      ]
     },
     "execution_count": 83,
     "metadata": {},
     "output_type": "execute_result"
    }
   ],
   "source": [
    "t1 = (10,20,30,40,50)\n",
    "t1[1:4]"
   ]
  },
  {
   "cell_type": "markdown",
   "id": "682e7557-adac-488c-8174-79e0d50a266d",
   "metadata": {},
   "source": [
    "21. Find the maximum value in a tuple."
   ]
  },
  {
   "cell_type": "code",
   "execution_count": 84,
   "id": "8a24c114-daf4-4b78-a997-4720019b35f8",
   "metadata": {},
   "outputs": [
    {
     "data": {
      "text/plain": [
       "90"
      ]
     },
     "execution_count": 84,
     "metadata": {},
     "output_type": "execute_result"
    }
   ],
   "source": [
    "t1 = (90,60,30,20,80)\n",
    "max(t1)"
   ]
  },
  {
   "cell_type": "markdown",
   "id": "eb084dad-0ebe-4655-bf50-479593152f72",
   "metadata": {},
   "source": [
    "22. Find the minimum value in a tuple."
   ]
  },
  {
   "cell_type": "code",
   "execution_count": 85,
   "id": "518c44e6-29b1-4c48-b099-1209a4e57cb0",
   "metadata": {},
   "outputs": [
    {
     "data": {
      "text/plain": [
       "20"
      ]
     },
     "execution_count": 85,
     "metadata": {},
     "output_type": "execute_result"
    }
   ],
   "source": [
    "t1 = (90,60,30,20,80)\n",
    "min(t1)"
   ]
  },
  {
   "cell_type": "markdown",
   "id": "87bb38c6-cc2a-42f7-aa6f-e7de25a745d5",
   "metadata": {},
   "source": [
    "23. Convert a string to a tuple of characters."
   ]
  },
  {
   "cell_type": "code",
   "execution_count": 86,
   "id": "cd6ca7cb-e52f-41a4-a6a4-28ca626d766e",
   "metadata": {},
   "outputs": [
    {
     "data": {
      "text/plain": [
       "('D', 'a', 't', 'a', ' ', 'S', 'c', 'i', 'e', 'n', 'c', 'e')"
      ]
     },
     "execution_count": 86,
     "metadata": {},
     "output_type": "execute_result"
    }
   ],
   "source": [
    "s = \"Data Science\"\n",
    "t = tuple(s)\n",
    "t"
   ]
  },
  {
   "cell_type": "markdown",
   "id": "3351c388-2573-4c8e-a6b5-5707ce23c695",
   "metadata": {},
   "source": [
    "24. Convert a tuple of characters to a string."
   ]
  },
  {
   "cell_type": "code",
   "execution_count": 87,
   "id": "72caeef7-a020-49d6-9109-ce9da82260e8",
   "metadata": {},
   "outputs": [
    {
     "data": {
      "text/plain": [
       "'Data Science'"
      ]
     },
     "execution_count": 87,
     "metadata": {},
     "output_type": "execute_result"
    }
   ],
   "source": [
    "t = ('D', 'a', 't', 'a', ' ', 'S', 'c', 'i', 'e', 'n', 'c', 'e')\n",
    "s = ''.join(t)\n",
    "s"
   ]
  },
  {
   "cell_type": "markdown",
   "id": "271dc9ec-84a3-4b63-8192-dfa82804741b",
   "metadata": {},
   "source": [
    "25. Create a tuple from multiple data types."
   ]
  },
  {
   "cell_type": "code",
   "execution_count": 88,
   "id": "1ee76225-e3c0-4199-a0aa-099b2a195a0a",
   "metadata": {},
   "outputs": [
    {
     "data": {
      "text/plain": [
       "(1, 2.34, 'pwskills', True)"
      ]
     },
     "execution_count": 88,
     "metadata": {},
     "output_type": "execute_result"
    }
   ],
   "source": [
    "t = (1,2.34,'pwskills',True)\n",
    "t"
   ]
  },
  {
   "cell_type": "markdown",
   "id": "4758f0d6-9ae7-48e9-be1f-eead4b54829e",
   "metadata": {},
   "source": [
    "26. Check if two tuples are identical."
   ]
  },
  {
   "cell_type": "code",
   "execution_count": 89,
   "id": "f26b1432-cbeb-4421-9b91-0dda75d1c23b",
   "metadata": {},
   "outputs": [
    {
     "name": "stdout",
     "output_type": "stream",
     "text": [
      "tuples are identical\n",
      "tuples are not identical\n"
     ]
    }
   ],
   "source": [
    "t1 = (1,2,3)\n",
    "t2 = (1,2,3)\n",
    "t3 = (3,4,5)\n",
    "if t1 == t2:\n",
    "    print(\"tuples are identical\")\n",
    "else:\n",
    "     print(\"tuples are not identical\")\n",
    "if t1 == t3:\n",
    "    print(\"tuples are identical\")\n",
    "else:\n",
    "     print(\"tuples are not identical\")"
   ]
  },
  {
   "cell_type": "markdown",
   "id": "4e05fcb9-082f-4b40-9adf-2644e892ae9a",
   "metadata": {},
   "source": [
    "27. Sort the elements of a tuple."
   ]
  },
  {
   "cell_type": "code",
   "execution_count": 90,
   "id": "c5247c59-6ba5-4e86-8c42-2a5eb2c12cc7",
   "metadata": {},
   "outputs": [
    {
     "data": {
      "text/plain": [
       "(20, 30, 60, 80, 90)"
      ]
     },
     "execution_count": 90,
     "metadata": {},
     "output_type": "execute_result"
    }
   ],
   "source": [
    "t1 = (90,60,30,20,80)\n",
    "sorted_tuple = tuple(sorted(t1))\n",
    "sorted_tuple"
   ]
  },
  {
   "cell_type": "markdown",
   "id": "1b623545-99a1-4071-801d-25f33a201f08",
   "metadata": {},
   "source": [
    "28. Convert a tuple of integers to a tuple of strings."
   ]
  },
  {
   "cell_type": "code",
   "execution_count": 91,
   "id": "348a4fba-c071-422a-920e-b5b6f63de665",
   "metadata": {},
   "outputs": [
    {
     "data": {
      "text/plain": [
       "('1', '2', '3', '4', '5')"
      ]
     },
     "execution_count": 91,
     "metadata": {},
     "output_type": "execute_result"
    }
   ],
   "source": [
    "t = (1,2,3,4,5)\n",
    "final_tuple = tuple(str(item) for item in t)\n",
    "final_tuple"
   ]
  },
  {
   "cell_type": "markdown",
   "id": "93670024-cd84-4457-9f6b-8daba4281614",
   "metadata": {},
   "source": [
    "29. Convert a tuple of strings to a tuple of integers."
   ]
  },
  {
   "cell_type": "code",
   "execution_count": 92,
   "id": "60455161-2f8b-4db7-b106-b40a26fd3caa",
   "metadata": {},
   "outputs": [
    {
     "data": {
      "text/plain": [
       "(1, 2, 3, 4, 5)"
      ]
     },
     "execution_count": 92,
     "metadata": {},
     "output_type": "execute_result"
    }
   ],
   "source": [
    "t = ('1', '2', '3', '4', '5')\n",
    "final_tuple = tuple(int(item) for item in t)\n",
    "final_tuple"
   ]
  },
  {
   "cell_type": "markdown",
   "id": "c5debbe1-c094-4be5-8eab-8fb8d18bea59",
   "metadata": {},
   "source": [
    "30. Merge two tuples."
   ]
  },
  {
   "cell_type": "code",
   "execution_count": 93,
   "id": "162952ba-6376-4dea-8a4f-c292235a2271",
   "metadata": {},
   "outputs": [
    {
     "data": {
      "text/plain": [
       "(1, 2, 3, 4, 5, 6)"
      ]
     },
     "execution_count": 93,
     "metadata": {},
     "output_type": "execute_result"
    }
   ],
   "source": [
    "t1 = (1,2,3)\n",
    "t2 = (4,5,6)\n",
    "merged_tuple = t1 + t2\n",
    "merged_tuple"
   ]
  },
  {
   "cell_type": "markdown",
   "id": "ee135337-6110-40c1-9bc1-2f34d1f7382b",
   "metadata": {},
   "source": [
    "31. Flatten a nested tuple."
   ]
  },
  {
   "cell_type": "code",
   "execution_count": 94,
   "id": "2f41d0d0-07a8-4f1d-9b43-b7a2e6a09f0c",
   "metadata": {},
   "outputs": [
    {
     "data": {
      "text/plain": [
       "(1, 2, 3, 4, 5, 6, 7, 8, 9, 0)"
      ]
     },
     "execution_count": 94,
     "metadata": {},
     "output_type": "execute_result"
    }
   ],
   "source": [
    "t = (1,2,(3,4,5),6,7,(8,9,0))\n",
    "flattened = []\n",
    "for i in t:\n",
    "    if isinstance(i,tuple):\n",
    "        flattened.extend(i)\n",
    "    else:\n",
    "        flattened.append(i)\n",
    "flattened_tuple = tuple(flattened)\n",
    "flattened_tuple"
   ]
  },
  {
   "cell_type": "markdown",
   "id": "a437150b-8847-4589-a05b-84faeae35a95",
   "metadata": {},
   "source": [
    "32. Create a tuple of the first 5 prime numbers."
   ]
  },
  {
   "cell_type": "code",
   "execution_count": 95,
   "id": "5c151443-1145-44f2-a630-b020c8defed1",
   "metadata": {},
   "outputs": [
    {
     "data": {
      "text/plain": [
       "(2, 3, 5, 7, 11)"
      ]
     },
     "execution_count": 95,
     "metadata": {},
     "output_type": "execute_result"
    }
   ],
   "source": [
    "def isprime(num):\n",
    "    if num<=1:\n",
    "        return False\n",
    "    for i in range(2,num):\n",
    "        if (num % i == 0):\n",
    "            return False\n",
    "    return True\n",
    "prime = tuple(num for num in range(1,100) if isprime(num))[:5]\n",
    "prime"
   ]
  },
  {
   "cell_type": "markdown",
   "id": "6730b083-ff3c-44f1-ab70-fc12cbcb91bf",
   "metadata": {},
   "source": [
    "33. Check if a tuple is a palindrome."
   ]
  },
  {
   "cell_type": "code",
   "execution_count": 96,
   "id": "4b08487d-a340-43dc-914e-716e77acc4d3",
   "metadata": {},
   "outputs": [
    {
     "name": "stdout",
     "output_type": "stream",
     "text": [
      "Is first tuple palindrome:  True\n",
      "Is second tuple palindrome:  False\n"
     ]
    }
   ],
   "source": [
    "def is_palindrome(t):\n",
    "    return t == t[::-1]\n",
    "\n",
    "t1 = (1,2,1)\n",
    "t2 = (3,2,1)\n",
    "\n",
    "A1 = is_palindrome(t1)\n",
    "A2 = is_palindrome(t2)\n",
    "\n",
    "print(\"Is first tuple palindrome: \",A1)\n",
    "print(\"Is second tuple palindrome: \",A2)"
   ]
  },
  {
   "cell_type": "markdown",
   "id": "6777a613-c175-499b-8fc5-dd32ff299d3e",
   "metadata": {},
   "source": [
    "34. Create a tuple of squares of numbers from 1 to 5."
   ]
  },
  {
   "cell_type": "code",
   "execution_count": 97,
   "id": "3d948968-24d6-4ca8-b619-fc50ec202552",
   "metadata": {},
   "outputs": [
    {
     "data": {
      "text/plain": [
       "(1, 4, 9, 16, 25)"
      ]
     },
     "execution_count": 97,
     "metadata": {},
     "output_type": "execute_result"
    }
   ],
   "source": [
    "t = tuple(num**2 for num in range(1,6))\n",
    "t"
   ]
  },
  {
   "cell_type": "markdown",
   "id": "80e97556-0a63-4d7e-887c-88bce5fb151d",
   "metadata": {},
   "source": [
    "35. Filter out all even numbers from a tuple."
   ]
  },
  {
   "cell_type": "code",
   "execution_count": 98,
   "id": "d4c1dcb1-26bf-4aeb-8d15-b0d1b04db0ae",
   "metadata": {},
   "outputs": [
    {
     "data": {
      "text/plain": [
       "(1, 3, 5, 7, 9)"
      ]
     },
     "execution_count": 98,
     "metadata": {},
     "output_type": "execute_result"
    }
   ],
   "source": [
    "t = (1,2,3,4,5,6,7,8,9,0)\n",
    "odd_tuple = tuple(i for i in t if i % 2 != 0)\n",
    "odd_tuple"
   ]
  },
  {
   "cell_type": "markdown",
   "id": "3222f900-07e9-4ade-bd6c-ef0cf8c9b3c9",
   "metadata": {},
   "source": [
    "36. Multiply all elements in a tuple by 2."
   ]
  },
  {
   "cell_type": "code",
   "execution_count": 99,
   "id": "5aecba17-3733-4f4e-a168-db2d90195b78",
   "metadata": {},
   "outputs": [
    {
     "data": {
      "text/plain": [
       "(2, 4, 6, 8, 10)"
      ]
     },
     "execution_count": 99,
     "metadata": {},
     "output_type": "execute_result"
    }
   ],
   "source": [
    "t = (1,2,3,4,5)\n",
    "final_tuple = tuple(i*2 for i in t)\n",
    "final_tuple"
   ]
  },
  {
   "cell_type": "markdown",
   "id": "2942d237-72fe-449d-b05e-ef9eb336b48a",
   "metadata": {},
   "source": [
    "37. Create a tuple of random numbers."
   ]
  },
  {
   "cell_type": "code",
   "execution_count": 100,
   "id": "98b20ffd-859b-4b2e-a1c5-ca8c5f2fd76b",
   "metadata": {},
   "outputs": [
    {
     "data": {
      "text/plain": [
       "(77, 28, 39, 95, 50, 78, 15, 55, 82, 19)"
      ]
     },
     "execution_count": 100,
     "metadata": {},
     "output_type": "execute_result"
    }
   ],
   "source": [
    "import random\n",
    "t1 = tuple(random.randint(1,100) for x in range(10))\n",
    "t1"
   ]
  },
  {
   "cell_type": "markdown",
   "id": "fc06346c-7334-4051-8aa3-3372501fdfd7",
   "metadata": {},
   "source": [
    "38. Check if a tuple is sorted."
   ]
  },
  {
   "cell_type": "code",
   "execution_count": 101,
   "id": "38a3410e-77be-4f34-8436-839f27192a46",
   "metadata": {},
   "outputs": [
    {
     "name": "stdout",
     "output_type": "stream",
     "text": [
      "Tuple is sorted:  False\n",
      "Tuple is sorted:  True\n"
     ]
    }
   ],
   "source": [
    "def check(tup):\n",
    "    return tup == tuple(sorted(tup))\n",
    "    \n",
    "t1 = (5,3,1,6,4,2)\n",
    "t2 = (1,2,3,4,5,6)\n",
    "\n",
    "print(\"Tuple is sorted: \",check(t1))\n",
    "print(\"Tuple is sorted: \",check(t2))"
   ]
  },
  {
   "cell_type": "markdown",
   "id": "69b46a04-e1d8-451f-a481-d46e824e2ac9",
   "metadata": {},
   "source": [
    "39. Rotate a tuple to the left by `n` positions."
   ]
  },
  {
   "cell_type": "code",
   "execution_count": 102,
   "id": "3b4cd8b9-a0ea-4ac4-9c07-a2b48b6612f3",
   "metadata": {},
   "outputs": [
    {
     "name": "stdin",
     "output_type": "stream",
     "text": [
      "Enter the value of n:  2\n"
     ]
    },
    {
     "name": "stdout",
     "output_type": "stream",
     "text": [
      "(3, 4, 5, 6, 1, 2)\n"
     ]
    }
   ],
   "source": [
    "t = (1,2,3,4,5,6)\n",
    "n = int(input(\"Enter the value of n: \"))\n",
    "rotate = t[n:] + t[:n]\n",
    "print(rotate)"
   ]
  },
  {
   "cell_type": "markdown",
   "id": "c6bacbfe-876a-4103-8a54-b9607d929e3f",
   "metadata": {},
   "source": [
    "40. Rotate a tuple to the right by `n` positions."
   ]
  },
  {
   "cell_type": "code",
   "execution_count": 103,
   "id": "64121ec6-b656-4fc0-b2c8-a97dc15eb735",
   "metadata": {},
   "outputs": [
    {
     "name": "stdin",
     "output_type": "stream",
     "text": [
      "Enter the value of n:  2\n"
     ]
    },
    {
     "name": "stdout",
     "output_type": "stream",
     "text": [
      "(5, 6, 1, 2, 3, 4)\n"
     ]
    }
   ],
   "source": [
    "t = (1,2,3,4,5,6)\n",
    "n = int(input(\"Enter the value of n: \"))\n",
    "rotate = t[-n:] + t[:-n]\n",
    "print(rotate)"
   ]
  },
  {
   "cell_type": "markdown",
   "id": "2039594a-d0b5-4901-b3c0-9a65464ba080",
   "metadata": {},
   "source": [
    "41. Create a tuple of the first 5 Fibonacci numbers."
   ]
  },
  {
   "cell_type": "code",
   "execution_count": 104,
   "id": "ba8b24e1-5d51-4b4f-b63c-b2ce12e29870",
   "metadata": {},
   "outputs": [
    {
     "name": "stdin",
     "output_type": "stream",
     "text": [
      "Enter the number:  5\n"
     ]
    },
    {
     "name": "stdout",
     "output_type": "stream",
     "text": [
      "Fibonacci series of 5 number is :  (0, 1, 1, 2, 3)\n"
     ]
    }
   ],
   "source": [
    "def fibo(n):\n",
    "    t = [0,1]\n",
    "    for i in range(n-2):\n",
    "        add = t[i] + t[i+1]\n",
    "        t.append(add)\n",
    "    return t\n",
    "\n",
    "n = int(input(\"Enter the number: \"))\n",
    "print(f\"Fibonacci series of {n} number is : \",tuple(fibo(n)))"
   ]
  },
  {
   "cell_type": "markdown",
   "id": "e81c7b29-c0bd-4a5d-a845-9298971d9017",
   "metadata": {},
   "source": [
    "42. Create a tuple from user input."
   ]
  },
  {
   "cell_type": "code",
   "execution_count": 107,
   "id": "6c8924d5-5ebd-45a4-845e-4a1239094e5a",
   "metadata": {},
   "outputs": [
    {
     "name": "stdin",
     "output_type": "stream",
     "text": [
      "Enter tuple elements:  10,20,30,40,50\n"
     ]
    },
    {
     "name": "stdout",
     "output_type": "stream",
     "text": [
      "Tuple:  ('10', '20', '30', '40', '50')\n"
     ]
    }
   ],
   "source": [
    "s = input(\"Enter tuple elements: \")\n",
    "t = s.split(',')\n",
    "print(\"Tuple: \",tuple(t))"
   ]
  },
  {
   "cell_type": "markdown",
   "id": "fe8c7d32-1be2-4132-b88d-f81b94360fe1",
   "metadata": {},
   "source": [
    "43. Swap two elements in a tuple."
   ]
  },
  {
   "cell_type": "code",
   "execution_count": 108,
   "id": "e8be458c-850f-4a39-bf09-a670b0ac21c9",
   "metadata": {},
   "outputs": [
    {
     "name": "stdout",
     "output_type": "stream",
     "text": [
      "Tuple before swapping:  (1, 2, 3, 4, 5, 6)\n"
     ]
    },
    {
     "name": "stdin",
     "output_type": "stream",
     "text": [
      "Enter the first element to be swapped:  2\n",
      "Enter the first element to be swapped:  5\n"
     ]
    },
    {
     "name": "stdout",
     "output_type": "stream",
     "text": [
      "Tuple after swapping:  (1, 2, 6, 4, 5, 3)\n"
     ]
    }
   ],
   "source": [
    "t = [1,2,3,4,5,6]\n",
    "print(\"Tuple before swapping: \",tuple(t))\n",
    "x = int(input(\"Enter the first element to be swapped: \"))\n",
    "y = int(input(\"Enter the first element to be swapped: \"))\n",
    "temp = t[x]\n",
    "t[x] = t[y]\n",
    "t[y] = temp\n",
    "print(\"Tuple after swapping: \",tuple(t))"
   ]
  },
  {
   "cell_type": "markdown",
   "id": "831d69d5-6ae2-4821-b398-9e015dd80a9b",
   "metadata": {},
   "source": [
    "44. Reverse the elements of a tuple."
   ]
  },
  {
   "cell_type": "code",
   "execution_count": 109,
   "id": "5f7664e9-3c23-4caf-85c5-222c5864678a",
   "metadata": {},
   "outputs": [
    {
     "data": {
      "text/plain": [
       "(6, 5, 4, 3, 2, 1)"
      ]
     },
     "execution_count": 109,
     "metadata": {},
     "output_type": "execute_result"
    }
   ],
   "source": [
    "t = (1,2,3,4,5,6)\n",
    "reversed_tuple = t[::-1]\n",
    "reversed_tuple"
   ]
  },
  {
   "cell_type": "markdown",
   "id": "02ec763e-7f27-40b1-b804-0baadd53aa04",
   "metadata": {},
   "source": [
    "45. Create a tuple of the first `n` powers of 2."
   ]
  },
  {
   "cell_type": "code",
   "execution_count": 110,
   "id": "9a3c77d6-e513-46c0-a079-c5117e1c5d56",
   "metadata": {},
   "outputs": [
    {
     "name": "stdin",
     "output_type": "stream",
     "text": [
      "Enter the value of n:  5\n"
     ]
    },
    {
     "name": "stdout",
     "output_type": "stream",
     "text": [
      "(1, 2, 4, 8, 16)\n"
     ]
    }
   ],
   "source": [
    "n = int(input(\"Enter the value of n: \"))\n",
    "t = tuple(2**i for i in range(n))\n",
    "print(t)"
   ]
  },
  {
   "cell_type": "markdown",
   "id": "ee92f175-19e9-440b-a8fc-5d8335dcd647",
   "metadata": {},
   "source": [
    "46. Find the longest string in a tuple of strings."
   ]
  },
  {
   "cell_type": "code",
   "execution_count": 111,
   "id": "764db3b5-e871-481f-b3d7-b57bab766b16",
   "metadata": {},
   "outputs": [
    {
     "name": "stdout",
     "output_type": "stream",
     "text": [
      "('this', 'is', 'a', 'string', 'in', 'tuple')\n",
      "Longest word in the given string:   'string'\n"
     ]
    }
   ],
   "source": [
    "t = ('this', 'is', 'a', 'string', 'in', 'tuple')\n",
    "print(t)\n",
    "s = str(t)\n",
    "longest = max(s.split(','),key = len)\n",
    "print(\"Longest word in the given string: \",longest)"
   ]
  },
  {
   "cell_type": "markdown",
   "id": "0ab7229b-cf94-47e8-8b1f-4530b2163268",
   "metadata": {},
   "source": [
    "47. Find the shortest string in a tuple of strings."
   ]
  },
  {
   "cell_type": "code",
   "execution_count": 112,
   "id": "624f0447-48c4-4b6e-97c6-a70f9a4e0d1f",
   "metadata": {},
   "outputs": [
    {
     "name": "stdout",
     "output_type": "stream",
     "text": [
      "('this', 'is', 'a', 'string', 'in', 'tuple')\n",
      "Shortest word in the given string:  a\n"
     ]
    }
   ],
   "source": [
    "t = ('this', 'is', 'a', 'string', 'in', 'tuple')\n",
    "print(t)\n",
    "shortest = min(t,key = len)\n",
    "print(\"Shortest word in the given string: \",shortest)"
   ]
  },
  {
   "cell_type": "markdown",
   "id": "1fedcd81-170f-46bd-b308-c08775a77c5e",
   "metadata": {},
   "source": [
    "48. Create a tuple of the first `n` triangular numbers."
   ]
  },
  {
   "cell_type": "code",
   "execution_count": 113,
   "id": "55a0bb61-1edc-4b8d-bc13-15314a32fb0d",
   "metadata": {},
   "outputs": [
    {
     "name": "stdin",
     "output_type": "stream",
     "text": [
      "Enter the value of N:  5\n"
     ]
    },
    {
     "data": {
      "text/plain": [
       "(1, 3, 6, 10, 15)"
      ]
     },
     "execution_count": 113,
     "metadata": {},
     "output_type": "execute_result"
    }
   ],
   "source": [
    "n = int(input(\"Enter the value of N: \"))\n",
    "l = tuple(i*(i+1)//2 for i in range(1,n+1))\n",
    "l"
   ]
  },
  {
   "cell_type": "markdown",
   "id": "5d773396-e498-4f27-ae29-5ea80a3cc79d",
   "metadata": {},
   "source": [
    "49. Check if a tuple contains another tuple as a subsequence."
   ]
  },
  {
   "cell_type": "code",
   "execution_count": 114,
   "id": "bae01324-453f-4851-951b-9f41f0d1e4ba",
   "metadata": {},
   "outputs": [
    {
     "name": "stdout",
     "output_type": "stream",
     "text": [
      "tuple contains another tuple as a subsequence\n"
     ]
    }
   ],
   "source": [
    "def check(t,sub):\n",
    "    sub_length = len(sub)\n",
    "    for i in range(len(t)-len(sub)+1):\n",
    "        if t[i:i+sub_length] == sub:\n",
    "            return True\n",
    "    else:\n",
    "        return False\n",
    "            \n",
    "t = (1,2,3,4,5,6,7,8,9)\n",
    "sub = (4,5,6)\n",
    "\n",
    "if (check(t,sub)):\n",
    "    print(\"tuple contains another tuple as a subsequence\")\n",
    "else:\n",
    "     print(\"tuple doesn't contains another tuple as a subsequence\")        "
   ]
  },
  {
   "cell_type": "markdown",
   "id": "95b34132-5c69-486f-8653-0c2ce607d8ef",
   "metadata": {},
   "source": [
    "50. Create a tuple of alternating 1s and 0s of length `n`."
   ]
  },
  {
   "cell_type": "code",
   "execution_count": 115,
   "id": "f803bb5f-045c-4dd9-aaa2-2d29b841aef4",
   "metadata": {},
   "outputs": [
    {
     "name": "stdin",
     "output_type": "stream",
     "text": [
      "Enter the value of n:  10\n"
     ]
    },
    {
     "name": "stdout",
     "output_type": "stream",
     "text": [
      "Tuple of alternating 1s and 0s: (0, 1, 0, 1, 0, 1, 0, 1, 0, 1)\n"
     ]
    }
   ],
   "source": [
    "n = int(input(\"Enter the value of n: \"))\n",
    "alternating_tuple = tuple(i % 2 for i in range(n))\n",
    "print(\"Tuple of alternating 1s and 0s:\", alternating_tuple)"
   ]
  },
  {
   "cell_type": "markdown",
   "id": "7d0f69fb-b13b-4fa7-89b9-b6abecc5baa2",
   "metadata": {},
   "source": [
    "Set Based Practice Problem :"
   ]
  },
  {
   "cell_type": "markdown",
   "id": "1287b1fc-1e69-41df-8405-aeb969282618",
   "metadata": {},
   "source": [
    "1. Create a set with integers from 1 to 5."
   ]
  },
  {
   "cell_type": "code",
   "execution_count": 1,
   "id": "b4c1a8f9-d336-4d62-8383-ad1b8abd58e7",
   "metadata": {},
   "outputs": [
    {
     "data": {
      "text/plain": [
       "{1, 2, 3, 4, 5}"
      ]
     },
     "execution_count": 1,
     "metadata": {},
     "output_type": "execute_result"
    }
   ],
   "source": [
    "s = {1,2,3,4,5}\n",
    "s"
   ]
  },
  {
   "cell_type": "markdown",
   "id": "f8449d93-34bc-4ff1-bdb1-4a3a0dae7a1f",
   "metadata": {},
   "source": [
    "2. Add an element to a set."
   ]
  },
  {
   "cell_type": "code",
   "execution_count": 2,
   "id": "297b0708-34c3-411c-bbd6-3ec34f8660f8",
   "metadata": {},
   "outputs": [
    {
     "data": {
      "text/plain": [
       "{1, 2, 3, 4, 5, 6}"
      ]
     },
     "execution_count": 2,
     "metadata": {},
     "output_type": "execute_result"
    }
   ],
   "source": [
    "s = {1,2,2,3,3,4,5}\n",
    "s.add(6)\n",
    "s"
   ]
  },
  {
   "cell_type": "markdown",
   "id": "1945572e-23ec-41dc-b10a-f740624404fb",
   "metadata": {},
   "source": [
    "3. Remove an element from a set."
   ]
  },
  {
   "cell_type": "code",
   "execution_count": 3,
   "id": "d9900d47-332d-4b4c-bce0-1a35b5c56a0c",
   "metadata": {},
   "outputs": [
    {
     "data": {
      "text/plain": [
       "{1, 2, 3, 4}"
      ]
     },
     "execution_count": 3,
     "metadata": {},
     "output_type": "execute_result"
    }
   ],
   "source": [
    "s = {1,2,3,4,5}\n",
    "s.remove(5)\n",
    "s"
   ]
  },
  {
   "cell_type": "markdown",
   "id": "2a7499b2-b95b-4c53-8fc8-df243e35835e",
   "metadata": {},
   "source": [
    "4. Check if an element exists in a set."
   ]
  },
  {
   "cell_type": "code",
   "execution_count": 4,
   "id": "cd902be6-9d5e-4eec-a904-332cc1466b80",
   "metadata": {},
   "outputs": [
    {
     "name": "stdin",
     "output_type": "stream",
     "text": [
      "Enter an element to check:  30\n"
     ]
    },
    {
     "name": "stdout",
     "output_type": "stream",
     "text": [
      "Element exists\n"
     ]
    }
   ],
   "source": [
    "x = int(input(\"Enter an element to check: \"))\n",
    "s = {10,20,30,40,50}\n",
    "if x in s:\n",
    "    print(\"Element exists\")\n",
    "else:\n",
    "    print(\"Element doesn't exist\")"
   ]
  },
  {
   "cell_type": "markdown",
   "id": "001fd91b-c437-4d69-b99a-4b4a50dd5cc5",
   "metadata": {},
   "source": [
    "5. Find the length of a set without using the `len()` function."
   ]
  },
  {
   "cell_type": "code",
   "execution_count": 5,
   "id": "f5a6e003-4272-4602-bad5-4b0e3c4b164c",
   "metadata": {},
   "outputs": [
    {
     "name": "stdout",
     "output_type": "stream",
     "text": [
      "Length of given set is 5\n"
     ]
    }
   ],
   "source": [
    "s = {1,2,3,4,5}\n",
    "count = 0\n",
    "for i in s:\n",
    "    count += 1\n",
    "print(f\"Length of given set is {count}\")"
   ]
  },
  {
   "cell_type": "markdown",
   "id": "75436914-03d2-4521-9ba7-0ed3c408c826",
   "metadata": {},
   "source": [
    "6. Clear all elements from a set."
   ]
  },
  {
   "cell_type": "code",
   "execution_count": 6,
   "id": "7711294e-e583-4a74-bf1e-c85242dec687",
   "metadata": {},
   "outputs": [
    {
     "data": {
      "text/plain": [
       "set()"
      ]
     },
     "execution_count": 6,
     "metadata": {},
     "output_type": "execute_result"
    }
   ],
   "source": [
    "s = {1,2,3,4,5}\n",
    "s.clear()\n",
    "s"
   ]
  },
  {
   "cell_type": "markdown",
   "id": "634f4cb9-9bdc-411d-9f26-df8a9d9bb003",
   "metadata": {},
   "source": [
    "7. Create a set of even numbers from 1 to 10."
   ]
  },
  {
   "cell_type": "code",
   "execution_count": 7,
   "id": "84624080-f91c-47ea-84bc-8dfcfd824fe9",
   "metadata": {},
   "outputs": [
    {
     "name": "stdout",
     "output_type": "stream",
     "text": [
      "{2, 4, 6, 8, 10}\n"
     ]
    }
   ],
   "source": [
    "s = set()\n",
    "for i in range(1,11):\n",
    "    if i % 2 == 0:\n",
    "        s.add(i)\n",
    "print(s)"
   ]
  },
  {
   "cell_type": "markdown",
   "id": "43e008b5-1e3d-4db9-a87b-acee9d60c68a",
   "metadata": {},
   "source": [
    "8. Create a set of odd numbers from 1 to 10."
   ]
  },
  {
   "cell_type": "code",
   "execution_count": 8,
   "id": "b7233303-4a84-4c94-86c6-da3eec74251d",
   "metadata": {},
   "outputs": [
    {
     "name": "stdout",
     "output_type": "stream",
     "text": [
      "{1, 3, 5, 7, 9}\n"
     ]
    }
   ],
   "source": [
    "s = set()\n",
    "for i in range(1,11):\n",
    "    if i % 2 != 0:\n",
    "        s.add(i)\n",
    "print(s)"
   ]
  },
  {
   "cell_type": "markdown",
   "id": "dff4a7a4-74dd-4b51-ab59-a97cd71473fb",
   "metadata": {},
   "source": [
    "9. Find the union of two sets."
   ]
  },
  {
   "cell_type": "code",
   "execution_count": 9,
   "id": "e61d0af5-ab9b-4b99-9980-18ae70889138",
   "metadata": {},
   "outputs": [
    {
     "name": "stdout",
     "output_type": "stream",
     "text": [
      "{1, 2, 3, 4, 5}\n",
      "{4, 5, 6, 7, 8}\n"
     ]
    },
    {
     "data": {
      "text/plain": [
       "{1, 2, 3, 4, 5, 6, 7, 8}"
      ]
     },
     "execution_count": 9,
     "metadata": {},
     "output_type": "execute_result"
    }
   ],
   "source": [
    "s1 = {1,2,3,4,5}\n",
    "s2 = {4,5,6,7,8}\n",
    "print(s1)\n",
    "print(s2)\n",
    "s1.union(s2)"
   ]
  },
  {
   "cell_type": "markdown",
   "id": "2ba4064e-b11c-4dad-ba1f-8d006ed90459",
   "metadata": {},
   "source": [
    "10. Find the intersection of two sets."
   ]
  },
  {
   "cell_type": "code",
   "execution_count": 10,
   "id": "36b56b1c-e23a-4fb4-8ace-c3eccc523b02",
   "metadata": {},
   "outputs": [
    {
     "name": "stdout",
     "output_type": "stream",
     "text": [
      "{1, 2, 3, 4, 5}\n",
      "{4, 5, 6, 7, 8}\n"
     ]
    },
    {
     "data": {
      "text/plain": [
       "{4, 5}"
      ]
     },
     "execution_count": 10,
     "metadata": {},
     "output_type": "execute_result"
    }
   ],
   "source": [
    "s1 = {1,2,3,4,5}\n",
    "s2 = {4,5,6,7,8}\n",
    "print(s1)\n",
    "print(s2)\n",
    "s1.intersection(s2)"
   ]
  },
  {
   "cell_type": "markdown",
   "id": "f257f30d-bbf5-4826-86d7-950609f95d2b",
   "metadata": {},
   "source": [
    "11. Find the difference between two sets."
   ]
  },
  {
   "cell_type": "code",
   "execution_count": 11,
   "id": "1882c158-7239-4500-8a51-8ef9be4ad898",
   "metadata": {},
   "outputs": [
    {
     "name": "stdout",
     "output_type": "stream",
     "text": [
      "{1, 2, 3, 4, 5}\n",
      "{4, 5, 6, 7, 8}\n"
     ]
    },
    {
     "data": {
      "text/plain": [
       "{1, 2, 3}"
      ]
     },
     "execution_count": 11,
     "metadata": {},
     "output_type": "execute_result"
    }
   ],
   "source": [
    "s1 = {1,2,3,4,5}\n",
    "s2 = {4,5,6,7,8}\n",
    "print(s1)\n",
    "print(s2)\n",
    "s1.difference(s2)"
   ]
  },
  {
   "cell_type": "markdown",
   "id": "93175f8b-cfa5-460d-8c6a-23aced24a541",
   "metadata": {},
   "source": [
    "12. Check if a set is a subset of another set."
   ]
  },
  {
   "cell_type": "code",
   "execution_count": 12,
   "id": "f4346fb8-0ca3-4dd5-941a-2b925fc2483b",
   "metadata": {},
   "outputs": [
    {
     "data": {
      "text/plain": [
       "True"
      ]
     },
     "execution_count": 12,
     "metadata": {},
     "output_type": "execute_result"
    }
   ],
   "source": [
    "s1 = {1,2,3,4,5}\n",
    "s2 = {1,2,3}\n",
    "s2.issubset(s1)"
   ]
  },
  {
   "cell_type": "markdown",
   "id": "5a740d1e-b3e2-43e8-995e-cd2c3ca46e67",
   "metadata": {},
   "source": [
    "13. Check if a set is a superset of another set."
   ]
  },
  {
   "cell_type": "code",
   "execution_count": 13,
   "id": "b9914e22-48e7-4a6b-9329-3fa612f1e679",
   "metadata": {},
   "outputs": [
    {
     "data": {
      "text/plain": [
       "True"
      ]
     },
     "execution_count": 13,
     "metadata": {},
     "output_type": "execute_result"
    }
   ],
   "source": [
    "s1 = {1,2,3,4,5}\n",
    "s2 = {1,2,3}\n",
    "s1.issuperset(s2)"
   ]
  },
  {
   "cell_type": "markdown",
   "id": "1afeebd9-3949-4027-8d91-b0530f2f9a1e",
   "metadata": {},
   "source": [
    "14. Create a set from a list."
   ]
  },
  {
   "cell_type": "code",
   "execution_count": 14,
   "id": "22fdd44b-af13-43d9-8dc7-c8b8d5dd09b9",
   "metadata": {},
   "outputs": [
    {
     "name": "stdout",
     "output_type": "stream",
     "text": [
      "list:  [1, 2, 3, 4, 5, 6]\n",
      "set:  {1, 2, 3, 4, 5, 6}\n"
     ]
    }
   ],
   "source": [
    "l = [1,2,3,4,5,6]\n",
    "print(\"list: \",l)\n",
    "print(\"set: \",set(l))"
   ]
  },
  {
   "cell_type": "markdown",
   "id": "70175121-70da-4b95-b659-24c0b9f79969",
   "metadata": {},
   "source": [
    "15. Convert a set to a list."
   ]
  },
  {
   "cell_type": "code",
   "execution_count": 15,
   "id": "3daf636e-5ffa-4217-b1f9-61d05cc8d552",
   "metadata": {},
   "outputs": [
    {
     "name": "stdout",
     "output_type": "stream",
     "text": [
      "set:  {1, 2, 3, 4, 5, 6}\n",
      "list:  [1, 2, 3, 4, 5, 6]\n"
     ]
    }
   ],
   "source": [
    "s = {1,2,3,4,5,6}\n",
    "print(\"set: \",s)\n",
    "print(\"list: \",list(l))"
   ]
  },
  {
   "cell_type": "markdown",
   "id": "a639078a-10a5-4878-ad04-87c6d3cd0d49",
   "metadata": {},
   "source": [
    "\n",
    "16. Remove a random element from a set."
   ]
  },
  {
   "cell_type": "code",
   "execution_count": 16,
   "id": "01d6bec9-37ff-41e5-a988-406f288270c4",
   "metadata": {},
   "outputs": [
    {
     "name": "stdout",
     "output_type": "stream",
     "text": [
      "set:{1, 2, 3, 4, 5, 6}\n",
      "Set after removing random element:{1, 2, 3, 4, 5}\n"
     ]
    }
   ],
   "source": [
    "import random \n",
    "s = {1,2,3,4,5,6}\n",
    "print(f\"set:{s}\")\n",
    "random_element = random.choice(list(s))\n",
    "s.remove(random_element)\n",
    "print(f\"Set after removing random element:{s}\")"
   ]
  },
  {
   "cell_type": "markdown",
   "id": "25e8e65f-0d96-4d36-a46e-cfe25e2c669e",
   "metadata": {},
   "source": [
    "17. Pop an element from a set."
   ]
  },
  {
   "cell_type": "code",
   "execution_count": 17,
   "id": "63eb810f-de93-4689-bcf7-7759bcf728fa",
   "metadata": {},
   "outputs": [
    {
     "name": "stdout",
     "output_type": "stream",
     "text": [
      "1\n",
      "{2, 3, 4, 5, 6}\n"
     ]
    }
   ],
   "source": [
    "s = {1,2,3,4,5,6}\n",
    "print(s.pop())\n",
    "print(s)"
   ]
  },
  {
   "cell_type": "markdown",
   "id": "a82775f1-15a1-48ee-8e4b-c9b90a72f34f",
   "metadata": {},
   "source": [
    "18. Check if two sets have no elements in common."
   ]
  },
  {
   "cell_type": "code",
   "execution_count": 18,
   "id": "d0157446-d218-4468-bb3f-4750f8ae69e0",
   "metadata": {},
   "outputs": [
    {
     "name": "stdout",
     "output_type": "stream",
     "text": [
      "There are no common elements\n"
     ]
    }
   ],
   "source": [
    "s1 = {1,2,3,4,5}\n",
    "s2 = {6,7,8,9,0}\n",
    "if s1.intersection(s2):\n",
    "    print(\"Commom elements are found\")\n",
    "else:\n",
    "    print(\"There are no common elements\")"
   ]
  },
  {
   "cell_type": "markdown",
   "id": "81c8c28e-5c6b-41e7-9fde-d82a7b9f7245",
   "metadata": {},
   "source": [
    "19. Find the symmetric difference between two sets."
   ]
  },
  {
   "cell_type": "code",
   "execution_count": 19,
   "id": "cb70e34a-c5b3-4067-b5f0-660cc610f796",
   "metadata": {},
   "outputs": [
    {
     "data": {
      "text/plain": [
       "{1, 2, 6, 7}"
      ]
     },
     "execution_count": 19,
     "metadata": {},
     "output_type": "execute_result"
    }
   ],
   "source": [
    "s1 = {1,2,3,4,5}\n",
    "s2 = {3,4,5,6,7}\n",
    "s1.symmetric_difference(s2)"
   ]
  },
  {
   "cell_type": "markdown",
   "id": "86ea9aec-bbf2-4347-9dda-75cc7b640e24",
   "metadata": {},
   "source": [
    "20. Update a set with elements from another set."
   ]
  },
  {
   "cell_type": "code",
   "execution_count": 20,
   "id": "e695389a-eeda-4708-91ec-145e598e3508",
   "metadata": {},
   "outputs": [
    {
     "data": {
      "text/plain": [
       "{0, 1, 2, 3, 4, 5, 6, 7, 8, 9}"
      ]
     },
     "execution_count": 20,
     "metadata": {},
     "output_type": "execute_result"
    }
   ],
   "source": [
    "s1 = {1,2,3,4,5}\n",
    "s2 = {6,7,8,9,0}\n",
    "s1.update(s2)\n",
    "s1"
   ]
  },
  {
   "cell_type": "markdown",
   "id": "88581ef9-a4b0-436a-b67b-64ad044f18b7",
   "metadata": {},
   "source": [
    "21. Create a set of the first 5 prime numbers."
   ]
  },
  {
   "cell_type": "code",
   "execution_count": 21,
   "id": "599ae60c-72d4-4804-89fb-f91e2635a347",
   "metadata": {},
   "outputs": [
    {
     "name": "stdout",
     "output_type": "stream",
     "text": [
      "{2, 3, 5, 7, 11}\n"
     ]
    }
   ],
   "source": [
    "def isprime(num):\n",
    "    if num <= 1:\n",
    "        return False\n",
    "    for i in range(2,num):\n",
    "        if num % i == 0:\n",
    "            return False\n",
    "    return True\n",
    "s = set()\n",
    "for i in range(1,100):\n",
    "    if len(s) < 5:\n",
    "        if isprime(i):\n",
    "            s.add(i)\n",
    "        else:\n",
    "            continue\n",
    "print(s)"
   ]
  },
  {
   "cell_type": "markdown",
   "id": "dfa88f6b-bc45-4f3e-a269-f878fa7a373a",
   "metadata": {},
   "source": [
    "22. Check if two sets are identical."
   ]
  },
  {
   "cell_type": "code",
   "execution_count": 22,
   "id": "8b9b1eb4-dc15-46ae-840b-b8ed8d03a724",
   "metadata": {},
   "outputs": [
    {
     "name": "stdout",
     "output_type": "stream",
     "text": [
      "Are sets identical:  True\n",
      "Are sets identical:  False\n"
     ]
    }
   ],
   "source": [
    "s1 = {1,2,3,4,5}\n",
    "s2 = {2,5,1,3,4}\n",
    "s3 = {4,5,6,'pw','skills'}\n",
    "print(\"Are sets identical: \",s1 == s2)\n",
    "print(\"Are sets identical: \",s1 == s3)"
   ]
  },
  {
   "cell_type": "markdown",
   "id": "ea3de6c2-3bb5-494b-87a9-4e9c63af2ec5",
   "metadata": {},
   "source": [
    "23. Create a frozen set."
   ]
  },
  {
   "cell_type": "code",
   "execution_count": 23,
   "id": "8e4a5e94-d138-4f76-8a16-83ebe0d4202e",
   "metadata": {},
   "outputs": [
    {
     "data": {
      "text/plain": [
       "frozenset({1, 2, 3, 4, 5})"
      ]
     },
     "execution_count": 23,
     "metadata": {},
     "output_type": "execute_result"
    }
   ],
   "source": [
    "s = {1,2,3,4,5}\n",
    "frozen_set = frozenset(s)\n",
    "frozen_set"
   ]
  },
  {
   "cell_type": "markdown",
   "id": "83ecb34b-1a15-4db6-af84-014d44fa64e2",
   "metadata": {},
   "source": [
    "24. Check if a set is disjoint with another set."
   ]
  },
  {
   "cell_type": "code",
   "execution_count": 24,
   "id": "4702b687-2c9f-4706-8d14-2bc5acb05fed",
   "metadata": {},
   "outputs": [
    {
     "name": "stdout",
     "output_type": "stream",
     "text": [
      "Are given sets disjoint set:  False\n",
      "Are given sets disjoint set:  True\n"
     ]
    }
   ],
   "source": [
    "s1 = {1,2,3,4,5}\n",
    "s2 = {4,5,6,7,8}\n",
    "s3 = {6,7,8,9,0}\n",
    "print(\"Are given sets disjoint set: \",s1.isdisjoint(s2))\n",
    "print(\"Are given sets disjoint set: \",s1.isdisjoint(s3))"
   ]
  },
  {
   "cell_type": "markdown",
   "id": "43e665de-ce82-40e0-9a05-95f4f1fdff39",
   "metadata": {},
   "source": [
    "25. Create a set of squares of numbers from 1 to 5."
   ]
  },
  {
   "cell_type": "code",
   "execution_count": 25,
   "id": "8ba69bc1-9b38-486c-af5d-cd028fe04ee0",
   "metadata": {},
   "outputs": [
    {
     "data": {
      "text/plain": [
       "{1, 4, 9, 16, 25}"
      ]
     },
     "execution_count": 25,
     "metadata": {},
     "output_type": "execute_result"
    }
   ],
   "source": [
    "s = set(i**2 for i in range(1,6))\n",
    "s"
   ]
  },
  {
   "cell_type": "markdown",
   "id": "3acd937f-06dc-4f1f-98cf-01bcaa2ed38b",
   "metadata": {},
   "source": [
    "26. Filter out all even numbers from a set."
   ]
  },
  {
   "cell_type": "code",
   "execution_count": 26,
   "id": "2a83e489-4935-44a3-9f9b-2b6b5146b827",
   "metadata": {},
   "outputs": [
    {
     "name": "stdout",
     "output_type": "stream",
     "text": [
      "{1, 2, 3, 4, 5, 6, 7, 8, 9}\n"
     ]
    },
    {
     "data": {
      "text/plain": [
       "{2, 4, 6, 8}"
      ]
     },
     "execution_count": 26,
     "metadata": {},
     "output_type": "execute_result"
    }
   ],
   "source": [
    "s = {1,2,3,4,5,6,7,8,9}\n",
    "print(s)\n",
    "y = set(filter(lambda x:x%2==0,s))\n",
    "y"
   ]
  },
  {
   "cell_type": "markdown",
   "id": "7b8830dc-939d-4e10-b730-3a89c80ef804",
   "metadata": {},
   "source": [
    "27. Multiply all elements in a set by 2."
   ]
  },
  {
   "cell_type": "code",
   "execution_count": 27,
   "id": "5a5ffb82-26b8-4ad7-bc39-bd6e0058cd87",
   "metadata": {},
   "outputs": [
    {
     "data": {
      "text/plain": [
       "{1, 4, 9, 16, 25}"
      ]
     },
     "execution_count": 27,
     "metadata": {},
     "output_type": "execute_result"
    }
   ],
   "source": [
    "s = {1,2,3,4,5}\n",
    "multiple = set(x**2 for x in s)\n",
    "multiple"
   ]
  },
  {
   "cell_type": "markdown",
   "id": "af4ec2f0-3e02-48d9-8c40-4b8f637c0387",
   "metadata": {},
   "source": [
    "28. Create a set of random numbers."
   ]
  },
  {
   "cell_type": "code",
   "execution_count": 28,
   "id": "aef65bcb-45d3-4ad6-afe7-62cb1f3ec37c",
   "metadata": {},
   "outputs": [
    {
     "data": {
      "text/plain": [
       "{16, 18, 20, 35, 38, 48, 50, 57, 73, 92}"
      ]
     },
     "execution_count": 28,
     "metadata": {},
     "output_type": "execute_result"
    }
   ],
   "source": [
    "import random\n",
    "s = set (random.randint(1,100) for x in range(10))\n",
    "s"
   ]
  },
  {
   "cell_type": "markdown",
   "id": "b871be7f-ce20-4e6b-9442-0c11b95cecb0",
   "metadata": {},
   "source": [
    "29. Check if a set is empty."
   ]
  },
  {
   "cell_type": "code",
   "execution_count": 29,
   "id": "21074e32-d447-4ca4-b30f-f1a50510154a",
   "metadata": {},
   "outputs": [
    {
     "name": "stdout",
     "output_type": "stream",
     "text": [
      "Set is not empty\n"
     ]
    }
   ],
   "source": [
    "s = {1,2,3,4,5}\n",
    "if not s:\n",
    "    print(\"Set is empty\")\n",
    "else:\n",
    "    print(\"Set is not empty\")"
   ]
  },
  {
   "cell_type": "markdown",
   "id": "ddeb5a91-89d3-40c4-939f-289852d6b131",
   "metadata": {},
   "source": [
    "30. Create a nested set (hint: use frozenset)."
   ]
  },
  {
   "cell_type": "code",
   "execution_count": 30,
   "id": "b4a2db7c-fa99-4470-a773-8a9b283a4c8e",
   "metadata": {},
   "outputs": [
    {
     "data": {
      "text/plain": [
       "{1, 2, 3, frozenset({'hello,', 'world!'}), frozenset({4, 5, 6})}"
      ]
     },
     "execution_count": 30,
     "metadata": {},
     "output_type": "execute_result"
    }
   ],
   "source": [
    "s = {1,2,3}\n",
    "s1 = {4,5,6}\n",
    "s2 = {'hello,','world!'}\n",
    "frozen1 = frozenset(s1)\n",
    "frozen2 = frozenset(s2)\n",
    "s.add(frozen1)\n",
    "s.add(frozen2)\n",
    "s"
   ]
  },
  {
   "cell_type": "markdown",
   "id": "5e4c4b36-cde6-4a11-8813-906c05f7e3ee",
   "metadata": {},
   "source": [
    "31. Remove an element from a set using the discard method."
   ]
  },
  {
   "cell_type": "code",
   "execution_count": 31,
   "id": "fba71ad9-c7f5-45e4-8ce9-73a4101d0efd",
   "metadata": {},
   "outputs": [
    {
     "data": {
      "text/plain": [
       "{1, 2, 3.14, 'hello'}"
      ]
     },
     "execution_count": 31,
     "metadata": {},
     "output_type": "execute_result"
    }
   ],
   "source": [
    "s = {1,2,'hello','world',3.14,True}\n",
    "s.discard('world')\n",
    "s"
   ]
  },
  {
   "cell_type": "markdown",
   "id": "85ab1fc4-d513-4646-855a-7139e472d0b6",
   "metadata": {},
   "source": [
    "32. Compare two sets."
   ]
  },
  {
   "cell_type": "code",
   "execution_count": 32,
   "id": "9fdab0fb-957a-40fb-b0e6-c4afd8b1ea47",
   "metadata": {},
   "outputs": [
    {
     "name": "stdout",
     "output_type": "stream",
     "text": [
      "s1: {1, 2, 3, 4, 5}\n",
      "s2: {4, 5, 6, 7, 8}\n",
      "Union of s1 and s2: {1, 2, 3, 4, 5, 6, 7, 8}\n",
      "Is s1 subset of s2: False\n",
      "Is s2 subset of s1: False\n",
      "s1 intersection s2: {4, 5}\n",
      "Is s1 superset of s2: False\n",
      "Is s2 superset of s1: False\n",
      "Elements that are present only in s1: {1, 2, 3}\n",
      "Elements that are present only in s2: {8, 6, 7}\n"
     ]
    }
   ],
   "source": [
    "s1 = {1,2,3,4,5}\n",
    "s2 = {4,5,6,7,8}\n",
    "print(f\"s1: {s1}\")\n",
    "print(f\"s2: {s2}\")\n",
    "print(f\"Union of s1 and s2: {s1.union(s2)}\")\n",
    "print(f\"Is s1 subset of s2: {s1.issubset(s2)}\")\n",
    "print(f\"Is s2 subset of s1: {s2.issubset(s1)}\")\n",
    "print(f\"s1 intersection s2: {s1.intersection(s2)}\")\n",
    "print(f\"Is s1 superset of s2: {s1.issuperset(s2)}\")\n",
    "print(f\"Is s2 superset of s1: {s2.issuperset(s1)}\")\n",
    "print(f\"Elements that are present only in s1: {s1.difference(s2)}\")\n",
    "print(f\"Elements that are present only in s2: {s2.difference(s1)}\")"
   ]
  },
  {
   "cell_type": "markdown",
   "id": "018c5186-6b1d-4431-98fa-eb082606fb42",
   "metadata": {},
   "source": [
    "33. Create a set from a string."
   ]
  },
  {
   "cell_type": "code",
   "execution_count": 33,
   "id": "2e8db028-36c2-457f-a85f-606416a54caf",
   "metadata": {},
   "outputs": [
    {
     "name": "stdout",
     "output_type": "stream",
     "text": [
      "This is a sample string\n"
     ]
    },
    {
     "data": {
      "text/plain": [
       "{' ', 'T', 'a', 'e', 'g', 'h', 'i', 'l', 'm', 'n', 'p', 'r', 's', 't'}"
      ]
     },
     "execution_count": 33,
     "metadata": {},
     "output_type": "execute_result"
    }
   ],
   "source": [
    "s = \"This is a sample string\"\n",
    "print(s)\n",
    "s1 = set(s)\n",
    "s1"
   ]
  },
  {
   "cell_type": "markdown",
   "id": "4926619f-ebaf-4cd1-a5eb-5144bccadf95",
   "metadata": {},
   "source": [
    "34. Convert a set of strings to a set of integers."
   ]
  },
  {
   "cell_type": "code",
   "execution_count": 34,
   "id": "b4b05024-aa1a-4be9-8143-3db095bb2682",
   "metadata": {},
   "outputs": [
    {
     "name": "stdout",
     "output_type": "stream",
     "text": [
      "{'4', '2', '1', '5', '3'}\n"
     ]
    },
    {
     "data": {
      "text/plain": [
       "{1, 2, 3, 4, 5}"
      ]
     },
     "execution_count": 34,
     "metadata": {},
     "output_type": "execute_result"
    }
   ],
   "source": [
    "s = {'1','2','3','4','5'}\n",
    "print(s)\n",
    "s1 = set(map(lambda x:int(x),s))\n",
    "s1"
   ]
  },
  {
   "cell_type": "markdown",
   "id": "dfe7b36c-8561-4759-8abe-d5a1a16a8453",
   "metadata": {},
   "source": [
    "35. Convert a set of integers to a set of strings."
   ]
  },
  {
   "cell_type": "code",
   "execution_count": 35,
   "id": "33d2d566-2143-43ba-af06-2fd6c7ee935e",
   "metadata": {},
   "outputs": [
    {
     "name": "stdout",
     "output_type": "stream",
     "text": [
      "{1, 2, 3, 4, 5}\n"
     ]
    },
    {
     "data": {
      "text/plain": [
       "{'1', '2', '3', '4', '5'}"
      ]
     },
     "execution_count": 35,
     "metadata": {},
     "output_type": "execute_result"
    }
   ],
   "source": [
    "s = {1, 2, 3, 4, 5}\n",
    "print(s)\n",
    "s1 = set(map(lambda x:str(x),s))\n",
    "s1"
   ]
  },
  {
   "cell_type": "markdown",
   "id": "a735f406-3ea2-4e6d-a72f-8073059c2328",
   "metadata": {},
   "source": [
    "36. Create a set from a tuple."
   ]
  },
  {
   "cell_type": "code",
   "execution_count": 36,
   "id": "e81327a0-5013-464d-9b41-f8a0fe43d51d",
   "metadata": {},
   "outputs": [
    {
     "name": "stdout",
     "output_type": "stream",
     "text": [
      "(1, 2, 'hello', 'world', 3.14, True, 1, 'hello')\n",
      "{1, 2, 3.14, 'world', 'hello'}\n"
     ]
    }
   ],
   "source": [
    "t = (1,2,'hello','world',3.14,True,1,'hello')\n",
    "print(t)\n",
    "s = set(t)\n",
    "print(s)"
   ]
  },
  {
   "cell_type": "markdown",
   "id": "f8aa7979-c121-4090-b222-033255c0279e",
   "metadata": {},
   "source": [
    "37. Convert a set to a tuple."
   ]
  },
  {
   "cell_type": "code",
   "execution_count": 37,
   "id": "b56b248d-76d8-4939-95fe-cb8ac9a45e7e",
   "metadata": {},
   "outputs": [
    {
     "name": "stdout",
     "output_type": "stream",
     "text": [
      "{1, 2, 3, 4, 5}\n",
      "(1, 2, 3, 4, 5)\n"
     ]
    }
   ],
   "source": [
    "s = {1,2,3,4,5}\n",
    "print(s)\n",
    "t = tuple(s)\n",
    "print(t)"
   ]
  },
  {
   "cell_type": "markdown",
   "id": "9896082e-c2da-411f-82fa-aadb7eae11c5",
   "metadata": {},
   "source": [
    "38. Find the maximum value in a set."
   ]
  },
  {
   "cell_type": "code",
   "execution_count": 38,
   "id": "d260dab7-8c22-4bfd-877d-3d1f06fb51af",
   "metadata": {},
   "outputs": [
    {
     "data": {
      "text/plain": [
       "70"
      ]
     },
     "execution_count": 38,
     "metadata": {},
     "output_type": "execute_result"
    }
   ],
   "source": [
    "s = {30,70,45,15,10,55}\n",
    "maximum = max(s)\n",
    "maximum"
   ]
  },
  {
   "cell_type": "markdown",
   "id": "7b66f1e0-07d1-484e-b4dc-6f363936d2ba",
   "metadata": {},
   "source": [
    "39. Find the minimum value in a set."
   ]
  },
  {
   "cell_type": "code",
   "execution_count": 39,
   "id": "e8ba5e13-9c09-43dc-a838-f1f5ea628971",
   "metadata": {},
   "outputs": [
    {
     "data": {
      "text/plain": [
       "10"
      ]
     },
     "execution_count": 39,
     "metadata": {},
     "output_type": "execute_result"
    }
   ],
   "source": [
    "s = {30,70,45,15,10,55}\n",
    "minimum = min(s)\n",
    "minimum"
   ]
  },
  {
   "cell_type": "markdown",
   "id": "13474b4b-3abf-4d2d-a7d7-3a966cc35636",
   "metadata": {},
   "source": [
    "40. Create a set from user input."
   ]
  },
  {
   "cell_type": "code",
   "execution_count": 40,
   "id": "45da53b8-2990-4b53-9961-f7cab49c2e21",
   "metadata": {},
   "outputs": [
    {
     "name": "stdin",
     "output_type": "stream",
     "text": [
      "Enter the number of elements to be stored in a set:  5\n",
      "Enter the element:  25\n",
      "Enter the element:  14\n",
      "Enter the element:  65\n",
      "Enter the element:  43\n",
      "Enter the element:  20\n"
     ]
    },
    {
     "name": "stdout",
     "output_type": "stream",
     "text": [
      "{65, 43, 14, 20, 25}\n"
     ]
    }
   ],
   "source": [
    "n = int(input(\"Enter the number of elements to be stored in a set: \"))\n",
    "s = set()\n",
    "for i in range(n):\n",
    "    j = int(input(\"Enter the element: \"))\n",
    "    s.add(j)\n",
    "    \n",
    "print(s)"
   ]
  },
  {
   "cell_type": "markdown",
   "id": "aab94bff-53ab-4deb-a965-bfe520d0195e",
   "metadata": {},
   "source": [
    "41. Check if the intersection of two sets is empty."
   ]
  },
  {
   "cell_type": "code",
   "execution_count": 41,
   "id": "64d02997-62f1-46a4-9b46-655311cf41e1",
   "metadata": {},
   "outputs": [
    {
     "name": "stdout",
     "output_type": "stream",
     "text": [
      "Not Empty\n"
     ]
    }
   ],
   "source": [
    "s1 = {1,2,3,4,5}\n",
    "s2 = {6,7,8,9,1}\n",
    "if not s1.intersection(s2):\n",
    "    print('Empty')\n",
    "else:\n",
    "    print('Not Empty')"
   ]
  },
  {
   "cell_type": "markdown",
   "id": "60544adc-5ee1-4b17-8b0d-2fd5f86194f5",
   "metadata": {},
   "source": [
    "42. Create a set of the first 5 Fibonacci numbers."
   ]
  },
  {
   "cell_type": "code",
   "execution_count": 42,
   "id": "234df73d-8142-4ed8-bb24-c9e5d1398a77",
   "metadata": {},
   "outputs": [
    {
     "name": "stdout",
     "output_type": "stream",
     "text": [
      "5 Fibonacci series:  {0, 1, 2, 3, 5}\n"
     ]
    }
   ],
   "source": [
    "def fibo(n):\n",
    "    l = [0,1]\n",
    "    for i in range(n-1):\n",
    "        add = l[i] + l[i+1]\n",
    "        l.append(add)\n",
    "    return l\n",
    "print(\"5 Fibonacci series: \",set(fibo(5)))"
   ]
  },
  {
   "cell_type": "markdown",
   "id": "fa24ad9f-0140-42a5-8d85-218166adf4b9",
   "metadata": {},
   "source": [
    "43. Remove duplicates from a list using sets."
   ]
  },
  {
   "cell_type": "code",
   "execution_count": 43,
   "id": "0656e505-8d96-4e20-860a-848cd9d9b3f4",
   "metadata": {},
   "outputs": [
    {
     "name": "stdout",
     "output_type": "stream",
     "text": [
      "[1, 2, 3, 6, 1, 2, 5, 7, 3, 4, 6, 9, 8]\n",
      "{1, 2, 3, 4, 5, 6, 7, 8, 9}\n"
     ]
    }
   ],
   "source": [
    "l = [1,2,3,6,1,2,5,7,3,4,6,9,8]\n",
    "print(l)\n",
    "print(set(l))"
   ]
  },
  {
   "cell_type": "markdown",
   "id": "1228509d-7a76-4a0c-a6f0-51e0f950e426",
   "metadata": {},
   "source": [
    "44. Check if two sets have the same elements, regardless of their count."
   ]
  },
  {
   "cell_type": "code",
   "execution_count": 44,
   "id": "3c15cef5-df42-49d8-a09e-f175308e2f54",
   "metadata": {},
   "outputs": [
    {
     "name": "stdout",
     "output_type": "stream",
     "text": [
      "Sets have same elements\n"
     ]
    }
   ],
   "source": [
    "s1 = {1,3,1,2,2,3,5,4}\n",
    "s2 = {1,2,2,5,4,3}\n",
    "if s1 == s2:\n",
    "    print('Sets have same elements')\n",
    "else:\n",
    "    print(\"Sets doesn't have same elements\")"
   ]
  },
  {
   "cell_type": "markdown",
   "id": "0715a02e-f401-470d-b224-340f363ef2ce",
   "metadata": {},
   "source": [
    "45. Create a set of the first `n` powers of 2."
   ]
  },
  {
   "cell_type": "code",
   "execution_count": 45,
   "id": "d9cee2c4-d01f-43c4-863e-2be67ecc65f2",
   "metadata": {},
   "outputs": [
    {
     "name": "stdin",
     "output_type": "stream",
     "text": [
      "Enter the value of n:  5\n"
     ]
    },
    {
     "name": "stdout",
     "output_type": "stream",
     "text": [
      "{1, 2, 4, 8, 16}\n"
     ]
    }
   ],
   "source": [
    "n = int(input(\"Enter the value of n: \"))\n",
    "s = set(2**i for i in range(n))\n",
    "print(s)"
   ]
  },
  {
   "cell_type": "markdown",
   "id": "471f7f2d-0675-49a2-a935-d4f748c68148",
   "metadata": {},
   "source": [
    "46. Find the common elements between a set and a list."
   ]
  },
  {
   "cell_type": "code",
   "execution_count": 46,
   "id": "177d97a3-a04b-461f-a443-6bacc37bd4d7",
   "metadata": {},
   "outputs": [
    {
     "name": "stdout",
     "output_type": "stream",
     "text": [
      "{3, 7, 9, 12, 15}\n",
      "[7, 12, 5, 9]\n"
     ]
    },
    {
     "data": {
      "text/plain": [
       "{7, 9, 12}"
      ]
     },
     "execution_count": 46,
     "metadata": {},
     "output_type": "execute_result"
    }
   ],
   "source": [
    "my_set = {3, 7, 9, 12, 15}\n",
    "my_list = [7, 12, 5, 9]\n",
    "print(my_set)\n",
    "print(my_list)\n",
    "my_list1 = set(my_list)\n",
    "my_set.intersection(my_list1)"
   ]
  },
  {
   "cell_type": "markdown",
   "id": "aac9b829-67b0-4b28-93c7-e7b65a718089",
   "metadata": {},
   "source": [
    "47. Create a set of the first `n` triangular numbers."
   ]
  },
  {
   "cell_type": "code",
   "execution_count": 47,
   "id": "367d8a81-1bb9-4bac-b62a-089632db64e7",
   "metadata": {},
   "outputs": [
    {
     "name": "stdin",
     "output_type": "stream",
     "text": [
      "Enter the value of n:  5\n"
     ]
    },
    {
     "name": "stdout",
     "output_type": "stream",
     "text": [
      "{1, 3, 6, 10, 15}\n"
     ]
    }
   ],
   "source": [
    "n = int(input(\"Enter the value of n: \"))\n",
    "tri_num = set(i*(i+1)//2 for i in range(1,n+1))\n",
    "print(tri_num)"
   ]
  },
  {
   "cell_type": "markdown",
   "id": "27dd88cd-665c-4942-bf7d-350a7394e3da",
   "metadata": {},
   "source": [
    "48. Check if a set contains another set as a subset."
   ]
  },
  {
   "cell_type": "code",
   "execution_count": 48,
   "id": "f965a94e-1f32-4e11-bf29-1f6b97a52278",
   "metadata": {},
   "outputs": [
    {
     "data": {
      "text/plain": [
       "True"
      ]
     },
     "execution_count": 48,
     "metadata": {},
     "output_type": "execute_result"
    }
   ],
   "source": [
    "s1 = {1,2,3,4,5,6}\n",
    "s2 = {1,3,5}\n",
    "s2.issubset(s1)"
   ]
  },
  {
   "cell_type": "markdown",
   "id": "2e9c8542-96f9-4739-afb7-5d5e9c6b3048",
   "metadata": {},
   "source": [
    "49. Create a set of alternating 1s and 0s of length `n`."
   ]
  },
  {
   "cell_type": "code",
   "execution_count": 49,
   "id": "24f06078-cdac-464a-abe1-f5c8fd9326ab",
   "metadata": {},
   "outputs": [
    {
     "name": "stdin",
     "output_type": "stream",
     "text": [
      "Enter the value of n:  10\n"
     ]
    },
    {
     "name": "stdout",
     "output_type": "stream",
     "text": [
      "{0, 1}\n"
     ]
    }
   ],
   "source": [
    "n = int(input(\"Enter the value of n: \"))\n",
    "s = set(i%2 for i in range(n))\n",
    "print(s)"
   ]
  },
  {
   "cell_type": "markdown",
   "id": "4a84be6b-91a1-4515-8a1e-dd2d244e64bc",
   "metadata": {},
   "source": [
    "50. Merge multiple sets into one."
   ]
  },
  {
   "cell_type": "code",
   "execution_count": 50,
   "id": "9d03150c-8074-4776-910a-8e8841a981a9",
   "metadata": {},
   "outputs": [
    {
     "name": "stdout",
     "output_type": "stream",
     "text": [
      "Merged set: {1, 2, 3, 4, 5, 6, 7, 8, 9}\n"
     ]
    }
   ],
   "source": [
    "s1 = {1,2,3}\n",
    "s2 = {4,5,6}\n",
    "s3 = {7,8,9}\n",
    "merged_set = s1.union(s2,s3)\n",
    "print(f\"Merged set: {merged_set}\")"
   ]
  }
 ],
 "metadata": {
  "kernelspec": {
   "display_name": "Python 3 (ipykernel)",
   "language": "python",
   "name": "python3"
  },
  "language_info": {
   "codemirror_mode": {
    "name": "ipython",
    "version": 3
   },
   "file_extension": ".py",
   "mimetype": "text/x-python",
   "name": "python",
   "nbconvert_exporter": "python",
   "pygments_lexer": "ipython3",
   "version": "3.10.8"
  }
 },
 "nbformat": 4,
 "nbformat_minor": 5
}
